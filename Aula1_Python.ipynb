{
  "nbformat": 4,
  "nbformat_minor": 0,
  "metadata": {
    "colab": {
      "provenance": [],
      "toc_visible": true,
      "authorship_tag": "ABX9TyO0zhNjzXzxFiOuuZa9s9J6",
      "include_colab_link": true
    },
    "kernelspec": {
      "name": "python3",
      "display_name": "Python 3"
    },
    "language_info": {
      "name": "python"
    }
  },
  "cells": [
    {
      "cell_type": "markdown",
      "metadata": {
        "id": "view-in-github",
        "colab_type": "text"
      },
      "source": [
        "<a href=\"https://colab.research.google.com/github/flaviare1s/python-bootcamp-analise-dados-soulcode/blob/main/Aula1_Python.ipynb\" target=\"_parent\"><img src=\"https://colab.research.google.com/assets/colab-badge.svg\" alt=\"Open In Colab\"/></a>"
      ]
    },
    {
      "cell_type": "markdown",
      "source": [
        "# Python - Aula 1\n"
      ],
      "metadata": {
        "id": "10X6Kl8kzedr"
      }
    },
    {
      "cell_type": "markdown",
      "source": [
        "## Utilizando o Google Colab\n"
      ],
      "metadata": {
        "id": "HlSE8LuV1ab0"
      }
    },
    {
      "cell_type": "markdown",
      "source": [
        "### Print"
      ],
      "metadata": {
        "id": "XylZ5neR2pHa"
      }
    },
    {
      "cell_type": "code",
      "execution_count": 1,
      "metadata": {
        "colab": {
          "base_uri": "https://localhost:8080/"
        },
        "id": "XJ9JqpDpwKVd",
        "outputId": "e08f6647-a7ca-437a-af39-4abcba82df2e"
      },
      "outputs": [
        {
          "output_type": "stream",
          "name": "stdout",
          "text": [
            "Hello, World\n"
          ]
        }
      ],
      "source": [
        "# prompt: print('Hello, World')\n",
        "\n",
        "print('Hello, World')\n"
      ]
    },
    {
      "cell_type": "markdown",
      "source": [
        "### Comentários"
      ],
      "metadata": {
        "id": "RTFM5VcA3Fg6"
      }
    },
    {
      "cell_type": "code",
      "source": [
        "'''\n",
        "Isso é um comentário para mais de uma linha em Python\n",
        "'''\n",
        "#Comentário de uma linha\n",
        "\n",
        "print('Teste!')"
      ],
      "metadata": {
        "colab": {
          "base_uri": "https://localhost:8080/"
        },
        "id": "m0Jjk49N3LMi",
        "outputId": "d72ed45d-e3d9-498e-a32a-98f0d346fcd4"
      },
      "execution_count": 4,
      "outputs": [
        {
          "output_type": "stream",
          "name": "stdout",
          "text": [
            "Teste!\n"
          ]
        }
      ]
    },
    {
      "cell_type": "markdown",
      "source": [
        "###Variáveis"
      ],
      "metadata": {
        "id": "4ROe1rE74Z3i"
      }
    },
    {
      "cell_type": "code",
      "source": [
        "nome='Stefane'\n",
        "print(nome)\n",
        "type(nome)"
      ],
      "metadata": {
        "colab": {
          "base_uri": "https://localhost:8080/"
        },
        "id": "LSDH0zFM4dsC",
        "outputId": "c6689896-0482-4af9-dbc4-4cbbcc064393"
      },
      "execution_count": 6,
      "outputs": [
        {
          "output_type": "stream",
          "name": "stdout",
          "text": [
            "Stefane\n"
          ]
        },
        {
          "output_type": "execute_result",
          "data": {
            "text/plain": [
              "str"
            ]
          },
          "metadata": {},
          "execution_count": 6
        }
      ]
    },
    {
      "cell_type": "markdown",
      "source": [
        "#### Tipos de variáveis"
      ],
      "metadata": {
        "id": "qARd5uj060Oj"
      }
    },
    {
      "cell_type": "markdown",
      "source": [
        "- String str\n",
        "- Int\n",
        "- Float"
      ],
      "metadata": {
        "id": "gTxZsJx_7WST"
      }
    }
  ]
}