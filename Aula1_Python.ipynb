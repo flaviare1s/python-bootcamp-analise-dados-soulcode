{
  "nbformat": 4,
  "nbformat_minor": 0,
  "metadata": {
    "colab": {
      "provenance": [],
      "toc_visible": true,
      "authorship_tag": "ABX9TyOjrj/rdZUBvTkV/lwydHpV",
      "include_colab_link": true
    },
    "kernelspec": {
      "name": "python3",
      "display_name": "Python 3"
    },
    "language_info": {
      "name": "python"
    }
  },
  "cells": [
    {
      "cell_type": "markdown",
      "metadata": {
        "id": "view-in-github",
        "colab_type": "text"
      },
      "source": [
        "<a href=\"https://colab.research.google.com/github/flaviare1s/python-bootcamp-analise-dados-soulcode/blob/main/Aula1_Python.ipynb\" target=\"_parent\"><img src=\"https://colab.research.google.com/assets/colab-badge.svg\" alt=\"Open In Colab\"/></a>"
      ]
    },
    {
      "cell_type": "markdown",
      "source": [
        "# Python - Aula 1\n"
      ],
      "metadata": {
        "id": "10X6Kl8kzedr"
      }
    },
    {
      "cell_type": "markdown",
      "source": [
        "## Utilizando o Google Colab\n"
      ],
      "metadata": {
        "id": "HlSE8LuV1ab0"
      }
    },
    {
      "cell_type": "markdown",
      "source": [
        "### Print"
      ],
      "metadata": {
        "id": "XylZ5neR2pHa"
      }
    },
    {
      "cell_type": "code",
      "execution_count": 1,
      "metadata": {
        "colab": {
          "base_uri": "https://localhost:8080/"
        },
        "id": "XJ9JqpDpwKVd",
        "outputId": "e08f6647-a7ca-437a-af39-4abcba82df2e"
      },
      "outputs": [
        {
          "output_type": "stream",
          "name": "stdout",
          "text": [
            "Hello, World\n"
          ]
        }
      ],
      "source": [
        "# prompt: print('Hello, World')\n",
        "\n",
        "print('Hello, World')\n"
      ]
    },
    {
      "cell_type": "markdown",
      "source": [
        "### Comentários"
      ],
      "metadata": {
        "id": "RTFM5VcA3Fg6"
      }
    },
    {
      "cell_type": "code",
      "source": [
        "'''\n",
        "Isso é um comentário para mais de uma linha em Python\n",
        "'''\n",
        "#Comentário de uma linha\n",
        "\n",
        "print('Teste!')"
      ],
      "metadata": {
        "colab": {
          "base_uri": "https://localhost:8080/"
        },
        "id": "m0Jjk49N3LMi",
        "outputId": "d72ed45d-e3d9-498e-a32a-98f0d346fcd4"
      },
      "execution_count": 4,
      "outputs": [
        {
          "output_type": "stream",
          "name": "stdout",
          "text": [
            "Teste!\n"
          ]
        }
      ]
    },
    {
      "cell_type": "markdown",
      "source": [
        "###Variáveis"
      ],
      "metadata": {
        "id": "4ROe1rE74Z3i"
      }
    },
    {
      "cell_type": "code",
      "source": [
        "nome = 'Stefane'\n",
        "print(nome)\n",
        "type(nome)"
      ],
      "metadata": {
        "colab": {
          "base_uri": "https://localhost:8080/"
        },
        "id": "LSDH0zFM4dsC",
        "outputId": "c6689896-0482-4af9-dbc4-4cbbcc064393"
      },
      "execution_count": 6,
      "outputs": [
        {
          "output_type": "stream",
          "name": "stdout",
          "text": [
            "Stefane\n"
          ]
        },
        {
          "output_type": "execute_result",
          "data": {
            "text/plain": [
              "str"
            ]
          },
          "metadata": {},
          "execution_count": 6
        }
      ]
    },
    {
      "cell_type": "markdown",
      "source": [
        "#### Tipos de variáveis"
      ],
      "metadata": {
        "id": "qARd5uj060Oj"
      }
    },
    {
      "cell_type": "markdown",
      "source": [
        "- String str\n",
        "- Int\n",
        "- Float\n",
        "- Boolean"
      ],
      "metadata": {
        "id": "gTxZsJx_7WST"
      }
    },
    {
      "cell_type": "markdown",
      "source": [
        "##### Exercício\n",
        "\n",
        "Atribua e imprima as variáveis nome, idade e altura."
      ],
      "metadata": {
        "id": "qMjWNz5YBifc"
      }
    },
    {
      "cell_type": "code",
      "source": [
        "nome='Flávia'\n",
        "idade=42\n",
        "altura=1.65\n",
        "\n",
        "print(f'Meu nome é {nome}, tenho {idade} anos e {altura}m de altura.')"
      ],
      "metadata": {
        "colab": {
          "base_uri": "https://localhost:8080/"
        },
        "id": "K_acG3Q7CO3k",
        "outputId": "8fbc1c95-1813-49f8-81b7-35ed60bcf10a"
      },
      "execution_count": 9,
      "outputs": [
        {
          "output_type": "stream",
          "name": "stdout",
          "text": [
            "Meu nome é Flávia, tenho 42 anos e 1.65m de altura.\n"
          ]
        }
      ]
    },
    {
      "cell_type": "markdown",
      "source": [
        "#### Tipo Complexo"
      ],
      "metadata": {
        "id": "R94GzhxmNOA2"
      }
    },
    {
      "cell_type": "code",
      "source": [
        "num_complex = 4j\n",
        "print(num_complex)\n",
        "type(num_complex)"
      ],
      "metadata": {
        "colab": {
          "base_uri": "https://localhost:8080/"
        },
        "id": "EXCokbvyNRvn",
        "outputId": "38856b20-5d39-4da7-f188-a0d715a8ec4a"
      },
      "execution_count": 20,
      "outputs": [
        {
          "output_type": "stream",
          "name": "stdout",
          "text": [
            "4j\n"
          ]
        },
        {
          "output_type": "execute_result",
          "data": {
            "text/plain": [
              "complex"
            ]
          },
          "metadata": {},
          "execution_count": 20
        }
      ]
    },
    {
      "cell_type": "markdown",
      "source": [
        "### Conversão de tipos de dados"
      ],
      "metadata": {
        "id": "zbHm4FcdH7yG"
      }
    },
    {
      "cell_type": "code",
      "source": [
        "num= '30'\n",
        "type(num)\n",
        "\n",
        "num = int(num)\n",
        "type(num)\n",
        "\n",
        "num = float(num)\n",
        "type(num)\n",
        "print(num)"
      ],
      "metadata": {
        "colab": {
          "base_uri": "https://localhost:8080/"
        },
        "id": "OUpyPxc4IGj9",
        "outputId": "b893f7b2-cb94-4306-8c79-cfe8e34b9b91"
      },
      "execution_count": 14,
      "outputs": [
        {
          "output_type": "stream",
          "name": "stdout",
          "text": [
            "30.0\n"
          ]
        }
      ]
    },
    {
      "cell_type": "code",
      "source": [
        "x = int(input('Digite um número'))\n",
        "print(x)\n",
        "type(x)"
      ],
      "metadata": {
        "colab": {
          "base_uri": "https://localhost:8080/"
        },
        "id": "7Cu_locibzcJ",
        "outputId": "07f4fd59-68dc-4f8c-d305-23a317c718c0"
      },
      "execution_count": 22,
      "outputs": [
        {
          "output_type": "stream",
          "name": "stdout",
          "text": [
            "Digite um número10\n",
            "10\n"
          ]
        },
        {
          "output_type": "execute_result",
          "data": {
            "text/plain": [
              "int"
            ]
          },
          "metadata": {},
          "execution_count": 22
        }
      ]
    },
    {
      "cell_type": "markdown",
      "source": [
        "### Operadores matemáticos"
      ],
      "metadata": {
        "id": "_gewgYmnKV79"
      }
    },
    {
      "cell_type": "code",
      "source": [
        "soma = 10+10\n",
        "print(soma)\n",
        "\n",
        "subtracao = 10-5\n",
        "print(subtracao)\n",
        "\n",
        "multiplicacao = 10*10\n",
        "print(multiplicacao)\n",
        "\n",
        "divisao = 10/3\n",
        "print(divisao)\n",
        "\n",
        "resto = 10%3\n",
        "print(resto)\n",
        "\n",
        "div_inteira = 10//3\n",
        "print(div_inteira)\n",
        "\n",
        "potencia = 10**3\n",
        "print(potencia)"
      ],
      "metadata": {
        "colab": {
          "base_uri": "https://localhost:8080/"
        },
        "id": "ha14XLkLKYBv",
        "outputId": "862631be-7329-4d7b-a43f-01f5bd073fce"
      },
      "execution_count": 19,
      "outputs": [
        {
          "output_type": "stream",
          "name": "stdout",
          "text": [
            "20\n",
            "5\n",
            "100\n",
            "3.3333333333333335\n",
            "1\n",
            "3\n",
            "1000\n"
          ]
        }
      ]
    },
    {
      "cell_type": "markdown",
      "source": [
        "### Operadores de comparação"
      ],
      "metadata": {
        "id": "4kqVFthpTN_4"
      }
    },
    {
      "cell_type": "code",
      "source": [
        "igual = (10 == 10)\n",
        "print(igual)\n",
        "\n",
        "diferente = (10 != 10)\n",
        "print(diferente)\n",
        "\n",
        "maior = (10 > 10)\n",
        "print(maior)\n",
        "\n",
        "menor = (10 < 10)\n",
        "print(menor)\n",
        "\n",
        "maior_igual = (10 >= 10)\n",
        "print(maior_igual)\n",
        "\n",
        "menor_igual = (10 <= 10)\n",
        "print(menor_igual)"
      ],
      "metadata": {
        "colab": {
          "base_uri": "https://localhost:8080/"
        },
        "id": "U461Q2nRTT5v",
        "outputId": "db306bb2-aa9b-4724-e6b0-fad3459af93d"
      },
      "execution_count": 21,
      "outputs": [
        {
          "output_type": "stream",
          "name": "stdout",
          "text": [
            "True\n",
            "False\n",
            "False\n",
            "False\n",
            "True\n",
            "True\n"
          ]
        }
      ]
    },
    {
      "cell_type": "markdown",
      "source": [
        "Exercício:\n",
        "Peça para o usuário inserir dois números, faça todas as operações matemáticas e compare-os:"
      ],
      "metadata": {
        "id": "k-SYMr63df_h"
      }
    },
    {
      "cell_type": "code",
      "source": [
        "n1 = int(input('Digite um número '))\n",
        "n2 = int(input('Digite outro número 2'))\n",
        "\n",
        "print(f'soma: {n1+n2}')\n",
        "print(f'subtração: {n1-n2}')\n",
        "print(f'multiplicação: {n1*n2}')\n",
        "print(f'divisão: {n1/n2}')\n",
        "print(f'resto: {n1%n2}')\n",
        "print(f'divisão inteira: {n1//n2}')\n",
        "print(f'potencia: {n1**n2}')\n",
        "\n",
        "print(n1 == n2)\n",
        "print(n1 != n2)\n",
        "print(n1 > n2)\n",
        "print(n1 < n2)\n",
        "print(n1 >= n2)\n",
        "print(n1 <= n2)\n",
        "\n"
      ],
      "metadata": {
        "colab": {
          "base_uri": "https://localhost:8080/"
        },
        "id": "jfpf5pCsd0dz",
        "outputId": "19eda657-98c2-4290-9ff3-11ec970fc08f"
      },
      "execution_count": 27,
      "outputs": [
        {
          "output_type": "stream",
          "name": "stdout",
          "text": [
            "Digite um número 2\n",
            "Digite outro número 23\n",
            "soma: 5\n",
            "subtração: -1\n",
            "multiplicação: 6\n",
            "divisão: 0.6666666666666666\n",
            "resto: 2\n",
            "divisão inteira: 0\n",
            "potencia: 8\n",
            "False\n",
            "True\n",
            "False\n",
            "True\n",
            "False\n",
            "True\n"
          ]
        }
      ]
    }
  ]
}