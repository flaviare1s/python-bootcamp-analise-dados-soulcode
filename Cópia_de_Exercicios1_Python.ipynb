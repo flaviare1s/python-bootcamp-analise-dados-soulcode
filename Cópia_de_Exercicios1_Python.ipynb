{
  "cells": [
    {
      "cell_type": "markdown",
      "metadata": {
        "colab_type": "text",
        "id": "view-in-github"
      },
      "source": [
        "<a href=\"https://colab.research.google.com/github/flaviare1s/python-bootcamp-analise-dados-soulcode/blob/main/C%C3%B3pia_de_Exercicios1_Python.ipynb\" target=\"_parent\"><img src=\"https://colab.research.google.com/assets/colab-badge.svg\" alt=\"Open In Colab\"/></a>"
      ]
    },
    {
      "cell_type": "markdown",
      "metadata": {
        "id": "cJjgj1FE1SM8"
      },
      "source": [
        "1-Crie três variáveis representando seu nome, sua idade e sua altura. Exiba-as no console."
      ]
    },
    {
      "cell_type": "code",
      "execution_count": 1,
      "metadata": {
        "colab": {
          "base_uri": "https://localhost:8080/"
        },
        "id": "w_9kNzh41Jls",
        "outputId": "9f567966-3631-4c4d-d3e3-d3170bd78bd4"
      },
      "outputs": [
        {
          "name": "stdout",
          "output_type": "stream",
          "text": [
            "Meu nome é Flávia, tenho 42 anos de idade e 1.51m de altura.\n"
          ]
        }
      ],
      "source": [
        "nome = 'Flávia'\n",
        "idade = 42\n",
        "altura = 1.51\n",
        "\n",
        "print(f'Meu nome é {nome}, tenho {idade} anos de idade e {altura}m de altura.')"
      ]
    },
    {
      "cell_type": "markdown",
      "metadata": {
        "id": "OEjPlhCU1Szk"
      },
      "source": [
        "2- Descubra o tipo de cada variável ciada no exercício 1."
      ]
    },
    {
      "cell_type": "code",
      "execution_count": 2,
      "metadata": {
        "colab": {
          "base_uri": "https://localhost:8080/"
        },
        "id": "ipyhG4-k1TCi",
        "outputId": "9a460a7e-05d1-4158-b75b-79a7beea94de"
      },
      "outputs": [
        {
          "data": {
            "text/plain": [
              "(str, int, float)"
            ]
          },
          "execution_count": 2,
          "metadata": {},
          "output_type": "execute_result"
        }
      ],
      "source": [
        "type(nome), type(idade), type(altura)"
      ]
    },
    {
      "cell_type": "markdown",
      "metadata": {
        "id": "5v4vpw5l2M-e"
      },
      "source": [
        "3- Converta a variável idade para float e a altura para int. Depois, exiba os novos valores."
      ]
    },
    {
      "cell_type": "code",
      "execution_count": 3,
      "metadata": {
        "colab": {
          "base_uri": "https://localhost:8080/"
        },
        "id": "3B6amjxY2YjT",
        "outputId": "48b9800f-219f-4d36-ccad-563fe9cba217"
      },
      "outputs": [
        {
          "name": "stdout",
          "output_type": "stream",
          "text": [
            "Idade: 42.0, Altura: 1\n"
          ]
        }
      ],
      "source": [
        "idade = float(idade)\n",
        "altura = int(altura)\n",
        "\n",
        "print(f'Idade: {idade}, Altura: {altura}')"
      ]
    },
    {
      "cell_type": "markdown",
      "metadata": {
        "id": "cFeFSIqS2R8r"
      },
      "source": [
        " 4- Faça um programa que peça dois números ao usuário e mostre a soma, subtração, multiplicação e divisão entre eles."
      ]
    },
    {
      "cell_type": "code",
      "execution_count": 7,
      "metadata": {
        "colab": {
          "base_uri": "https://localhost:8080/"
        },
        "id": "mSJ4kEK72Y9D",
        "outputId": "ebf4c31e-7b75-4d80-e575-df4ff5939856"
      },
      "outputs": [
        {
          "name": "stdout",
          "output_type": "stream",
          "text": [
            "Digite um número: 2\n",
            "Digite outro número: 2\n",
            "Soma: 4\n",
            "Subtração: 0\n",
            "Multiplicação: 4\n",
            "Divisão: 1.0\n"
          ]
        }
      ],
      "source": [
        "a = int(input('Digite um número: '))\n",
        "b = int(input('Digite outro número: '))\n",
        "\n",
        "print(f'Soma: {a+b}')\n",
        "print(f'Subtração: {a-b}')\n",
        "print(f'Multiplicação: {a*b}')\n",
        "print(f'Divisão: {a/b}')"
      ]
    },
    {
      "cell_type": "markdown",
      "metadata": {
        "id": "SeVD8UBz2Vdi"
      },
      "source": [
        "5- Crie um programa que receba a idade de uma pessoa e verifique se ela é maior de idade (18 anos ou mais)."
      ]
    },
    {
      "cell_type": "code",
      "execution_count": 8,
      "metadata": {
        "colab": {
          "base_uri": "https://localhost:8080/"
        },
        "id": "FVqNVjPN2ZPc",
        "outputId": "fa57020e-91ca-47ef-bfca-7cda516ebe7b"
      },
      "outputs": [
        {
          "name": "stdout",
          "output_type": "stream",
          "text": [
            "Digite a idade: 22\n",
            "Maior de idade\n"
          ]
        }
      ],
      "source": [
        "idadePessoa = int(input('Digite a idade: '))\n",
        "\n",
        "if idadePessoa >= 18:\n",
        "  print('Maior de idade')\n",
        "else:\n",
        "  print('Menor de idade')"
      ]
    },
    {
      "cell_type": "markdown",
      "metadata": {
        "id": "4RsWvNmI2Z78"
      },
      "source": [
        " 6- Calculadora de IMC: Peça o peso e altura do usuário e calcule o Índice de Massa Corporal (IMC)."
      ]
    },
    {
      "cell_type": "code",
      "execution_count": 9,
      "metadata": {
        "colab": {
          "base_uri": "https://localhost:8080/"
        },
        "id": "V9EkYrFu2eQ6",
        "outputId": "10fcc8c3-c61a-4705-c5c9-532ba95a4a51"
      },
      "outputs": [
        {
          "name": "stdout",
          "output_type": "stream",
          "text": [
            "Digite seu peso: 44\n",
            "Digite sua altura: 1.5\n",
            "Seu IMC é: 19.555555555555557\n"
          ]
        }
      ],
      "source": [
        "peso = float(input('Digite seu peso: '))\n",
        "altura = float(input('Digite sua altura: '))\n",
        "\n",
        "imc = peso / (altura ** 2)\n",
        "\n",
        "print(f'Seu IMC é: {imc}')"
      ]
    },
    {
      "cell_type": "markdown",
      "metadata": {
        "id": "Ye06Uwir2e0i"
      },
      "source": [
        " 7-Verificador de Número Par ou Ímpar:"
      ]
    },
    {
      "cell_type": "code",
      "execution_count": 10,
      "metadata": {
        "colab": {
          "base_uri": "https://localhost:8080/"
        },
        "id": "KAwOgyqK2i9j",
        "outputId": "cd4ad432-cda5-4385-e165-333b9afb32ef"
      },
      "outputs": [
        {
          "name": "stdout",
          "output_type": "stream",
          "text": [
            "Digite um número: 2\n",
            "Par\n"
          ]
        }
      ],
      "source": [
        "numero = int(input('Digite um número: '))\n",
        "\n",
        "if numero % 2 == 0:\n",
        "  print('Par')\n",
        "else:\n",
        "  print('Ímpar')"
      ]
    },
    {
      "cell_type": "markdown",
      "metadata": {
        "id": "Ffq8DpFJ2jgS"
      },
      "source": [
        "8- Conversor de Temperatura de Celsius para Fahrenheint"
      ]
    },
    {
      "cell_type": "code",
      "execution_count": null,
      "metadata": {
        "colab": {
          "base_uri": "https://localhost:8080/"
        },
        "id": "BEjHUkio20nC",
        "outputId": "075a9266-3a2f-4f83-d5e9-e02a7fc309cf"
      },
      "outputs": [
        {
          "name": "stdout",
          "output_type": "stream",
          "text": [
            "Digite a temperatura em Celsius: 37\n",
            "A temperatura em Fahrenheit é: 98.6\n"
          ]
        }
      ],
      "source": [
        "temperatura = float(input('Digite a temperatura em Celsius: '))\n",
        "\n",
        "fahrenheit = (temperatura * 9/5) + 32\n",
        "\n",
        "print(f'A temperatura em Fahrenheit é: {fahrenheit}')"
      ]
    },
    {
      "cell_type": "markdown",
      "metadata": {
        "id": "DBDOW7fU21Eb"
      },
      "source": [
        "9- Média de Notas: Peça três notas ao usuário e calcule a média."
      ]
    },
    {
      "cell_type": "code",
      "execution_count": 12,
      "metadata": {
        "colab": {
          "base_uri": "https://localhost:8080/"
        },
        "id": "j-k-JWy13MwC",
        "outputId": "0fe35428-f7a1-4d79-8408-12720355f82d"
      },
      "outputs": [
        {
          "name": "stdout",
          "output_type": "stream",
          "text": [
            "Digite a primeira nota: 5\n",
            "Digite a segunda nota: 10\n",
            "Digite a terceira nota: 9.7\n",
            "A média é: 8.233333333333333\n"
          ]
        }
      ],
      "source": [
        "nota1 = float(input('Digite a primeira nota: '))\n",
        "nota2 = float(input('Digite a segunda nota: '))\n",
        "nota3 = float(input('Digite a terceira nota: '))\n",
        "\n",
        "media = (nota1 + nota2 + nota3) / 3\n",
        "\n",
        "print(f'A média é: {media}')"
      ]
    },
    {
      "cell_type": "markdown",
      "metadata": {
        "id": "rfldAQLt3NEc"
      },
      "source": [
        "10 - Calculo de Juros Compostos:\n",
        "\n",
        "\n",
        "```\n",
        "M=C(1+i)^t\n",
        "```\n",
        "Sendo:\n",
        "* C= Capital inicial\n",
        "* i= Taxa de juros\n",
        "* t= Tempo(meses)\n",
        "\n"
      ]
    },
    {
      "cell_type": "code",
      "execution_count": 16,
      "metadata": {
        "colab": {
          "base_uri": "https://localhost:8080/"
        },
        "id": "XGzo0Y3A3zfQ",
        "outputId": "3f3aaf45-c3eb-463a-9882-5972603a851a"
      },
      "outputs": [
        {
          "name": "stdout",
          "output_type": "stream",
          "text": [
            "Digite o capital inicial: 200\n",
            "Digite a taxa de juros (em %): 2\n",
            "Digite o tempo em meses: 2\n",
            "O valor final é: 208.07999999999998\n"
          ]
        }
      ],
      "source": [
        "C = float(input('Digite o capital inicial: '))\n",
        "i = float(input('Digite a taxa de juros (em %): ')) / 100\n",
        "t = int(input('Digite o tempo em meses: '))\n",
        "\n",
        "jurosCompostos = C*(1 + i) ** t\n",
        "\n",
        "print(f'O valor final é: {jurosCompostos}')"
      ]
    },
    {
      "cell_type": "markdown",
      "metadata": {
        "id": "-OEOClEi5bYj"
      },
      "source": [
        "11- Comparação de Dois Números\n",
        "Peça dois números ao usuário e exiba se eles são iguais, diferentes, maior, menor, etc."
      ]
    },
    {
      "cell_type": "code",
      "execution_count": 17,
      "metadata": {
        "colab": {
          "base_uri": "https://localhost:8080/"
        },
        "id": "3H_7sd_k5dsC",
        "outputId": "d199304f-f5bf-4ad4-d9d6-ceaf92638c65"
      },
      "outputs": [
        {
          "name": "stdout",
          "output_type": "stream",
          "text": [
            "Digite o primeiro número: 2\n",
            "Digite o segundo número: 2\n",
            "São iguais? True\n",
            "São diferentes? False\n",
            "O primeiro é maior? False\n",
            "O primeiro é menor? False\n"
          ]
        }
      ],
      "source": [
        "n1 = int(input('Digite o primeiro número: '))\n",
        "n2 = int(input('Digite o segundo número: '))\n",
        "\n",
        "print(f'São iguais? {n1 == n2}')\n",
        "print(f'São diferentes? {n1 != n2}')\n",
        "print(f'O primeiro é maior? {n1 > n2}')\n",
        "print(f'O primeiro é menor? {n1 < n2}')"
      ]
    },
    {
      "cell_type": "markdown",
      "metadata": {
        "id": "BRRTh3hJ5eJy"
      },
      "source": [
        "12- Conversor de Moeda\n",
        "Peça um valor em reais e converta para dólares (suponha uma taxa de câmbio de R$ 5,00 por USD)."
      ]
    },
    {
      "cell_type": "code",
      "execution_count": 18,
      "metadata": {
        "colab": {
          "base_uri": "https://localhost:8080/"
        },
        "id": "QZTmjuxL5r8a",
        "outputId": "d5649696-3141-4d2f-ea5b-e3304fbddbcf"
      },
      "outputs": [
        {
          "name": "stdout",
          "output_type": "stream",
          "text": [
            "Digite o valor em reais: 200\n",
            "O valor em dólar é: 40.0\n"
          ]
        }
      ],
      "source": [
        "valor = float(input('Digite o valor em reais: '))\n",
        "\n",
        "dolar = valor / 5\n",
        "\n",
        "print(f'O valor em dólar é: {dolar}')\n"
      ]
    }
  ],
  "metadata": {
    "colab": {
      "include_colab_link": true,
      "provenance": []
    },
    "kernelspec": {
      "display_name": "Python 3",
      "name": "python3"
    },
    "language_info": {
      "name": "python"
    }
  },
  "nbformat": 4,
  "nbformat_minor": 0
}
