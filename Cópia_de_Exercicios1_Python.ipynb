{
  "nbformat": 4,
  "nbformat_minor": 0,
  "metadata": {
    "colab": {
      "provenance": [],
      "include_colab_link": true
    },
    "kernelspec": {
      "name": "python3",
      "display_name": "Python 3"
    },
    "language_info": {
      "name": "python"
    }
  },
  "cells": [
    {
      "cell_type": "markdown",
      "metadata": {
        "id": "view-in-github",
        "colab_type": "text"
      },
      "source": [
        "<a href=\"https://colab.research.google.com/github/flaviare1s/python-bootcamp-analise-dados-soulcode/blob/main/C%C3%B3pia_de_Exercicios1_Python.ipynb\" target=\"_parent\"><img src=\"https://colab.research.google.com/assets/colab-badge.svg\" alt=\"Open In Colab\"/></a>"
      ]
    },
    {
      "cell_type": "markdown",
      "source": [
        "1-Crie três variáveis representando seu nome, sua idade e sua altura. Exiba-as no console."
      ],
      "metadata": {
        "id": "cJjgj1FE1SM8"
      }
    },
    {
      "cell_type": "code",
      "execution_count": 1,
      "metadata": {
        "id": "w_9kNzh41Jls",
        "colab": {
          "base_uri": "https://localhost:8080/"
        },
        "outputId": "9f567966-3631-4c4d-d3e3-d3170bd78bd4"
      },
      "outputs": [
        {
          "output_type": "stream",
          "name": "stdout",
          "text": [
            "Meu nome é Flávia, tenho 42 anos de idade e 1.51m de altura.\n"
          ]
        }
      ],
      "source": [
        "nome = 'Flávia'\n",
        "idade = 42\n",
        "altura = 1.51\n",
        "\n",
        "print(f'Meu nome é {nome}, tenho {idade} anos de idade e {altura}m de altura.')"
      ]
    },
    {
      "cell_type": "markdown",
      "source": [
        "2- Descubra o tipo de cada variável ciada no exercício 1."
      ],
      "metadata": {
        "id": "OEjPlhCU1Szk"
      }
    },
    {
      "cell_type": "code",
      "source": [
        "type(nome), type(idade), type(altura)"
      ],
      "metadata": {
        "id": "ipyhG4-k1TCi",
        "colab": {
          "base_uri": "https://localhost:8080/"
        },
        "outputId": "9a460a7e-05d1-4158-b75b-79a7beea94de"
      },
      "execution_count": 2,
      "outputs": [
        {
          "output_type": "execute_result",
          "data": {
            "text/plain": [
              "(str, int, float)"
            ]
          },
          "metadata": {},
          "execution_count": 2
        }
      ]
    },
    {
      "cell_type": "markdown",
      "source": [
        "3- Converta a variável idade para float e a altura para int. Depois, exiba os novos valores."
      ],
      "metadata": {
        "id": "5v4vpw5l2M-e"
      }
    },
    {
      "cell_type": "code",
      "source": [
        "idade = float(idade)\n",
        "altura = int(altura)\n",
        "\n",
        "print(f'Idade: {idade}, Altura: {altura}')"
      ],
      "metadata": {
        "id": "3B6amjxY2YjT",
        "colab": {
          "base_uri": "https://localhost:8080/"
        },
        "outputId": "48b9800f-219f-4d36-ccad-563fe9cba217"
      },
      "execution_count": 3,
      "outputs": [
        {
          "output_type": "stream",
          "name": "stdout",
          "text": [
            "Idade: 42.0, Altura: 1\n"
          ]
        }
      ]
    },
    {
      "cell_type": "markdown",
      "source": [
        " 4- Faça um programa que peça dois números ao usuário e mostre a soma, subtração, multiplicação e divisão entre eles."
      ],
      "metadata": {
        "id": "cFeFSIqS2R8r"
      }
    },
    {
      "cell_type": "code",
      "source": [
        "a = int(input('Digite um número: '))\n",
        "b = int(input('Digite outro número: '))\n",
        "\n",
        "print(f'Soma: {a+b}')\n",
        "print(f'Subtração: {a-b}')\n",
        "print(f'Multiplicação: {a*b}')\n",
        "print(f'Divisão: {a/b}')"
      ],
      "metadata": {
        "id": "mSJ4kEK72Y9D",
        "colab": {
          "base_uri": "https://localhost:8080/"
        },
        "outputId": "ebf4c31e-7b75-4d80-e575-df4ff5939856"
      },
      "execution_count": 7,
      "outputs": [
        {
          "output_type": "stream",
          "name": "stdout",
          "text": [
            "Digite um número: 2\n",
            "Digite outro número: 2\n",
            "Soma: 4\n",
            "Subtração: 0\n",
            "Multiplicação: 4\n",
            "Divisão: 1.0\n"
          ]
        }
      ]
    },
    {
      "cell_type": "markdown",
      "source": [
        "5- Crie um programa que receba a idade de uma pessoa e verifique se ela é maior de idade (18 anos ou mais)."
      ],
      "metadata": {
        "id": "SeVD8UBz2Vdi"
      }
    },
    {
      "cell_type": "code",
      "source": [
        "idadePessoa = int(input('Digite a idade: '))\n",
        "\n",
        "if idadePessoa >= 18:\n",
        "  print('Maior de idade')\n",
        "else:\n",
        "  print('Menor de idade')"
      ],
      "metadata": {
        "id": "FVqNVjPN2ZPc",
        "colab": {
          "base_uri": "https://localhost:8080/"
        },
        "outputId": "fa57020e-91ca-47ef-bfca-7cda516ebe7b"
      },
      "execution_count": 8,
      "outputs": [
        {
          "output_type": "stream",
          "name": "stdout",
          "text": [
            "Digite a idade: 22\n",
            "Maior de idade\n"
          ]
        }
      ]
    },
    {
      "cell_type": "markdown",
      "source": [
        " 6- Calculadora de IMC: Peça o peso e altura do usuário e calcule o Índice de Massa Corporal (IMC)."
      ],
      "metadata": {
        "id": "4RsWvNmI2Z78"
      }
    },
    {
      "cell_type": "code",
      "source": [
        "peso = float(input('Digite seu peso: '))\n",
        "altura = float(input('Digite sua altura: '))\n",
        "\n",
        "imc = peso / (altura ** 2)\n",
        "\n",
        "print(f'Seu IMC é: {imc}')"
      ],
      "metadata": {
        "id": "V9EkYrFu2eQ6",
        "colab": {
          "base_uri": "https://localhost:8080/"
        },
        "outputId": "10fcc8c3-c61a-4705-c5c9-532ba95a4a51"
      },
      "execution_count": 9,
      "outputs": [
        {
          "output_type": "stream",
          "name": "stdout",
          "text": [
            "Digite seu peso: 44\n",
            "Digite sua altura: 1.5\n",
            "Seu IMC é: 19.555555555555557\n"
          ]
        }
      ]
    },
    {
      "cell_type": "markdown",
      "source": [
        " 7-Verificador de Número Par ou Ímpar:"
      ],
      "metadata": {
        "id": "Ye06Uwir2e0i"
      }
    },
    {
      "cell_type": "code",
      "source": [
        "numero = int(input('Digite um número: '))\n",
        "\n",
        "if numero % 2 == 0:\n",
        "  print('Par')\n",
        "else:\n",
        "  print('Ímpar')"
      ],
      "metadata": {
        "id": "KAwOgyqK2i9j",
        "colab": {
          "base_uri": "https://localhost:8080/"
        },
        "outputId": "cd4ad432-cda5-4385-e165-333b9afb32ef"
      },
      "execution_count": 10,
      "outputs": [
        {
          "output_type": "stream",
          "name": "stdout",
          "text": [
            "Digite um número: 2\n",
            "Par\n"
          ]
        }
      ]
    },
    {
      "cell_type": "markdown",
      "source": [
        "8- Conversor de Temperatura de Celsius para Fahrenheint"
      ],
      "metadata": {
        "id": "Ffq8DpFJ2jgS"
      }
    },
    {
      "cell_type": "code",
      "source": [
        "temperatura = float(input('Digite a temperatura em Celsius: '))\n",
        "\n",
        "fahrenheit = (temperatura * 9/5) + 32\n",
        "\n",
        "print(f'A temperatura em Fahrenheit é: {fahrenheit}')"
      ],
      "metadata": {
        "id": "BEjHUkio20nC",
        "colab": {
          "base_uri": "https://localhost:8080/"
        },
        "outputId": "075a9266-3a2f-4f83-d5e9-e02a7fc309cf"
      },
      "execution_count": 11,
      "outputs": [
        {
          "output_type": "stream",
          "name": "stdout",
          "text": [
            "Digite a temperatura em Celsius: 37\n",
            "A temperatura em Fahrenheit é: 98.6\n"
          ]
        }
      ]
    },
    {
      "cell_type": "markdown",
      "source": [
        "9- Média de Notas: Peça três notas ao usuário e calcule a média."
      ],
      "metadata": {
        "id": "DBDOW7fU21Eb"
      }
    },
    {
      "cell_type": "code",
      "source": [
        "nota1 = float(input('Digite a primeira nota: '))\n",
        "nota2 = float(input('Digite a segunda nota: '))\n",
        "nota3 = float(input('Digite a terceira nota: '))\n",
        "\n",
        "media = (nota1 + nota2 + nota3) / 3\n",
        "\n",
        "print(f'A média é: {media}')"
      ],
      "metadata": {
        "id": "j-k-JWy13MwC",
        "colab": {
          "base_uri": "https://localhost:8080/"
        },
        "outputId": "0fe35428-f7a1-4d79-8408-12720355f82d"
      },
      "execution_count": 12,
      "outputs": [
        {
          "output_type": "stream",
          "name": "stdout",
          "text": [
            "Digite a primeira nota: 5\n",
            "Digite a segunda nota: 10\n",
            "Digite a terceira nota: 9.7\n",
            "A média é: 8.233333333333333\n"
          ]
        }
      ]
    },
    {
      "cell_type": "markdown",
      "source": [
        "10 - Calculo de Juros Compostos:\n",
        "\n",
        "\n",
        "```\n",
        "M=C(1+i)^t\n",
        "```\n",
        "Sendo:\n",
        "* C= Capital inicial\n",
        "* i= Taxa de juros\n",
        "* t= Tempo(meses)\n",
        "\n"
      ],
      "metadata": {
        "id": "rfldAQLt3NEc"
      }
    },
    {
      "cell_type": "code",
      "source": [
        "C = float(input('Digite o capital inicial: '))\n",
        "i = float(input('Digite a taxa de juros (em %): ')) / 100\n",
        "t = int(input('Digite o tempo em meses: '))\n",
        "\n",
        "jurosCompostos = C*(1 + i) ** t\n",
        "\n",
        "print(f'O valor final é: {jurosCompostos}')"
      ],
      "metadata": {
        "id": "XGzo0Y3A3zfQ",
        "colab": {
          "base_uri": "https://localhost:8080/"
        },
        "outputId": "3f3aaf45-c3eb-463a-9882-5972603a851a"
      },
      "execution_count": 16,
      "outputs": [
        {
          "output_type": "stream",
          "name": "stdout",
          "text": [
            "Digite o capital inicial: 200\n",
            "Digite a taxa de juros (em %): 2\n",
            "Digite o tempo em meses: 2\n",
            "O valor final é: 208.07999999999998\n"
          ]
        }
      ]
    },
    {
      "cell_type": "markdown",
      "source": [
        "11- Comparação de Dois Números\n",
        "Peça dois números ao usuário e exiba se eles são iguais, diferentes, maior, menor, etc."
      ],
      "metadata": {
        "id": "-OEOClEi5bYj"
      }
    },
    {
      "cell_type": "code",
      "source": [
        "n1 = int(input('Digite o primeiro número: '))\n",
        "n2 = int(input('Digite o segundo número: '))\n",
        "\n",
        "print(f'São iguais? {n1 == n2}')\n",
        "print(f'São diferentes? {n1 != n2}')\n",
        "print(f'O primeiro é maior? {n1 > n2}')\n",
        "print(f'O primeiro é menor? {n1 < n2}')"
      ],
      "metadata": {
        "id": "3H_7sd_k5dsC",
        "colab": {
          "base_uri": "https://localhost:8080/"
        },
        "outputId": "d199304f-f5bf-4ad4-d9d6-ceaf92638c65"
      },
      "execution_count": 17,
      "outputs": [
        {
          "output_type": "stream",
          "name": "stdout",
          "text": [
            "Digite o primeiro número: 2\n",
            "Digite o segundo número: 2\n",
            "São iguais? True\n",
            "São diferentes? False\n",
            "O primeiro é maior? False\n",
            "O primeiro é menor? False\n"
          ]
        }
      ]
    },
    {
      "cell_type": "markdown",
      "source": [
        "12- Conversor de Moeda\n",
        "Peça um valor em reais e converta para dólares (suponha uma taxa de câmbio de R$ 5,00 por USD)."
      ],
      "metadata": {
        "id": "BRRTh3hJ5eJy"
      }
    },
    {
      "cell_type": "code",
      "source": [
        "valor = float(input('Digite o valor em reais: '))\n",
        "\n",
        "dolar = valor / 5\n",
        "\n",
        "print(f'O valor em dólar é: {dolar}')\n"
      ],
      "metadata": {
        "id": "QZTmjuxL5r8a",
        "colab": {
          "base_uri": "https://localhost:8080/"
        },
        "outputId": "d5649696-3141-4d2f-ea5b-e3304fbddbcf"
      },
      "execution_count": 18,
      "outputs": [
        {
          "output_type": "stream",
          "name": "stdout",
          "text": [
            "Digite o valor em reais: 200\n",
            "O valor em dólar é: 40.0\n"
          ]
        }
      ]
    }
  ]
}