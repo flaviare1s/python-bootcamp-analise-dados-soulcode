{
  "cells": [
    {
      "cell_type": "markdown",
      "metadata": {
        "colab_type": "text",
        "id": "view-in-github"
      },
      "source": [
        "<a href=\"https://colab.research.google.com/github/flaviare1s/python-bootcamp-analise-dados-soulcode/blob/main/C%C3%B3pia_de_Exercicios_IF_ELSE_Python.ipynb\" target=\"_parent\"><img src=\"https://colab.research.google.com/assets/colab-badge.svg\" alt=\"Open In Colab\"/></a>"
      ]
    },
    {
      "cell_type": "markdown",
      "metadata": {
        "id": "t6ZahNQ_4KON"
      },
      "source": [
        "#Exercício 1"
      ]
    },
    {
      "cell_type": "markdown",
      "metadata": {
        "id": "POU_8xdV32xt"
      },
      "source": [
        "Bruno gerencia um pequeno comércio e quer saber qual produto teve o melhor desempenho de vendas no mês passado. Ele registrou a quantidade vendida de dois produtos: maçãs e bananas. Agora, ele precisa escrever um programa que identifique e exiba qual deles teve maior venda.\n",
        "\n",
        "Crie um programa que receba o número de vendas dos dois produtos e exiba uma mensagem indicando qual deles vendeu mais. Se as quantidades forem iguais, exiba uma mensagem dizendo que houve empate.\n",
        "\n"
      ]
    },
    {
      "cell_type": "code",
      "execution_count": 2,
      "metadata": {
        "colab": {
          "base_uri": "https://localhost:8080/"
        },
        "id": "GTYXcodQ3xyF",
        "outputId": "4fd7dd99-2638-4439-c744-47a23c3311dd"
      },
      "outputs": [
        {
          "name": "stdout",
          "output_type": "stream",
          "text": [
            "Digite a quantidade de maçãs vendidas: 5\n",
            "Digite a quantidade de bananas vendidas: 2\n",
            "A quantidade de maçãs vendidas foi maior que a quantidade de bananas vendidas.\n"
          ]
        }
      ],
      "source": [
        "macas = int(input(\"Digite a quantidade de maçãs vendidas: \"))\n",
        "bananas = int(input(\"Digite a quantidade de bananas vendidas: \"))\n",
        "\n",
        "if macas > bananas:\n",
        "  print(\"A quantidade de maçãs vendidas foi maior que a quantidade de bananas vendidas.\")\n",
        "elif bananas > macas:\n",
        "  print(\"A quantidade de bananas vendidas foi maior que a quantidade de maçãs vendidas.\")\n",
        "else:\n",
        "  print(\"A quantidade de maçãs vendidas foi igual a quantidade de bananas vendidas.\")"
      ]
    },
    {
      "cell_type": "markdown",
      "metadata": {
        "id": "P5fSfhPs4k0a"
      },
      "source": [
        "Camila está organizando um projeto e precisa calcular o tempo total necessário para concluir três atividades: A, B e C. No entanto, se alguma atividade tiver um número de dias negativo, o código deve avisar que os valores inseridos são inválidos e não calcular o total.\n",
        "\n",
        "Escreva um programa que receba o número de dias de três atividades e exiba o tempo total do projeto. Se algum valor for negativo, mostre uma mensagem informando o erro."
      ]
    },
    {
      "cell_type": "code",
      "execution_count": 4,
      "metadata": {
        "colab": {
          "base_uri": "https://localhost:8080/"
        },
        "id": "-fQyjuPC4qFS",
        "outputId": "85015992-0571-473d-b3d3-236e1ea7d783"
      },
      "outputs": [
        {
          "name": "stdout",
          "output_type": "stream",
          "text": [
            "Digite o número de dias da atividade 1: -1\n",
            "Digite o número de dias da atividade 2: 2\n",
            "Digite o número de dias da atividade 3: 4\n",
            "Os valores inseridos são inválidos.\n"
          ]
        }
      ],
      "source": [
        "dia_1 = int(input(\"Digite o número de dias da atividade 1: \"))\n",
        "dia_2 = int(input(\"Digite o número de dias da atividade 2: \"))\n",
        "dia_3 = int(input(\"Digite o número de dias da atividade 3: \"))\n",
        "\n",
        "if dia_1 < 0 or dia_2 < 0 or dia_3 < 0:\n",
        "  print(\"Os valores inseridos são inválidos.\")\n",
        "else:\n",
        "  print(\"O tempo total do projeto é de\", dia_1 + dia_2 + dia_3, \"dias.\")"
      ]
    },
    {
      "cell_type": "markdown",
      "metadata": {
        "id": "xc3md3GH4smV"
      },
      "source": [
        "#Exercicio 3"
      ]
    },
    {
      "cell_type": "markdown",
      "metadata": {
        "id": "RleQ0M114vzS"
      },
      "source": [
        "Lucas trabalha em TI e precisa garantir que a temperatura de uma sala de servidores não ultrapasse 25°C. Ele quer um programa que receba a temperatura atual como entrada e, se necessário, exiba uma mensagem de alerta."
      ]
    },
    {
      "cell_type": "code",
      "execution_count": 5,
      "metadata": {
        "colab": {
          "base_uri": "https://localhost:8080/"
        },
        "id": "90I7Jk_24vUN",
        "outputId": "1b06cc79-e086-46fe-b752-d2ad5bc97ba1"
      },
      "outputs": [
        {
          "name": "stdout",
          "output_type": "stream",
          "text": [
            "Digite a temperatura atual: 25\n",
            "A temperatura está dentro do permitido.\n"
          ]
        }
      ],
      "source": [
        "temperatura = float(input(\"Digite a temperatura atual: \"))\n",
        "\n",
        "if temperatura > 25:\n",
        "  print(\"CUIDADO! A temperatura está acima do permitido.\")\n",
        "else:\n",
        "  print(\"A temperatura está dentro do permitido.\")"
      ]
    },
    {
      "cell_type": "markdown",
      "metadata": {
        "id": "I80xB1O94-ML"
      },
      "source": [
        "#Exercício 4"
      ]
    },
    {
      "cell_type": "markdown",
      "metadata": {
        "id": "pm9wL21-5AZy"
      },
      "source": [
        "Carlos quer monitorar seu orçamento mensal para evitar gastos excessivos. Ele estabeleceu um limite de R$ 3.000,00 para seus gastos e precisa de um programa que ajude a controlar suas despesas. O programa deve receber o total de despesas realizadas e informar se ele ultrapassou o limite ou ainda está dentro do orçamento."
      ]
    },
    {
      "cell_type": "code",
      "execution_count": 6,
      "metadata": {
        "colab": {
          "base_uri": "https://localhost:8080/"
        },
        "id": "qcewN6Hn5Hgq",
        "outputId": "6f674b8e-f201-4135-c6e9-ccd14ff44f22"
      },
      "outputs": [
        {
          "name": "stdout",
          "output_type": "stream",
          "text": [
            "Digite o total de despesas realizadas: 4500\n",
            "Você ultrapassou o limite de despesas.\n"
          ]
        }
      ],
      "source": [
        "total_despesas = float(input(\"Digite o total de despesas realizadas: \"))\n",
        "\n",
        "if total_despesas > 3000:\n",
        "  print(\"Você ultrapassou o limite de despesas!\")\n",
        "else:\n",
        "  print(\"Parabéns! Você está dentro do seu orçamento.\")"
      ]
    },
    {
      "cell_type": "markdown",
      "metadata": {
        "id": "9YQvs4-65H5S"
      },
      "source": [
        "#Exercicio 5"
      ]
    },
    {
      "cell_type": "markdown",
      "metadata": {
        "id": "bRWgBhbv5JnK"
      },
      "source": [
        "Mariana é responsável por liberar o acesso ao escritório e precisa de um programa que verifique se os funcionários podem entrar. Para isso, ela usará o horário atual. O escritório só permite acesso entre 8h e 18h. Crie um programa que receba a hora atual como entrada (em formato de 24 horas) e exiba uma mensagem informando se o acesso é permitido ou negado."
      ]
    },
    {
      "cell_type": "code",
      "execution_count": 10,
      "metadata": {
        "colab": {
          "base_uri": "https://localhost:8080/"
        },
        "id": "cv2vc4235SXi",
        "outputId": "d42f9a0e-ff2b-45e4-9816-a166884558bf"
      },
      "outputs": [
        {
          "name": "stdout",
          "output_type": "stream",
          "text": [
            "Acesso permitido!\n"
          ]
        }
      ],
      "source": [
        "from datetime import datetime\n",
        "\n",
        "hora_atual = datetime.now().hour\n",
        "\n",
        "if hora_atual >= 8 and hora_atual <= 18:\n",
        "  print(\"Acesso permitido!\")\n",
        "else:\n",
        "  print(\"Acesso negado!\")"
      ]
    },
    {
      "cell_type": "markdown",
      "metadata": {
        "id": "VQMGdW6k5TAi"
      },
      "source": [
        "#Exercicio 6"
      ]
    },
    {
      "cell_type": "markdown",
      "metadata": {
        "id": "JkipOD_O5Ywy"
      },
      "source": [
        "Fernanda está planejando uma viagem e quer calcular quanto pagará de pedágio. O valor do pedágio depende da distância percorrida:\n",
        "\n",
        "*  Até 100 km: R$ 10,00\n",
        "\n",
        "*  Entre 100 km e 200 km: R$ 20,00\n",
        "\n",
        "*  Acima de 200 km: R$ 30,00\n",
        "\n",
        "\n",
        "Crie um programa que receba a distância percorrida e informe o valor do pedágio correspondente."
      ]
    },
    {
      "cell_type": "code",
      "execution_count": 13,
      "metadata": {
        "colab": {
          "base_uri": "https://localhost:8080/"
        },
        "id": "TSG4RiSU5VMf",
        "outputId": "8dc018b7-063e-4adf-e66e-7963799efcb0"
      },
      "outputs": [
        {
          "name": "stdout",
          "output_type": "stream",
          "text": [
            "Quantos km você percorreu? 3\n",
            "O valor do pedágio é de R$ 10,00.\n"
          ]
        }
      ],
      "source": [
        "distancia_percorrida = float(input(\"Quantos km você percorreu? \"))\n",
        "\n",
        "if distancia_percorrida <= 100:\n",
        "  print(\"O valor do pedágio é de R$ 10,00.\")\n",
        "elif distancia_percorrida <= 200:\n",
        "  print(\"O valor do pedágio é de R$ 20,00.\")\n",
        "else:\n",
        "  print(\"O valor do pedágio é de R$ 30,00.\")"
      ]
    },
    {
      "cell_type": "markdown",
      "metadata": {
        "id": "Dd7x3WM45fnJ"
      },
      "source": [
        "#Exercício 7"
      ]
    },
    {
      "cell_type": "markdown",
      "metadata": {
        "id": "9a5308O0KlEW"
      },
      "source": [
        "Pedro quer solicitar um empréstimo, mas a aprovação depende de duas condições:\n",
        "\n",
        "* O valor da renda mensal precisa ser maior que R$ 2.000,00.\n",
        "* O valor da parcela não pode ultrapassar 30% da renda.\n",
        "\n",
        "Crie um programa que receba como entrada a renda mensal de Pedro e o valor da parcela desejada. O programa deve informar se o empréstimo foi aprovado ou negado com base nas condições acima."
      ]
    },
    {
      "cell_type": "code",
      "execution_count": 15,
      "metadata": {
        "colab": {
          "base_uri": "https://localhost:8080/"
        },
        "id": "HZy-d_G75iuj",
        "outputId": "5bf2885a-0712-453c-95e5-d5385d2dfab1"
      },
      "outputs": [
        {
          "name": "stdout",
          "output_type": "stream",
          "text": [
            "Digite sua renda mensal: 3000\n",
            "Digite o valor da parcela do empréstimo: 1500\n",
            "Empréstimo negado!\n"
          ]
        }
      ],
      "source": [
        "renda_mensal = float(input(\"Digite sua renda mensal: \"))\n",
        "valor_parcela = float(input(\"Digite o valor da parcela do empréstimo: \"))\n",
        "\n",
        "if renda_mensal > 2000 and valor_parcela <= 0.3 * renda_mensal:\n",
        "  print(\"Empréstimo aprovado!\")\n",
        "else:\n",
        "  print(\"Empréstimo negado!\")"
      ]
    },
    {
      "cell_type": "markdown",
      "metadata": {
        "id": "PB8hiWZtLWL1"
      },
      "source": [
        "#Exercício 8\n",
        "\n"
      ]
    },
    {
      "cell_type": "markdown",
      "metadata": {
        "id": "BCpBhShmLbH9"
      },
      "source": [
        "Verificação de Número Positivo, Negativo ou Zero\n",
        "Crie um programa que receba um número e informe se ele é positivo, negativo ou zero."
      ]
    },
    {
      "cell_type": "code",
      "execution_count": 16,
      "metadata": {
        "colab": {
          "base_uri": "https://localhost:8080/"
        },
        "id": "7DKsIbobLahm",
        "outputId": "49300b9b-1969-4b1f-ff33-38110b2ac9f0"
      },
      "outputs": [
        {
          "name": "stdout",
          "output_type": "stream",
          "text": [
            "Digite um número inteiro: 3\n",
            "O número é positivo.\n"
          ]
        }
      ],
      "source": [
        "numero = int(input(\"Digite um número inteiro: \"))\n",
        "\n",
        "if numero > 0:\n",
        "  print(\"O número é positivo.\")\n",
        "elif numero < 0:\n",
        "  print(\"O número é negativo.\")\n",
        "else:\n",
        "  print(\"O número é zero.\")"
      ]
    },
    {
      "cell_type": "markdown",
      "metadata": {
        "id": "2gPM4CDgLdY8"
      },
      "source": [
        "#Exercício 9"
      ]
    },
    {
      "cell_type": "markdown",
      "metadata": {
        "id": "vLkSD7QFLvPN"
      },
      "source": [
        "Cálculo de Desconto em uma Compra\n",
        "Crie um programa que receba o valor de uma compra e aplique um desconto de 10% se o valor for maior que R$ 100,00. Caso contrário, não aplique desconto."
      ]
    },
    {
      "cell_type": "code",
      "execution_count": 19,
      "metadata": {
        "colab": {
          "base_uri": "https://localhost:8080/"
        },
        "id": "UhzhuL6uLffy",
        "outputId": "b09236a8-006a-487e-a697-59afe5b5f75a"
      },
      "outputs": [
        {
          "name": "stdout",
          "output_type": "stream",
          "text": [
            "Digite o valor da compra: 3\n",
            "Você não recebeu desconto! O valor da compra é de R$ 3.0\n"
          ]
        }
      ],
      "source": [
        "valor_da_compra = float(input(\"Digite o valor da compra: \"))\n",
        "\n",
        "if valor_da_compra > 100:\n",
        "  valor_com_desconto = valor_da_compra * 0.9\n",
        "  print(\"O valor da compra com desconto é de R$\", valor_com_desconto)\n",
        "else:\n",
        "  print(\"Você não recebeu desconto! O valor da compra é de R$\", valor_da_compra)"
      ]
    },
    {
      "cell_type": "markdown",
      "metadata": {
        "id": "VNHGaznJLxR0"
      },
      "source": [
        "#Exercício 10"
      ]
    },
    {
      "cell_type": "markdown",
      "metadata": {
        "id": "4vLtEkhpL2Az"
      },
      "source": [
        "Crie um programa que receba a idade de uma pessoa e verifique se ela pode votar. No Brasil, o voto é obrigatório para pessoas entre 18 e 70 anos e facultativo para pessoas de 16 ou 17 anos ou acima de 70 anos."
      ]
    },
    {
      "cell_type": "code",
      "execution_count": 26,
      "metadata": {
        "colab": {
          "base_uri": "https://localhost:8080/"
        },
        "id": "pZUm2nTqLzG6",
        "outputId": "32089ee1-66f8-472e-cd43-bd6e3538c753"
      },
      "outputs": [
        {
          "name": "stdout",
          "output_type": "stream",
          "text": [
            "Digite sua idade: 3\n",
            "Você não pode votar!\n"
          ]
        }
      ],
      "source": [
        "idade_pessoa = int(input(\"Digite sua idade: \"))\n",
        "\n",
        "if idade_pessoa < 16:\n",
        "  print(\"Você não pode votar!\")\n",
        "elif idade_pessoa >= 18 and idade_pessoa < 70:\n",
        "  print(\"Seu voto é obrigatório!\")\n",
        "else:\n",
        "  print(\"Seu voto é facultativo!\")"
      ]
    }
  ],
  "metadata": {
    "colab": {
      "include_colab_link": true,
      "provenance": []
    },
    "kernelspec": {
      "display_name": "Python 3",
      "name": "python3"
    },
    "language_info": {
      "name": "python"
    }
  },
  "nbformat": 4,
  "nbformat_minor": 0
}
