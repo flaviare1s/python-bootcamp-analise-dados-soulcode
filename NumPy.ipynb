{
  "nbformat": 4,
  "nbformat_minor": 0,
  "metadata": {
    "colab": {
      "provenance": [],
      "toc_visible": true,
      "include_colab_link": true
    },
    "kernelspec": {
      "name": "python3",
      "display_name": "Python 3"
    },
    "language_info": {
      "name": "python"
    }
  },
  "cells": [
    {
      "cell_type": "markdown",
      "metadata": {
        "id": "view-in-github",
        "colab_type": "text"
      },
      "source": [
        "<a href=\"https://colab.research.google.com/github/flaviare1s/python-bootcamp-analise-dados-soulcode/blob/main/NumPy.ipynb\" target=\"_parent\"><img src=\"https://colab.research.google.com/assets/colab-badge.svg\" alt=\"Open In Colab\"/></a>"
      ]
    },
    {
      "cell_type": "markdown",
      "source": [
        "#imports"
      ],
      "metadata": {
        "id": "BBccFC2RdtmW"
      }
    },
    {
      "cell_type": "markdown",
      "source": [
        "Instalar biblioteca NumPy"
      ],
      "metadata": {
        "id": "NoNrN4KsGhhf"
      }
    },
    {
      "cell_type": "code",
      "execution_count": null,
      "metadata": {
        "colab": {
          "base_uri": "https://localhost:8080/"
        },
        "id": "lqoAEQ4RFs24",
        "outputId": "47ed46fd-7b00-4714-9f54-5443d3f466be"
      },
      "outputs": [
        {
          "output_type": "stream",
          "name": "stdout",
          "text": [
            "Requirement already satisfied: numpy in /usr/local/lib/python3.11/dist-packages (1.26.4)\n"
          ]
        }
      ],
      "source": [
        "!pip install numpy"
      ]
    },
    {
      "cell_type": "markdown",
      "source": [
        "Imports"
      ],
      "metadata": {
        "id": "7ygIr7o_G-ZL"
      }
    },
    {
      "cell_type": "code",
      "source": [
        "import numpy as np"
      ],
      "metadata": {
        "id": "eJhLoXCPG9-7"
      },
      "execution_count": null,
      "outputs": []
    },
    {
      "cell_type": "markdown",
      "source": [
        "Imports pandas"
      ],
      "metadata": {
        "id": "6g3vlAFZMpn9"
      }
    },
    {
      "cell_type": "code",
      "source": [
        "import pandas as pd"
      ],
      "metadata": {
        "id": "9mCJkhBmKwto"
      },
      "execution_count": null,
      "outputs": []
    },
    {
      "cell_type": "markdown",
      "source": [
        "matplot gráficos"
      ],
      "metadata": {
        "id": "YEOufctsb_HS"
      }
    },
    {
      "cell_type": "code",
      "source": [
        "import matplotlib.pyplot as plt"
      ],
      "metadata": {
        "id": "QW7EF6wUb-Gn"
      },
      "execution_count": null,
      "outputs": []
    },
    {
      "cell_type": "markdown",
      "source": [
        "#Criando Arrays"
      ],
      "metadata": {
        "id": "QiNi3PkRHLZW"
      }
    },
    {
      "cell_type": "markdown",
      "source": [],
      "metadata": {
        "id": "iUJaVjNcdymQ"
      }
    },
    {
      "cell_type": "code",
      "source": [
        "lista = [1,2,3,4,5,6,7]\n",
        "array = np.array(lista)\n",
        "\n",
        "print(\"Lista: \",lista)\n",
        "print(\"Array: \",array)"
      ],
      "metadata": {
        "colab": {
          "base_uri": "https://localhost:8080/"
        },
        "id": "R-PLeEKjHKiM",
        "outputId": "49eea3c2-dea7-4ff9-bbcc-37d539257c26"
      },
      "execution_count": null,
      "outputs": [
        {
          "output_type": "stream",
          "name": "stdout",
          "text": [
            "Lista:  [1, 2, 3, 4, 5, 6, 7]\n",
            "Array:  [1 2 3 4 5 6 7]\n"
          ]
        }
      ]
    },
    {
      "cell_type": "markdown",
      "source": [
        "Arrays Multidimensionais"
      ],
      "metadata": {
        "id": "GzFX3Z19HuuE"
      }
    },
    {
      "cell_type": "code",
      "source": [
        "matriz = np.array([[1,2,3],[4,5,6]])\n",
        "print('Matriz 2x3')\n",
        "print(matriz)"
      ],
      "metadata": {
        "colab": {
          "base_uri": "https://localhost:8080/"
        },
        "id": "QT7xZAjsHw8O",
        "outputId": "b6887c5b-f3e6-48dd-d07e-9eb4f849e8da"
      },
      "execution_count": null,
      "outputs": [
        {
          "output_type": "stream",
          "name": "stdout",
          "text": [
            "Matriz 2x3\n",
            "[[1 2 3]\n",
            " [4 5 6]]\n"
          ]
        }
      ]
    },
    {
      "cell_type": "markdown",
      "source": [
        "Arrays com valores inicializados"
      ],
      "metadata": {
        "id": "6UHY9qr2ILBX"
      }
    },
    {
      "cell_type": "code",
      "source": [
        "#preencher matrizes com 0\n",
        "zeros = np.zeros((2,3))\n",
        "print(zeros)"
      ],
      "metadata": {
        "colab": {
          "base_uri": "https://localhost:8080/"
        },
        "id": "OYXnJOKgIOEx",
        "outputId": "34275246-42be-40ab-d09f-741a29c68b36"
      },
      "execution_count": null,
      "outputs": [
        {
          "output_type": "stream",
          "name": "stdout",
          "text": [
            "[[0. 0. 0.]\n",
            " [0. 0. 0.]]\n"
          ]
        }
      ]
    },
    {
      "cell_type": "code",
      "source": [
        "#preencher matrizes com 1\n",
        "uns=np.ones((3,2),dtype=int)\n",
        "print(uns)"
      ],
      "metadata": {
        "colab": {
          "base_uri": "https://localhost:8080/"
        },
        "id": "E4h0TrgRIdNK",
        "outputId": "e4a50183-75d2-43b1-91ec-4cd79fc6ca7b"
      },
      "execution_count": null,
      "outputs": [
        {
          "output_type": "stream",
          "name": "stdout",
          "text": [
            "[[1 1]\n",
            " [1 1]\n",
            " [1 1]]\n"
          ]
        }
      ]
    },
    {
      "cell_type": "code",
      "source": [
        "#preencher uma matriz com numeros aleatórios (numeros entre 0 e 1)\n",
        "aleatorios=np.random.random((2,2))\n",
        "print(aleatorios)"
      ],
      "metadata": {
        "colab": {
          "base_uri": "https://localhost:8080/"
        },
        "id": "A5JiOKHvIrFK",
        "outputId": "b35e89a4-5206-48a7-966e-d50b2357d6a7"
      },
      "execution_count": null,
      "outputs": [
        {
          "output_type": "stream",
          "name": "stdout",
          "text": [
            "[[0.12809808 0.32290798]\n",
            " [0.82706078 0.92119621]]\n"
          ]
        }
      ]
    },
    {
      "cell_type": "code",
      "source": [
        "# Gerar números inteiros aleatórios entre 1 e 100\n",
        "aleatorios_inteiros = np.random.randint(1, 101, size=(2, 2))\n",
        "print(\"Aleatórios inteiros maiores que 1:\")\n",
        "print(aleatorios_inteiros)"
      ],
      "metadata": {
        "colab": {
          "base_uri": "https://localhost:8080/"
        },
        "id": "CQcJR_sIMI4G",
        "outputId": "7d57e353-99d6-4f31-abc8-3440fa9045b4"
      },
      "execution_count": null,
      "outputs": [
        {
          "output_type": "stream",
          "name": "stdout",
          "text": [
            "Aleatórios inteiros maiores que 1:\n",
            "[[71 32]\n",
            " [67 26]]\n"
          ]
        }
      ]
    },
    {
      "cell_type": "code",
      "source": [
        "#Array com valores sequenciais\n",
        "sequencia=np.arange(0,10,2) #0 a 10 pulando de 2 em 2\n",
        "sequencia"
      ],
      "metadata": {
        "colab": {
          "base_uri": "https://localhost:8080/"
        },
        "id": "s8ffOUvPTQG3",
        "outputId": "8cbb860a-47a1-4f5f-f23f-20045fcb344a"
      },
      "execution_count": null,
      "outputs": [
        {
          "output_type": "execute_result",
          "data": {
            "text/plain": [
              "array([0, 2, 4, 6, 8])"
            ]
          },
          "metadata": {},
          "execution_count": 9
        }
      ]
    },
    {
      "cell_type": "code",
      "source": [
        "#array com valores espaçados igualmente\n",
        "array_espacados=np.linspace(0,1,5)\n",
        "array_espacados"
      ],
      "metadata": {
        "colab": {
          "base_uri": "https://localhost:8080/"
        },
        "id": "bknUbwECTv6T",
        "outputId": "6cf1fa6d-b68d-4335-dc6a-e69f680446c8"
      },
      "execution_count": null,
      "outputs": [
        {
          "output_type": "execute_result",
          "data": {
            "text/plain": [
              "array([0.  , 0.25, 0.5 , 0.75, 1.  ])"
            ]
          },
          "metadata": {},
          "execution_count": 26
        }
      ]
    },
    {
      "cell_type": "markdown",
      "source": [
        "#Atributos do Array"
      ],
      "metadata": {
        "id": "yVSFglgUUQ0d"
      }
    },
    {
      "cell_type": "code",
      "source": [
        "arr=np.array([[[1,2,3],[4,5,6],[7,8,9]],[[10,11,12],[13,14,15],[16,17,18]]])\n"
      ],
      "metadata": {
        "id": "oZ11GPG6USp1"
      },
      "execution_count": null,
      "outputs": []
    },
    {
      "cell_type": "code",
      "source": [
        "#retorna linha e coluna (L,C)\n",
        "print(arr.shape)"
      ],
      "metadata": {
        "colab": {
          "base_uri": "https://localhost:8080/"
        },
        "id": "ISUWrkBIUaxm",
        "outputId": "abcebda6-3500-434b-8293-00447207732b"
      },
      "execution_count": null,
      "outputs": [
        {
          "output_type": "stream",
          "name": "stdout",
          "text": [
            "(2, 3, 3)\n"
          ]
        }
      ]
    },
    {
      "cell_type": "code",
      "source": [
        "#numero de dimensões\n",
        "print(arr.ndim)"
      ],
      "metadata": {
        "colab": {
          "base_uri": "https://localhost:8080/"
        },
        "id": "wb2JMvraUmU2",
        "outputId": "28a45210-5781-40d7-f2c9-cc9382ab73d0"
      },
      "execution_count": null,
      "outputs": [
        {
          "output_type": "stream",
          "name": "stdout",
          "text": [
            "3\n"
          ]
        }
      ]
    },
    {
      "cell_type": "code",
      "source": [
        "#total de elementos\n",
        "print(arr.size)"
      ],
      "metadata": {
        "colab": {
          "base_uri": "https://localhost:8080/"
        },
        "id": "PPawvnlqUvpF",
        "outputId": "cd241a7c-a104-424a-8c93-51516ebf4abe"
      },
      "execution_count": null,
      "outputs": [
        {
          "output_type": "stream",
          "name": "stdout",
          "text": [
            "18\n"
          ]
        }
      ]
    },
    {
      "cell_type": "code",
      "source": [
        "#tipo de dado (int64 é inteiro, float64 é float)\n",
        "print(arr.dtype)"
      ],
      "metadata": {
        "id": "f7thRCtdU2f5",
        "colab": {
          "base_uri": "https://localhost:8080/"
        },
        "outputId": "7d0a3e42-b617-4929-c680-54d48d634cef"
      },
      "execution_count": null,
      "outputs": [
        {
          "output_type": "stream",
          "name": "stdout",
          "text": [
            "int64\n"
          ]
        }
      ]
    },
    {
      "cell_type": "markdown",
      "source": [
        "Operações matemáticas"
      ],
      "metadata": {
        "id": "xuGno5y7Zsc8"
      }
    },
    {
      "cell_type": "code",
      "source": [
        "a=np.array([1,2,3])\n",
        "b=np.array([4,5,6])\n",
        "\n"
      ],
      "metadata": {
        "id": "TXsMU3b2ZzAu"
      },
      "execution_count": null,
      "outputs": []
    },
    {
      "cell_type": "markdown",
      "source": [
        "Somar"
      ],
      "metadata": {
        "id": "CeBKZMd4aDQy"
      }
    },
    {
      "cell_type": "code",
      "source": [
        "print(a+b)"
      ],
      "metadata": {
        "colab": {
          "base_uri": "https://localhost:8080/"
        },
        "id": "bKuLsYNcaCkv",
        "outputId": "061ab606-4442-484f-8891-edb94094bef4"
      },
      "execution_count": null,
      "outputs": [
        {
          "output_type": "stream",
          "name": "stdout",
          "text": [
            "[5 7 9]\n"
          ]
        }
      ]
    },
    {
      "cell_type": "markdown",
      "source": [
        "Multiplicar"
      ],
      "metadata": {
        "id": "89jPZINjaFbX"
      }
    },
    {
      "cell_type": "code",
      "source": [
        "print(a*b)"
      ],
      "metadata": {
        "colab": {
          "base_uri": "https://localhost:8080/"
        },
        "id": "CIegBIbpaE7l",
        "outputId": "efb1fc38-3e93-422a-d623-676f3227e902"
      },
      "execution_count": null,
      "outputs": [
        {
          "output_type": "stream",
          "name": "stdout",
          "text": [
            "[ 4 10 18]\n"
          ]
        }
      ]
    },
    {
      "cell_type": "markdown",
      "source": [
        "Dividir"
      ],
      "metadata": {
        "id": "_J4MCPgFaI-4"
      }
    },
    {
      "cell_type": "code",
      "source": [
        "print(b/a)"
      ],
      "metadata": {
        "colab": {
          "base_uri": "https://localhost:8080/"
        },
        "id": "PSbNFMGpaK2z",
        "outputId": "275001be-d5ff-46aa-d3bb-0f7707b324d5"
      },
      "execution_count": null,
      "outputs": [
        {
          "output_type": "stream",
          "name": "stdout",
          "text": [
            "[4.  2.5 2. ]\n"
          ]
        }
      ]
    },
    {
      "cell_type": "markdown",
      "source": [
        "Exponenciação"
      ],
      "metadata": {
        "id": "iTmbMl-aaRfg"
      }
    },
    {
      "cell_type": "code",
      "source": [
        "print(a**b)"
      ],
      "metadata": {
        "colab": {
          "base_uri": "https://localhost:8080/"
        },
        "id": "dwGgUQHPaQkM",
        "outputId": "f712e8f0-5b5d-4223-c5a4-e1271035c714"
      },
      "execution_count": null,
      "outputs": [
        {
          "output_type": "stream",
          "name": "stdout",
          "text": [
            "[  1  32 729]\n"
          ]
        }
      ]
    },
    {
      "cell_type": "markdown",
      "source": [
        "SLICING"
      ],
      "metadata": {
        "id": "0VuPz2YUa04J"
      }
    },
    {
      "cell_type": "code",
      "source": [
        "arr = np.array([10, 20, 30, 40, 50])\n"
      ],
      "metadata": {
        "id": "3PSlsjoka4iv"
      },
      "execution_count": null,
      "outputs": []
    },
    {
      "cell_type": "code",
      "source": [
        "#acessando os elementos\n",
        "print(arr[0])\n",
        "print(arr[-1])"
      ],
      "metadata": {
        "id": "WlSUyr46bH1P",
        "colab": {
          "base_uri": "https://localhost:8080/"
        },
        "outputId": "be79dc3c-7357-4e9e-c52c-00c1d138c1ed"
      },
      "execution_count": null,
      "outputs": [
        {
          "output_type": "stream",
          "name": "stdout",
          "text": [
            "10\n",
            "50\n"
          ]
        }
      ]
    },
    {
      "cell_type": "code",
      "source": [
        "#slicing\n",
        "print(arr[1:4])"
      ],
      "metadata": {
        "colab": {
          "base_uri": "https://localhost:8080/"
        },
        "id": "hiFRrFWQbKPx",
        "outputId": "a8f76cc4-7442-4739-fe26-11a46dd8966d"
      },
      "execution_count": null,
      "outputs": [
        {
          "output_type": "stream",
          "name": "stdout",
          "text": [
            "[20 30 40]\n"
          ]
        }
      ]
    },
    {
      "cell_type": "markdown",
      "source": [
        "Slicing em matrizes"
      ],
      "metadata": {
        "id": "LO3Lpo3obie-"
      }
    },
    {
      "cell_type": "code",
      "source": [
        "matriz = np.array([[1, 2, 3], [4, 5, 6], [7, 8, 9]])"
      ],
      "metadata": {
        "id": "j0Ll-REDbVbM"
      },
      "execution_count": null,
      "outputs": []
    },
    {
      "cell_type": "code",
      "source": [
        "print(matriz[0,1])\n",
        "print(matriz[:,1])"
      ],
      "metadata": {
        "colab": {
          "base_uri": "https://localhost:8080/"
        },
        "id": "kXipw18rbWe1",
        "outputId": "9c3b5b69-a60e-4af0-f814-36948fde078c"
      },
      "execution_count": null,
      "outputs": [
        {
          "output_type": "stream",
          "name": "stdout",
          "text": [
            "2\n",
            "[2 5 8]\n"
          ]
        }
      ]
    },
    {
      "cell_type": "markdown",
      "source": [
        "#Funções Estatísticas de NumPy"
      ],
      "metadata": {
        "id": "wGtom9vvjq7Z"
      }
    },
    {
      "cell_type": "markdown",
      "source": [
        "somar todos os elementos"
      ],
      "metadata": {
        "id": "ZN7-xQoSkPp9"
      }
    },
    {
      "cell_type": "code",
      "source": [
        "dados = np.array([1, 2, 3, 1 ,4 , 4, 5])\n",
        "                 # 1 1 2 3 4 4 5\n",
        "soma=np.sum(dados)\n",
        "print('Soma:',soma)"
      ],
      "metadata": {
        "colab": {
          "base_uri": "https://localhost:8080/"
        },
        "id": "wnt5NcK9jzZJ",
        "outputId": "4f43d68f-97d1-417c-c244-3f5c6ef939f4"
      },
      "execution_count": null,
      "outputs": [
        {
          "output_type": "stream",
          "name": "stdout",
          "text": [
            "Soma: 20\n"
          ]
        }
      ]
    },
    {
      "cell_type": "markdown",
      "source": [
        "Média aritmética dos elementos"
      ],
      "metadata": {
        "id": "35Mz-e2LkPJf"
      }
    },
    {
      "cell_type": "code",
      "source": [
        "media=np.mean(dados)\n",
        "print('Média',media)"
      ],
      "metadata": {
        "colab": {
          "base_uri": "https://localhost:8080/"
        },
        "id": "nT5rnsvKkiVw",
        "outputId": "d63fcb8f-dc56-4fb8-b511-b6a215bf62ee"
      },
      "execution_count": null,
      "outputs": [
        {
          "output_type": "stream",
          "name": "stdout",
          "text": [
            "Média 2.857142857142857\n"
          ]
        }
      ]
    },
    {
      "cell_type": "markdown",
      "source": [
        "Valor central quando os dados são ordenados"
      ],
      "metadata": {
        "id": "P2RbfPD7lMRK"
      }
    },
    {
      "cell_type": "code",
      "source": [
        "mediana=np.median(dados)\n",
        "print('Mediana:',mediana)"
      ],
      "metadata": {
        "colab": {
          "base_uri": "https://localhost:8080/"
        },
        "id": "s4TE1yXBk7un",
        "outputId": "dc82cded-782b-4dc8-e3da-6fbb4ccd6d73"
      },
      "execution_count": null,
      "outputs": [
        {
          "output_type": "stream",
          "name": "stdout",
          "text": [
            "Mediana: 3.0\n"
          ]
        }
      ]
    },
    {
      "cell_type": "markdown",
      "source": [
        "Min e Max"
      ],
      "metadata": {
        "id": "TfC-etQtlghN"
      }
    },
    {
      "cell_type": "code",
      "source": [
        "minimo=np.min(dados)\n",
        "print('Valor Minimo:',minimo)"
      ],
      "metadata": {
        "colab": {
          "base_uri": "https://localhost:8080/"
        },
        "id": "sqH84xhqlfM0",
        "outputId": "941910da-bcd3-440a-de9c-21d92f71e317"
      },
      "execution_count": null,
      "outputs": [
        {
          "output_type": "stream",
          "name": "stdout",
          "text": [
            "Valor Minimo: 1\n"
          ]
        }
      ]
    },
    {
      "cell_type": "code",
      "source": [
        "maximo=np.max(dados)\n",
        "print('Valor Máximo',maximo)"
      ],
      "metadata": {
        "colab": {
          "base_uri": "https://localhost:8080/"
        },
        "id": "VaVZYIUTn58V",
        "outputId": "bf56ec40-4c09-42da-ec08-8af25560d837"
      },
      "execution_count": null,
      "outputs": [
        {
          "output_type": "stream",
          "name": "stdout",
          "text": [
            "Valor Máximo 5\n"
          ]
        }
      ]
    },
    {
      "cell_type": "markdown",
      "source": [
        " Índice do valor mínimo e máximo"
      ],
      "metadata": {
        "id": "0NlvW72Zoec7"
      }
    },
    {
      "cell_type": "code",
      "source": [
        "indice_minimo = np.argmin(dados)\n",
        "print('Indice do mínimo',indice_minimo)"
      ],
      "metadata": {
        "colab": {
          "base_uri": "https://localhost:8080/"
        },
        "id": "SyspQH9hodAq",
        "outputId": "25d9e889-0b81-49cc-9533-871507770749"
      },
      "execution_count": null,
      "outputs": [
        {
          "output_type": "stream",
          "name": "stdout",
          "text": [
            "Indice do mínimo 0\n"
          ]
        }
      ]
    },
    {
      "cell_type": "code",
      "source": [
        "indice_maximo = np.argmax(dados)\n",
        "print('Indice do mínimo',indice_maximo)"
      ],
      "metadata": {
        "colab": {
          "base_uri": "https://localhost:8080/"
        },
        "id": "AAwZvKWgosLP",
        "outputId": "ac4ef87e-64bb-43a2-f4bb-cad7e1588009"
      },
      "execution_count": null,
      "outputs": [
        {
          "output_type": "stream",
          "name": "stdout",
          "text": [
            "Indice do mínimo 6\n"
          ]
        }
      ]
    },
    {
      "cell_type": "markdown",
      "source": [
        "![image.png](data:image/png;base64,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)"
      ],
      "metadata": {
        "id": "fFPpKckwpVmi"
      }
    },
    {
      "cell_type": "code",
      "source": [
        "percentil_50=np.percentile(dados,50)\n",
        "print(percentil_50)"
      ],
      "metadata": {
        "colab": {
          "base_uri": "https://localhost:8080/"
        },
        "id": "COG_a7HZpWj3",
        "outputId": "0659a2da-9fbd-4ebc-b234-b60143b59337"
      },
      "execution_count": null,
      "outputs": [
        {
          "output_type": "stream",
          "name": "stdout",
          "text": [
            "3.0\n"
          ]
        }
      ]
    },
    {
      "cell_type": "markdown",
      "source": [
        "Quartis\n",
        "Os quartis são percentis específicos:\n",
        "\n",
        "Q1 (25%) — Primeiro quartil\n",
        "\n",
        "Q2 (50%) — Mediana\n",
        "\n",
        "Q3 (75%) — Terceiro quartil"
      ],
      "metadata": {
        "id": "XHxOXKC2p2K1"
      }
    },
    {
      "cell_type": "code",
      "source": [
        "primeiro_quartil=np.percentile(dados,25)\n",
        "print(primeiro_quartil)"
      ],
      "metadata": {
        "colab": {
          "base_uri": "https://localhost:8080/"
        },
        "id": "uwHg5djop4OQ",
        "outputId": "43b7f881-889f-4212-f3fa-fa5d8f42940f"
      },
      "execution_count": null,
      "outputs": [
        {
          "output_type": "stream",
          "name": "stdout",
          "text": [
            "1.5\n"
          ]
        }
      ]
    },
    {
      "cell_type": "code",
      "source": [
        "terceiro_quartil=np.percentile(dados,75)\n",
        "print(terceiro_quartil)"
      ],
      "metadata": {
        "colab": {
          "base_uri": "https://localhost:8080/"
        },
        "id": "wKN7-hjmqKM0",
        "outputId": "e37308e8-1f7b-453b-c4b4-2e797aac66b0"
      },
      "execution_count": null,
      "outputs": [
        {
          "output_type": "stream",
          "name": "stdout",
          "text": [
            "4.0\n"
          ]
        }
      ]
    },
    {
      "cell_type": "code",
      "source": [
        "quartil_100=np.percentile(dados,100)\n",
        "print(quartil_100)"
      ],
      "metadata": {
        "colab": {
          "base_uri": "https://localhost:8080/"
        },
        "id": "B98NTsgwqlo-",
        "outputId": "40772a51-8e2b-4a99-9d19-2cf220846ddb"
      },
      "execution_count": null,
      "outputs": [
        {
          "output_type": "stream",
          "name": "stdout",
          "text": [
            "5.0\n"
          ]
        }
      ]
    },
    {
      "cell_type": "markdown",
      "source": [
        "Amplitude"
      ],
      "metadata": {
        "id": "jyqjvRDfq6b9"
      }
    },
    {
      "cell_type": "code",
      "source": [
        "amplitude=np.ptp(dados)\n",
        "print(amplitude)"
      ],
      "metadata": {
        "colab": {
          "base_uri": "https://localhost:8080/"
        },
        "id": "HmV8vyqYq7xt",
        "outputId": "12e5b5a2-16b0-4aca-d619-fffa794e2eda"
      },
      "execution_count": null,
      "outputs": [
        {
          "output_type": "stream",
          "name": "stdout",
          "text": [
            "4\n"
          ]
        }
      ]
    },
    {
      "cell_type": "markdown",
      "source": [
        "Valores únicos e contagem de ocorrências\n"
      ],
      "metadata": {
        "id": "8AT9Pz7IwLcu"
      }
    },
    {
      "cell_type": "code",
      "source": [
        "unico=np.unique(dados)\n",
        "unico"
      ],
      "metadata": {
        "colab": {
          "base_uri": "https://localhost:8080/"
        },
        "id": "rKyHoySJvnZ_",
        "outputId": "83a05922-d84f-413b-e329-52bdaa17446a"
      },
      "execution_count": null,
      "outputs": [
        {
          "output_type": "execute_result",
          "data": {
            "text/plain": [
              "array([1, 2, 3, 4, 5])"
            ]
          },
          "metadata": {},
          "execution_count": 38
        }
      ]
    },
    {
      "cell_type": "markdown",
      "source": [
        "##Medidas de Dispersão"
      ],
      "metadata": {
        "id": "hFccPjkMKr7H"
      }
    },
    {
      "cell_type": "code",
      "source": [
        "lojaA_idade=[65,70,63,72]\n",
        "lojaB_idade=[39,100,46,85]"
      ],
      "metadata": {
        "id": "F166ZzE5KwCc"
      },
      "execution_count": null,
      "outputs": []
    },
    {
      "cell_type": "code",
      "source": [
        "media_lojaA=np.mean(lojaA_idade)\n",
        "media_lojaB=np.mean(lojaB_idade)\n",
        "print(media_lojaA)\n",
        "print(media_lojaB)"
      ],
      "metadata": {
        "colab": {
          "base_uri": "https://localhost:8080/"
        },
        "id": "bXc3BWC0LP-y",
        "outputId": "03da0795-6dae-45f6-e1af-e08dd9577c56"
      },
      "execution_count": null,
      "outputs": [
        {
          "output_type": "stream",
          "name": "stdout",
          "text": [
            "67.5\n",
            "67.5\n"
          ]
        }
      ]
    },
    {
      "cell_type": "markdown",
      "source": [
        "Desvio Médio"
      ],
      "metadata": {
        "id": "Jx46KXwJPffR"
      }
    },
    {
      "cell_type": "markdown",
      "source": [
        "LOJA A\n",
        "\n",
        "65 - 67.5 = -2.5\n",
        "\n",
        "70 - 67.5 = 2.5\n",
        "\n",
        "63 - 67.5 = -4.5\n",
        "\n",
        "72 - 67.5 = 4.5\n",
        "\n",
        "\n",
        "LOJA B\n",
        "\n",
        "39 - 67.5 = -28.5\n",
        "\n",
        "100 -67.5 = 32.5\n",
        "\n",
        "85 - 67.5 =17.5\n",
        "\n",
        "46 - 77.5 = =21.5\n",
        "\n"
      ],
      "metadata": {
        "id": "KUFg7GkmL3EL"
      }
    },
    {
      "cell_type": "markdown",
      "source": [
        "**Variância**:\n",
        "\n",
        "Mostrar o quão 'espalhados' estão os dados. Quanto maior, mais dispersos\n",
        "\n",
        "![image.png](data:image/png;base64,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)"
      ],
      "metadata": {
        "id": "VhYjL4UKN2j1"
      }
    },
    {
      "cell_type": "markdown",
      "source": [
        "xi: Cada valor do conjunto de dados\n",
        "\n",
        "μ: Média do conjunto de dados\n",
        "\n",
        "N: Número de elementos"
      ],
      "metadata": {
        "id": "dQ3UqYU5OGjT"
      }
    },
    {
      "cell_type": "markdown",
      "source": [
        "\n",
        "variancia da loja A :\n",
        "\n",
        "sigma² = ((-2.5)² + (2.5)² + (4.5)² + (-4.5²))/4 = 13.25\n",
        "\n",
        "variancia da loja B:\n",
        "\n",
        "sigma² = ((-28.5)²  + (32.5)² + (17.5)² + (21.5)²)/4= 659.25\n",
        "\n"
      ],
      "metadata": {
        "id": "CH62ThkzPkQu"
      }
    },
    {
      "cell_type": "code",
      "source": [
        "variancia_A = np.var(lojaA_idade)\n",
        "variancia_B = np.var(lojaB_idade)\n",
        "print(f\"Variância Loja A: {variancia_A}\")\n",
        "print(f\"Variância Loja B: {variancia_B}\")"
      ],
      "metadata": {
        "colab": {
          "base_uri": "https://localhost:8080/"
        },
        "id": "VkF4_RRkL5ot",
        "outputId": "0781478d-2332-42f8-c88d-a32289df4a8f"
      },
      "execution_count": null,
      "outputs": [
        {
          "output_type": "stream",
          "name": "stdout",
          "text": [
            "Variância Loja A: 13.25\n",
            "Variância Loja B: 659.25\n"
          ]
        }
      ]
    },
    {
      "cell_type": "markdown",
      "source": [
        "**Desvio-Padrão**:\n",
        "Traz a dispersão para a mesma unidade de dados, facilita a interpretação.\n",
        "\n",
        "\n",
        "![image.png](data:image/png;base64,iVBORw0KGgoAAAANSUhEUgAAAH0AAAAuCAYAAAAFmhZ8AAAAAXNSR0IArs4c6QAAAARnQU1BAACxjwv8YQUAAAAJcEhZcwAADsMAAA7DAcdvqGQAAAU+SURBVHhe7ZpbKGV/FMfXn1BuE0mi5EwyIhO5xPCAJCaNccklxjUxg3hBw4M/Bg0P5EFpiJpI7nKrKU9eGJfkbsKD1EzuDYkpM//Wmp/Ln3Gcs8/ZjdP+feq09157c85vfX9r/9Zae/8jk8l+AUdSaLEtR0Jw0SUIF12CcNElCBddgnDRJQgXXYJw0SUIF12CcNElCBddgnDRJQgXXYLwp2wqEBISAsXFxexIPNzd3dmeeuCiq0B/fz+UlZXB1NQUs2gG/PYukJcvX8Lh4aHGCY5w0QWgp6cHycnJ0NjYyCyaBRddADExMfD9+3cYGxtjFtV4/PgxZGRkwJs3b8DNzY1ZxYOLriRmZmYQFRUFHz9+ZBbVQLHr6urA0dERAgICaL+mpgb09fXZFeqHi64kL168gP39ffj06ROzCMfPz48qgO7ubsjOzob4+HhYWloCLy8vyMrKYlepHy66EhgYGJDoKJI6sLOzA1NTU4iMjARnZ2c4OTmBhYUFOufk5ERbMeCiKwFm7EdHR9DX18csqjE9PQ3Ly8swNzcHX758IdvZ2Rn8/PmT9sWCi64gWlpaFOU9PT3MojpY7qWmpsLbt28pypEnT57Qd83Pz9OxGHDRFSQsLAx+/PgBvb29zKJ+IiIi4OnTp7CysgJdXV3Mqn4kL7quri7IZDJ2dDehoaFqjfKbeHt7U+2/vr4OpaWlsLGxwc6oH7W1YbHW9PT0BFtbW9DW1mbWK3Z3d6GpqenyNvYQsLa2pt753t4e5OfnM+ttnj9/DrGxsfDq1StmkY+yvsDrS0pK6HcUFhaCoaEhTcSJiQk6r25UFt3c3BxycnLA19eXouYucIDv37+H4eFhZvm7BAYGQmZmJlhaWtJxSkrKnetoQ0MDjIyM3JvACfEF1uOVlZVkwz4+bl+/fk1re25uLvsL9aKS6DhD3717RzN6Z2cHFhcXabAuLi40GMxI19bW6NqtrS1obW29nN1/wsHBgSLPwsKCWZQD19yWlhb6Hnm4urqSQzFyOzo6KKo6OzuhqqqKXXEF1tKJiYmQlJTELH9GiC+QiooKGjdG/wXGxsYwOTlJ0S8GgkXHgVRXV1PbELPQvLy8S0HRQWlpabC9vU0zf3Nzk+yKgP8PI0YIp6enMD4+Lndi3QQbIvgbj4+PITw8HA4ODtiZ39TW1sLo6CgMDAwwy22E+gLtuI7r6Ogwy2/Oz8+hvb2dvlsMBIuenp5OEYAztKio6H+3RlwDCwoKyJEYuQ/5SZSRkREMDg6ScPX19dDc3MzOAHXGUECcDPLQNF8Izt49PDxohuIAb66FVlZWt2bvQwWbLRhVSHBwMG0vwGbMhw8f2NHdaJovBImOtzFcd7F7tLq6yqxX2NjY0ECxR63szMb/jdEh5OPv708Rqyz4MgSCazsmeAi2RVFMTODkIaYvxELbxMTkX7avMOgcTHCwXYhOuV5TYhkUFxdHZQee+/z5MztzP5jQYMkSFBQEPj4+Sn+ePXtGzr8ZbfeB0Y7CYcb86NEjGBoaosecbW1tVDfLQyxfiImgNR2joLy8nGYwlhnXnytjVhwdHU2Dx/aiMknc38Te3v7ycSlm9bivyLtpmugLQbf32dlZupXhDMby54KEhATqXH39+pWSIk0RHMHWJ5ZJCCZuWH4pgib6QnD2jnUpZqX4CPDbt2/0ChFmwjMzM/QigJhtRLHAbB1/O6LMG6ia5guVmjPIRV0tpEZ+iGB/HWvy66WbomiKL1QWnaN58EerEoSLLkG46BKEiy5BuOgShIsuQbjokgPgP9h4jKr/aXdbAAAAAElFTkSuQmCC)"
      ],
      "metadata": {
        "id": "rRkw3j8jR88j"
      }
    },
    {
      "cell_type": "code",
      "source": [
        "desvio_padrao_lojaA= np.std(lojaA_idade)\n",
        "desvio_padrao_lojaB= np.std(lojaB_idade)\n",
        "print(f\"Desvio-padrão da loja A: {desvio_padrao_lojaA:.2f}\")\n",
        "print(f\"Desvio-padrão da loja B: {desvio_padrao_lojaB:.2f}\")"
      ],
      "metadata": {
        "colab": {
          "base_uri": "https://localhost:8080/"
        },
        "id": "3FnZ6xatSAPp",
        "outputId": "05309159-8127-4e75-8637-427123b2d85c"
      },
      "execution_count": null,
      "outputs": [
        {
          "output_type": "stream",
          "name": "stdout",
          "text": [
            "Desvio-padrão da loja A: 3.64\n",
            "Desvio-padrão da loja B: 25.68\n"
          ]
        }
      ]
    },
    {
      "cell_type": "code",
      "source": [
        "\n",
        "# Boxplot para Comparação Visual\n",
        "dados = [lojaA_idade, lojaB_idade]\n",
        "plt.boxplot(dados, labels=['Loja A', 'Loja B'])\n",
        "plt.title('Dispersão das Idades - Loja A vs Loja B')\n",
        "plt.ylabel('Idade')\n",
        "plt.grid(True)\n",
        "plt.show()"
      ],
      "metadata": {
        "colab": {
          "base_uri": "https://localhost:8080/",
          "height": 507
        },
        "id": "-Eqw1NpUXN5c",
        "outputId": "52c1d4bb-f61b-40c3-b505-c7e428901f39"
      },
      "execution_count": null,
      "outputs": [
        {
          "output_type": "stream",
          "name": "stderr",
          "text": [
            "<ipython-input-43-4bb23461b1ec>:4: MatplotlibDeprecationWarning: The 'labels' parameter of boxplot() has been renamed 'tick_labels' since Matplotlib 3.9; support for the old name will be dropped in 3.11.\n",
            "  plt.boxplot(dados, labels=['Loja A', 'Loja B'])\n"
          ]
        },
        {
          "output_type": "display_data",
          "data": {
            "text/plain": [
              "<Figure size 640x480 with 1 Axes>"
            ],
            "image/png": "[encoded data removed]"
          },
          "metadata": {}
        }
      ]
    },
    {
      "cell_type": "markdown",
      "source": [
        "![image.png](data:image/png;base64,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)"
      ],
      "metadata": {
        "id": "Kskrc0PQaDy2"
      }
    },
    {
      "cell_type": "markdown",
      "source": [
        "Questão:\n",
        "\n",
        "Vamos supor que vocês precisam analisar dois grupos de estudantes para uma competição internacional. As turmas fizeram uma prova e você precisa analisar quem deles vocês mandariam para a competição"
      ],
      "metadata": {
        "id": "eg59JeCsZR5L"
      }
    },
    {
      "cell_type": "code",
      "source": [
        "notas_turma_A = [70, 72, 74, 76, 78, 80, 82, 84, 86, 88]\n",
        "notas_turma_B = [50, 60, 70, 80, 90, 100, 70, 60, 90, 100,200]"
      ],
      "metadata": {
        "id": "a7uptzhxZS-7"
      },
      "execution_count": null,
      "outputs": []
    },
    {
      "cell_type": "markdown",
      "source": [
        "medias"
      ],
      "metadata": {
        "id": "00EuxNd-esu5"
      }
    },
    {
      "cell_type": "code",
      "source": [
        "media_A = np.mean(notas_turma_A)\n",
        "media_B = np.mean(notas_turma_B)\n",
        "print(f\"Média Turma A: {media_A}\")\n",
        "print(f\"Média Turma B: {media_B}\")"
      ],
      "metadata": {
        "colab": {
          "base_uri": "https://localhost:8080/"
        },
        "id": "ozLAiDLveuN6",
        "outputId": "c3855a75-15c7-48de-8f59-878706504863"
      },
      "execution_count": null,
      "outputs": [
        {
          "output_type": "stream",
          "name": "stdout",
          "text": [
            "Média Turma A: 79.0\n",
            "Média Turma B: 88.18181818181819\n"
          ]
        }
      ]
    },
    {
      "cell_type": "code",
      "source": [
        "# Variância\n",
        "variancia_A = np.var(notas_turma_A)\n",
        "variancia_B = np.var(notas_turma_B)\n",
        "\n",
        "# Desvio-Padrão\n",
        "desvio_A = np.std(notas_turma_A)\n",
        "desvio_B = np.std(notas_turma_B)\n",
        "\n",
        "\n",
        "print(f\"Variância Turma A: {variancia_A}\")\n",
        "print(f\"Variância Turma B: {variancia_B}\")\n",
        "print(f\"Desvio-Padrão Turma A: {desvio_A:.2f}\")\n",
        "print(f\"Desvio-Padrão Turma B: {desvio_B:.2f}\")"
      ],
      "metadata": {
        "colab": {
          "base_uri": "https://localhost:8080/"
        },
        "id": "KNNm4W7Se4gt",
        "outputId": "64917245-2fb7-458c-c6c4-96830d48f96f"
      },
      "execution_count": null,
      "outputs": [
        {
          "output_type": "stream",
          "name": "stdout",
          "text": [
            "Variância Turma A: 33.0\n",
            "Variância Turma B: 1505.7851239669421\n",
            "Desvio-Padrão Turma A: 5.74\n",
            "Desvio-Padrão Turma B: 38.80\n"
          ]
        }
      ]
    },
    {
      "cell_type": "code",
      "source": [
        "# Boxplot para Comparação Visual\n",
        "dados = [notas_turma_A, notas_turma_B]\n",
        "plt.boxplot(dados, labels=['Turma A', 'Turma B'])\n",
        "plt.title('Dispersão das Notas - Turma A vs Turma B')\n",
        "plt.ylabel('Nota')\n",
        "plt.grid(True)\n",
        "plt.show()"
      ],
      "metadata": {
        "colab": {
          "base_uri": "https://localhost:8080/",
          "height": 507
        },
        "id": "rCouxb6eflpp",
        "outputId": "93766f70-6d8c-48bf-bfe4-7ca13f4acfa8"
      },
      "execution_count": null,
      "outputs": [
        {
          "output_type": "stream",
          "name": "stderr",
          "text": [
            "<ipython-input-47-e15630685243>:3: MatplotlibDeprecationWarning: The 'labels' parameter of boxplot() has been renamed 'tick_labels' since Matplotlib 3.9; support for the old name will be dropped in 3.11.\n",
            "  plt.boxplot(dados, labels=['Turma A', 'Turma B'])\n"
          ]
        },
        {
          "output_type": "display_data",
          "data": {
            "text/plain": [
              "<Figure size 640x480 with 1 Axes>"
            ],
            "image/png": "[encoded data removed]"
          },
          "metadata": {}
        }
      ]
    },
    {
      "cell_type": "markdown",
      "source": [
        "Questão 2:\n",
        "\n",
        "\n"
      ],
      "metadata": {
        "id": "MIBGELFApp4X"
      }
    },
    {
      "cell_type": "markdown",
      "source": [
        "Você é um analista de dados em uma empresa de vendas e foi solicitado analisar o desempenho das vendas em duas regiões. **Região X** e a **Região Y**. O objetivo da análise é entender como as vendas estão distribuídas em cada região e avaliar a consitência dos resultados.\n",
        "\n",
        "A empresa quer entender se precisa criar abordagens diferentes de vendas para as duas regiões."
      ],
      "metadata": {
        "id": "KXSKFn_rp2PI"
      }
    },
    {
      "cell_type": "code",
      "source": [
        "# Dados das Vendas\n",
        "vendas_regiao_X = [150, 160, 155, 158, 165, 162, 155, 160, 157, 159, 160, 163, 158, 160, 161,\n",
        "                   159, 157, 162, 164, 161, 160, 160, 158, 157, 163, 161, 159, 160, 165, 157]\n",
        "vendas_regiao_Y = [100, 150, 80, 200, 120, 90, 170, 180, 140, 130, 110, 160, 210, 140, 130, 150, 190,\n",
        "                   110, 120, 150, 160, 200, 180, 170, 120, 150, 100, 180, 150, 170]\n"
      ],
      "metadata": {
        "id": "Ndfn4hZvpweo"
      },
      "execution_count": null,
      "outputs": []
    },
    {
      "cell_type": "code",
      "source": [
        "#soma das vendas\n",
        "soma_x=np.sum(vendas_regiao_X)\n",
        "print('Soma da região X:', soma_x)\n",
        "soma_y=np.sum(vendas_regiao_Y)\n",
        "print('Soma da região Y:', soma_y)"
      ],
      "metadata": {
        "colab": {
          "base_uri": "https://localhost:8080/"
        },
        "id": "9mR2qbTOx4ld",
        "outputId": "0650071a-961f-4088-800e-40423d52f189"
      },
      "execution_count": null,
      "outputs": [
        {
          "output_type": "stream",
          "name": "stdout",
          "text": [
            "Soma da região X: 4786\n",
            "Soma da região Y: 4410\n"
          ]
        }
      ]
    },
    {
      "cell_type": "code",
      "source": [
        "#Média\n",
        "media_regiaoX=np.mean(vendas_regiao_X)\n",
        "media_regiaoY=np.mean(vendas_regiao_Y)\n",
        "print(f\"A média da região X foi: {media_regiaoX:.2f}\")\n",
        "print(f\"A média da região Y foi: {media_regiaoY:.2f}\")"
      ],
      "metadata": {
        "colab": {
          "base_uri": "https://localhost:8080/"
        },
        "id": "FpvgaF_CyTN7",
        "outputId": "5c693e54-6fdb-4204-9248-f6f661f47071"
      },
      "execution_count": null,
      "outputs": [
        {
          "output_type": "stream",
          "name": "stdout",
          "text": [
            "A média da região X foi: 159.53\n",
            "A média da região Y foi: 147.00\n"
          ]
        }
      ]
    },
    {
      "cell_type": "code",
      "source": [
        "#Variância\n",
        "variancia_X = np.var(vendas_regiao_X)\n",
        "variancia_Y = np.var(vendas_regiao_Y)\n",
        "print(f\"Variância Região X: {variancia_X:.2f}\")\n",
        "print(f\"Variância Região Y: {variancia_Y:.2f}\")"
      ],
      "metadata": {
        "colab": {
          "base_uri": "https://localhost:8080/"
        },
        "id": "1OYipfGtyb_i",
        "outputId": "798eeb81-7853-4d3a-c196-d3502f897926"
      },
      "execution_count": null,
      "outputs": [
        {
          "output_type": "stream",
          "name": "stdout",
          "text": [
            "Variância Região X: 9.65\n",
            "Variância Região Y: 1147.67\n"
          ]
        }
      ]
    },
    {
      "cell_type": "code",
      "source": [
        "#Desvio Padrão\n",
        "desvio_padrao_X = np.std(vendas_regiao_X)\n",
        "desvio_padrao_Y = np.std(vendas_regiao_Y)\n",
        "print(f\"Desvio-padrão da Região X: {desvio_padrao_X:.2f}\")\n",
        "print(f\"Desvio-padrão da Região Y: {desvio_padrao_Y:.2f}\")"
      ],
      "metadata": {
        "colab": {
          "base_uri": "https://localhost:8080/"
        },
        "id": "MFA1nAIKyzqG",
        "outputId": "b7e21bf3-b5c2-473f-c45a-33a51182dc42"
      },
      "execution_count": null,
      "outputs": [
        {
          "output_type": "stream",
          "name": "stdout",
          "text": [
            "Desvio-padrão da Região X: 3.11\n",
            "Desvio-padrão da Região Y: 33.88\n"
          ]
        }
      ]
    },
    {
      "cell_type": "code",
      "source": [
        "dados = [vendas_regiao_X, vendas_regiao_Y]\n",
        "plt.boxplot(dados, labels=['Região X', 'Região Y'])\n",
        "plt.title('Dispersão das Vendas - Região X vs Região Y')\n",
        "plt.ylabel('Vendas')\n",
        "plt.grid(True)\n",
        "plt.show()"
      ],
      "metadata": {
        "colab": {
          "base_uri": "https://localhost:8080/",
          "height": 507
        },
        "id": "rHMmras6y_28",
        "outputId": "75dbc9db-b166-4037-89ed-bb267124baa6"
      },
      "execution_count": null,
      "outputs": [
        {
          "output_type": "stream",
          "name": "stderr",
          "text": [
            "<ipython-input-54-bff44564c0f6>:2: MatplotlibDeprecationWarning: The 'labels' parameter of boxplot() has been renamed 'tick_labels' since Matplotlib 3.9; support for the old name will be dropped in 3.11.\n",
            "  plt.boxplot(dados, labels=['Região X', 'Região Y'])\n"
          ]
        },
        {
          "output_type": "display_data",
          "data": {
            "text/plain": [
              "<Figure size 640x480 with 1 Axes>"
            ],
            "image/png": "[encoded data removed]"
          },
          "metadata": {}
        }
      ]
    },
    {
      "cell_type": "markdown",
      "source": [
        "##Importando tabela com pandas"
      ],
      "metadata": {
        "id": "a3X49bkeOJGg"
      }
    },
    {
      "cell_type": "code",
      "source": [
        "import pandas as pd\n",
        "df=pd.read_csv('https://docs.google.com/spreadsheets/d/e/2PACX-1vSi0KjDERJPP2_1LbyfM-pUYR2vEpyDXxdhKoIEIPCOVbUAj4BRzx9pqPNWEaZTiDNSSsJCPxXrePGq/pub?gid=265510342&single=true&output=csv')\n",
        "display(df)"
      ],
      "metadata": {
        "colab": {
          "base_uri": "https://localhost:8080/",
          "height": 423
        },
        "id": "XAwliHoPKuY0",
        "outputId": "b9acb3a3-d0b8-42e1-de6b-950412ba6a82"
      },
      "execution_count": null,
      "outputs": [
        {
          "output_type": "display_data",
          "data": {
            "text/plain": [
              "     ID  Idade  Horas de Exercício  Consumo de Frutas e Vegetais  \\\n",
              "0     1     56                   7                             0   \n",
              "1     2     46                   7                             2   \n",
              "2     3     32                  10                             0   \n",
              "3     4     60                   2                             1   \n",
              "4     5     25                   0                             1   \n",
              "..  ...    ...                 ...                           ...   \n",
              "95   96     42                   1                             5   \n",
              "96   97     24                   2                             2   \n",
              "97   98     26                   0                             4   \n",
              "98   99     41                   4                             0   \n",
              "99  100     18                   0                             3   \n",
              "\n",
              "    Nível de Estresse                     IMC  \n",
              "0                   0                    23.3  \n",
              "1                   3                    25.9  \n",
              "2                   0                    26.6  \n",
              "3                   4                    26.3  \n",
              "4                   3  33.900.000.000.000.000  \n",
              "..                ...                     ...  \n",
              "95                  9  31.200.000.000.000.000  \n",
              "96                  9                    35.2  \n",
              "97                  5  33.599.999.999.999.900  \n",
              "98                  0                    27.8  \n",
              "99                  3                    34.7  \n",
              "\n",
              "[100 rows x 6 columns]"
            ],
            "text/html": [
              "\n",
              "  <div id=\"df-1bc43144-36d3-4fab-9cfb-f21316679adc\" class=\"colab-df-container\">\n",
              "    <div>\n",
              "<style scoped>\n",
              "    .dataframe tbody tr th:only-of-type {\n",
              "        vertical-align: middle;\n",
              "    }\n",
              "\n",
              "    .dataframe tbody tr th {\n",
              "        vertical-align: top;\n",
              "    }\n",
              "\n",
              "    .dataframe thead th {\n",
              "        text-align: right;\n",
              "    }\n",
              "</style>\n",
              "<table border=\"1\" class=\"dataframe\">\n",
              "  <thead>\n",
              "    <tr style=\"text-align: right;\">\n",
              "      <th></th>\n",
              "      <th>ID</th>\n",
              "      <th>Idade</th>\n",
              "      <th>Horas de Exercício</th>\n",
              "      <th>Consumo de Frutas e Vegetais</th>\n",
              "      <th>Nível de Estresse</th>\n",
              "      <th>IMC</th>\n",
              "    </tr>\n",
              "  </thead>\n",
              "  <tbody>\n",
              "    <tr>\n",
              "      <th>0</th>\n",
              "      <td>1</td>\n",
              "      <td>56</td>\n",
              "      <td>7</td>\n",
              "      <td>0</td>\n",
              "      <td>0</td>\n",
              "      <td>23.3</td>\n",
              "    </tr>\n",
              "    <tr>\n",
              "      <th>1</th>\n",
              "      <td>2</td>\n",
              "      <td>46</td>\n",
              "      <td>7</td>\n",
              "      <td>2</td>\n",
              "      <td>3</td>\n",
              "      <td>25.9</td>\n",
              "    </tr>\n",
              "    <tr>\n",
              "      <th>2</th>\n",
              "      <td>3</td>\n",
              "      <td>32</td>\n",
              "      <td>10</td>\n",
              "      <td>0</td>\n",
              "      <td>0</td>\n",
              "      <td>26.6</td>\n",
              "    </tr>\n",
              "    <tr>\n",
              "      <th>3</th>\n",
              "      <td>4</td>\n",
              "      <td>60</td>\n",
              "      <td>2</td>\n",
              "      <td>1</td>\n",
              "      <td>4</td>\n",
              "      <td>26.3</td>\n",
              "    </tr>\n",
              "    <tr>\n",
              "      <th>4</th>\n",
              "      <td>5</td>\n",
              "      <td>25</td>\n",
              "      <td>0</td>\n",
              "      <td>1</td>\n",
              "      <td>3</td>\n",
              "      <td>33.900.000.000.000.000</td>\n",
              "    </tr>\n",
              "    <tr>\n",
              "      <th>...</th>\n",
              "      <td>...</td>\n",
              "      <td>...</td>\n",
              "      <td>...</td>\n",
              "      <td>...</td>\n",
              "      <td>...</td>\n",
              "      <td>...</td>\n",
              "    </tr>\n",
              "    <tr>\n",
              "      <th>95</th>\n",
              "      <td>96</td>\n",
              "      <td>42</td>\n",
              "      <td>1</td>\n",
              "      <td>5</td>\n",
              "      <td>9</td>\n",
              "      <td>31.200.000.000.000.000</td>\n",
              "    </tr>\n",
              "    <tr>\n",
              "      <th>96</th>\n",
              "      <td>97</td>\n",
              "      <td>24</td>\n",
              "      <td>2</td>\n",
              "      <td>2</td>\n",
              "      <td>9</td>\n",
              "      <td>35.2</td>\n",
              "    </tr>\n",
              "    <tr>\n",
              "      <th>97</th>\n",
              "      <td>98</td>\n",
              "      <td>26</td>\n",
              "      <td>0</td>\n",
              "      <td>4</td>\n",
              "      <td>5</td>\n",
              "      <td>33.599.999.999.999.900</td>\n",
              "    </tr>\n",
              "    <tr>\n",
              "      <th>98</th>\n",
              "      <td>99</td>\n",
              "      <td>41</td>\n",
              "      <td>4</td>\n",
              "      <td>0</td>\n",
              "      <td>0</td>\n",
              "      <td>27.8</td>\n",
              "    </tr>\n",
              "    <tr>\n",
              "      <th>99</th>\n",
              "      <td>100</td>\n",
              "      <td>18</td>\n",
              "      <td>0</td>\n",
              "      <td>3</td>\n",
              "      <td>3</td>\n",
              "      <td>34.7</td>\n",
              "    </tr>\n",
              "  </tbody>\n",
              "</table>\n",
              "<p>100 rows × 6 columns</p>\n",
              "</div>\n",
              "    <div class=\"colab-df-buttons\">\n",
              "\n",
              "  <div class=\"colab-df-container\">\n",
              "    <button class=\"colab-df-convert\" onclick=\"convertToInteractive('df-1bc43144-36d3-4fab-9cfb-f21316679adc')\"\n",
              "            title=\"Convert this dataframe to an interactive table.\"\n",
              "            style=\"display:none;\">\n",
              "\n",
              "  <svg xmlns=\"http://www.w3.org/2000/svg\" height=\"24px\" viewBox=\"0 -960 960 960\">\n",
              "    <path d=\"M120-120v-720h720v720H120Zm60-500h600v-160H180v160Zm220 220h160v-160H400v160Zm0 220h160v-160H400v160ZM180-400h160v-160H180v160Zm440 0h160v-160H620v160ZM180-180h160v-160H180v160Zm440 0h160v-160H620v160Z\"/>\n",
              "  </svg>\n",
              "    </button>\n",
              "\n",
              "  <style>\n",
              "    .colab-df-container {\n",
              "      display:flex;\n",
              "      gap: 12px;\n",
              "    }\n",
              "\n",
              "    .colab-df-convert {\n",
              "      background-color: #E8F0FE;\n",
              "      border: none;\n",
              "      border-radius: 50%;\n",
              "      cursor: pointer;\n",
              "      display: none;\n",
              "      fill: #1967D2;\n",
              "      height: 32px;\n",
              "      padding: 0 0 0 0;\n",
              "      width: 32px;\n",
              "    }\n",
              "\n",
              "    .colab-df-convert:hover {\n",
              "      background-color: #E2EBFA;\n",
              "      box-shadow: 0px 1px 2px rgba(60, 64, 67, 0.3), 0px 1px 3px 1px rgba(60, 64, 67, 0.15);\n",
              "      fill: #174EA6;\n",
              "    }\n",
              "\n",
              "    .colab-df-buttons div {\n",
              "      margin-bottom: 4px;\n",
              "    }\n",
              "\n",
              "    [theme=dark] .colab-df-convert {\n",
              "      background-color: #3B4455;\n",
              "      fill: #D2E3FC;\n",
              "    }\n",
              "\n",
              "    [theme=dark] .colab-df-convert:hover {\n",
              "      background-color: #434B5C;\n",
              "      box-shadow: 0px 1px 3px 1px rgba(0, 0, 0, 0.15);\n",
              "      filter: drop-shadow(0px 1px 2px rgba(0, 0, 0, 0.3));\n",
              "      fill: #FFFFFF;\n",
              "    }\n",
              "  </style>\n",
              "\n",
              "    <script>\n",
              "      const buttonEl =\n",
              "        document.querySelector('#df-1bc43144-36d3-4fab-9cfb-f21316679adc button.colab-df-convert');\n",
              "      buttonEl.style.display =\n",
              "        google.colab.kernel.accessAllowed ? 'block' : 'none';\n",
              "\n",
              "      async function convertToInteractive(key) {\n",
              "        const element = document.querySelector('#df-1bc43144-36d3-4fab-9cfb-f21316679adc');\n",
              "        const dataTable =\n",
              "          await google.colab.kernel.invokeFunction('convertToInteractive',\n",
              "                                                    [key], {});\n",
              "        if (!dataTable) return;\n",
              "\n",
              "        const docLinkHtml = 'Like what you see? Visit the ' +\n",
              "          '<a target=\"_blank\" href=https://colab.research.google.com/notebooks/data_table.ipynb>data table notebook</a>'\n",
              "          + ' to learn more about interactive tables.';\n",
              "        element.innerHTML = '';\n",
              "        dataTable['output_type'] = 'display_data';\n",
              "        await google.colab.output.renderOutput(dataTable, element);\n",
              "        const docLink = document.createElement('div');\n",
              "        docLink.innerHTML = docLinkHtml;\n",
              "        element.appendChild(docLink);\n",
              "      }\n",
              "    </script>\n",
              "  </div>\n",
              "\n",
              "\n",
              "<div id=\"df-e202e937-e898-4aa0-972e-b51a8c8c43b9\">\n",
              "  <button class=\"colab-df-quickchart\" onclick=\"quickchart('df-e202e937-e898-4aa0-972e-b51a8c8c43b9')\"\n",
              "            title=\"Suggest charts\"\n",
              "            style=\"display:none;\">\n",
              "\n",
              "<svg xmlns=\"http://www.w3.org/2000/svg\" height=\"24px\"viewBox=\"0 0 24 24\"\n",
              "     width=\"24px\">\n",
              "    <g>\n",
              "        <path d=\"M19 3H5c-1.1 0-2 .9-2 2v14c0 1.1.9 2 2 2h14c1.1 0 2-.9 2-2V5c0-1.1-.9-2-2-2zM9 17H7v-7h2v7zm4 0h-2V7h2v10zm4 0h-2v-4h2v4z\"/>\n",
              "    </g>\n",
              "</svg>\n",
              "  </button>\n",
              "\n",
              "<style>\n",
              "  .colab-df-quickchart {\n",
              "      --bg-color: #E8F0FE;\n",
              "      --fill-color: #1967D2;\n",
              "      --hover-bg-color: #E2EBFA;\n",
              "      --hover-fill-color: #174EA6;\n",
              "      --disabled-fill-color: #AAA;\n",
              "      --disabled-bg-color: #DDD;\n",
              "  }\n",
              "\n",
              "  [theme=dark] .colab-df-quickchart {\n",
              "      --bg-color: #3B4455;\n",
              "      --fill-color: #D2E3FC;\n",
              "      --hover-bg-color: #434B5C;\n",
              "      --hover-fill-color: #FFFFFF;\n",
              "      --disabled-bg-color: #3B4455;\n",
              "      --disabled-fill-color: #666;\n",
              "  }\n",
              "\n",
              "  .colab-df-quickchart {\n",
              "    background-color: var(--bg-color);\n",
              "    border: none;\n",
              "    border-radius: 50%;\n",
              "    cursor: pointer;\n",
              "    display: none;\n",
              "    fill: var(--fill-color);\n",
              "    height: 32px;\n",
              "    padding: 0;\n",
              "    width: 32px;\n",
              "  }\n",
              "\n",
              "  .colab-df-quickchart:hover {\n",
              "    background-color: var(--hover-bg-color);\n",
              "    box-shadow: 0 1px 2px rgba(60, 64, 67, 0.3), 0 1px 3px 1px rgba(60, 64, 67, 0.15);\n",
              "    fill: var(--button-hover-fill-color);\n",
              "  }\n",
              "\n",
              "  .colab-df-quickchart-complete:disabled,\n",
              "  .colab-df-quickchart-complete:disabled:hover {\n",
              "    background-color: var(--disabled-bg-color);\n",
              "    fill: var(--disabled-fill-color);\n",
              "    box-shadow: none;\n",
              "  }\n",
              "\n",
              "  .colab-df-spinner {\n",
              "    border: 2px solid var(--fill-color);\n",
              "    border-color: transparent;\n",
              "    border-bottom-color: var(--fill-color);\n",
              "    animation:\n",
              "      spin 1s steps(1) infinite;\n",
              "  }\n",
              "\n",
              "  @keyframes spin {\n",
              "    0% {\n",
              "      border-color: transparent;\n",
              "      border-bottom-color: var(--fill-color);\n",
              "      border-left-color: var(--fill-color);\n",
              "    }\n",
              "    20% {\n",
              "      border-color: transparent;\n",
              "      border-left-color: var(--fill-color);\n",
              "      border-top-color: var(--fill-color);\n",
              "    }\n",
              "    30% {\n",
              "      border-color: transparent;\n",
              "      border-left-color: var(--fill-color);\n",
              "      border-top-color: var(--fill-color);\n",
              "      border-right-color: var(--fill-color);\n",
              "    }\n",
              "    40% {\n",
              "      border-color: transparent;\n",
              "      border-right-color: var(--fill-color);\n",
              "      border-top-color: var(--fill-color);\n",
              "    }\n",
              "    60% {\n",
              "      border-color: transparent;\n",
              "      border-right-color: var(--fill-color);\n",
              "    }\n",
              "    80% {\n",
              "      border-color: transparent;\n",
              "      border-right-color: var(--fill-color);\n",
              "      border-bottom-color: var(--fill-color);\n",
              "    }\n",
              "    90% {\n",
              "      border-color: transparent;\n",
              "      border-bottom-color: var(--fill-color);\n",
              "    }\n",
              "  }\n",
              "</style>\n",
              "\n",
              "  <script>\n",
              "    async function quickchart(key) {\n",
              "      const quickchartButtonEl =\n",
              "        document.querySelector('#' + key + ' button');\n",
              "      quickchartButtonEl.disabled = true;  // To prevent multiple clicks.\n",
              "      quickchartButtonEl.classList.add('colab-df-spinner');\n",
              "      try {\n",
              "        const charts = await google.colab.kernel.invokeFunction(\n",
              "            'suggestCharts', [key], {});\n",
              "      } catch (error) {\n",
              "        console.error('Error during call to suggestCharts:', error);\n",
              "      }\n",
              "      quickchartButtonEl.classList.remove('colab-df-spinner');\n",
              "      quickchartButtonEl.classList.add('colab-df-quickchart-complete');\n",
              "    }\n",
              "    (() => {\n",
              "      let quickchartButtonEl =\n",
              "        document.querySelector('#df-e202e937-e898-4aa0-972e-b51a8c8c43b9 button');\n",
              "      quickchartButtonEl.style.display =\n",
              "        google.colab.kernel.accessAllowed ? 'block' : 'none';\n",
              "    })();\n",
              "  </script>\n",
              "</div>\n",
              "\n",
              "  <div id=\"id_5b3931cf-b78c-49f0-885f-8252d061016a\">\n",
              "    <style>\n",
              "      .colab-df-generate {\n",
              "        background-color: #E8F0FE;\n",
              "        border: none;\n",
              "        border-radius: 50%;\n",
              "        cursor: pointer;\n",
              "        display: none;\n",
              "        fill: #1967D2;\n",
              "        height: 32px;\n",
              "        padding: 0 0 0 0;\n",
              "        width: 32px;\n",
              "      }\n",
              "\n",
              "      .colab-df-generate:hover {\n",
              "        background-color: #E2EBFA;\n",
              "        box-shadow: 0px 1px 2px rgba(60, 64, 67, 0.3), 0px 1px 3px 1px rgba(60, 64, 67, 0.15);\n",
              "        fill: #174EA6;\n",
              "      }\n",
              "\n",
              "      [theme=dark] .colab-df-generate {\n",
              "        background-color: #3B4455;\n",
              "        fill: #D2E3FC;\n",
              "      }\n",
              "\n",
              "      [theme=dark] .colab-df-generate:hover {\n",
              "        background-color: #434B5C;\n",
              "        box-shadow: 0px 1px 3px 1px rgba(0, 0, 0, 0.15);\n",
              "        filter: drop-shadow(0px 1px 2px rgba(0, 0, 0, 0.3));\n",
              "        fill: #FFFFFF;\n",
              "      }\n",
              "    </style>\n",
              "    <button class=\"colab-df-generate\" onclick=\"generateWithVariable('df')\"\n",
              "            title=\"Generate code using this dataframe.\"\n",
              "            style=\"display:none;\">\n",
              "\n",
              "  <svg xmlns=\"http://www.w3.org/2000/svg\" height=\"24px\"viewBox=\"0 0 24 24\"\n",
              "       width=\"24px\">\n",
              "    <path d=\"M7,19H8.4L18.45,9,17,7.55,7,17.6ZM5,21V16.75L18.45,3.32a2,2,0,0,1,2.83,0l1.4,1.43a1.91,1.91,0,0,1,.58,1.4,1.91,1.91,0,0,1-.58,1.4L9.25,21ZM18.45,9,17,7.55Zm-12,3A5.31,5.31,0,0,0,4.9,8.1,5.31,5.31,0,0,0,1,6.5,5.31,5.31,0,0,0,4.9,4.9,5.31,5.31,0,0,0,6.5,1,5.31,5.31,0,0,0,8.1,4.9,5.31,5.31,0,0,0,12,6.5,5.46,5.46,0,0,0,6.5,12Z\"/>\n",
              "  </svg>\n",
              "    </button>\n",
              "    <script>\n",
              "      (() => {\n",
              "      const buttonEl =\n",
              "        document.querySelector('#id_5b3931cf-b78c-49f0-885f-8252d061016a button.colab-df-generate');\n",
              "      buttonEl.style.display =\n",
              "        google.colab.kernel.accessAllowed ? 'block' : 'none';\n",
              "\n",
              "      buttonEl.onclick = () => {\n",
              "        google.colab.notebook.generateWithVariable('df');\n",
              "      }\n",
              "      })();\n",
              "    </script>\n",
              "  </div>\n",
              "\n",
              "    </div>\n",
              "  </div>\n"
            ],
            "application/vnd.google.colaboratory.intrinsic+json": {
              "type": "dataframe",
              "variable_name": "df",
              "summary": "{\n  \"name\": \"df\",\n  \"rows\": 100,\n  \"fields\": [\n    {\n      \"column\": \"ID\",\n      \"properties\": {\n        \"dtype\": \"number\",\n        \"std\": 29,\n        \"min\": 1,\n        \"max\": 100,\n        \"num_unique_values\": 100,\n        \"samples\": [\n          84,\n          54,\n          71\n        ],\n        \"semantic_type\": \"\",\n        \"description\": \"\"\n      }\n    },\n    {\n      \"column\": \"Idade\",\n      \"properties\": {\n        \"dtype\": \"number\",\n        \"std\": 14,\n        \"min\": 18,\n        \"max\": 65,\n        \"num_unique_values\": 44,\n        \"samples\": [\n          51,\n          33,\n          64\n        ],\n        \"semantic_type\": \"\",\n        \"description\": \"\"\n      }\n    },\n    {\n      \"column\": \"Horas de Exerc\\u00edcio\",\n      \"properties\": {\n        \"dtype\": \"number\",\n        \"std\": 3,\n        \"min\": 0,\n        \"max\": 10,\n        \"num_unique_values\": 11,\n        \"samples\": [\n          9,\n          7,\n          5\n        ],\n        \"semantic_type\": \"\",\n        \"description\": \"\"\n      }\n    },\n    {\n      \"column\": \"Consumo de Frutas e Vegetais\",\n      \"properties\": {\n        \"dtype\": \"number\",\n        \"std\": 1,\n        \"min\": 0,\n        \"max\": 5,\n        \"num_unique_values\": 6,\n        \"samples\": [\n          0,\n          2,\n          4\n        ],\n        \"semantic_type\": \"\",\n        \"description\": \"\"\n      }\n    },\n    {\n      \"column\": \"N\\u00edvel de Estresse\",\n      \"properties\": {\n        \"dtype\": \"number\",\n        \"std\": 3,\n        \"min\": 0,\n        \"max\": 10,\n        \"num_unique_values\": 11,\n        \"samples\": [\n          2,\n          0,\n          8\n        ],\n        \"semantic_type\": \"\",\n        \"description\": \"\"\n      }\n    },\n    {\n      \"column\": \"IMC\",\n      \"properties\": {\n        \"dtype\": \"string\",\n        \"num_unique_values\": 83,\n        \"samples\": [\n          \"25.1\",\n          \"23.3\",\n          \"33.5\"\n        ],\n        \"semantic_type\": \"\",\n        \"description\": \"\"\n      }\n    }\n  ]\n}"
            }
          },
          "metadata": {}
        }
      ]
    },
    {
      "cell_type": "code",
      "source": [
        "#retirando a coluna de IMC\n",
        "df=df.drop(columns='IMC')\n",
        "df"
      ],
      "metadata": {
        "colab": {
          "base_uri": "https://localhost:8080/",
          "height": 423
        },
        "id": "LiQb4PhEaAx5",
        "outputId": "b845d3ec-b5ff-42b9-de82-4b6999a7dd92"
      },
      "execution_count": null,
      "outputs": [
        {
          "output_type": "execute_result",
          "data": {
            "text/plain": [
              "     ID  Idade  Horas de Exercício  Consumo de Frutas e Vegetais  \\\n",
              "0     1     56                   7                             0   \n",
              "1     2     46                   7                             2   \n",
              "2     3     32                  10                             0   \n",
              "3     4     60                   2                             1   \n",
              "4     5     25                   0                             1   \n",
              "..  ...    ...                 ...                           ...   \n",
              "95   96     42                   1                             5   \n",
              "96   97     24                   2                             2   \n",
              "97   98     26                   0                             4   \n",
              "98   99     41                   4                             0   \n",
              "99  100     18                   0                             3   \n",
              "\n",
              "    Nível de Estresse  \n",
              "0                   0  \n",
              "1                   3  \n",
              "2                   0  \n",
              "3                   4  \n",
              "4                   3  \n",
              "..                ...  \n",
              "95                  9  \n",
              "96                  9  \n",
              "97                  5  \n",
              "98                  0  \n",
              "99                  3  \n",
              "\n",
              "[100 rows x 5 columns]"
            ],
            "text/html": [
              "\n",
              "  <div id=\"df-513170d3-2be4-420f-ac76-4b6f710c7bbf\" class=\"colab-df-container\">\n",
              "    <div>\n",
              "<style scoped>\n",
              "    .dataframe tbody tr th:only-of-type {\n",
              "        vertical-align: middle;\n",
              "    }\n",
              "\n",
              "    .dataframe tbody tr th {\n",
              "        vertical-align: top;\n",
              "    }\n",
              "\n",
              "    .dataframe thead th {\n",
              "        text-align: right;\n",
              "    }\n",
              "</style>\n",
              "<table border=\"1\" class=\"dataframe\">\n",
              "  <thead>\n",
              "    <tr style=\"text-align: right;\">\n",
              "      <th></th>\n",
              "      <th>ID</th>\n",
              "      <th>Idade</th>\n",
              "      <th>Horas de Exercício</th>\n",
              "      <th>Consumo de Frutas e Vegetais</th>\n",
              "      <th>Nível de Estresse</th>\n",
              "    </tr>\n",
              "  </thead>\n",
              "  <tbody>\n",
              "    <tr>\n",
              "      <th>0</th>\n",
              "      <td>1</td>\n",
              "      <td>56</td>\n",
              "      <td>7</td>\n",
              "      <td>0</td>\n",
              "      <td>0</td>\n",
              "    </tr>\n",
              "    <tr>\n",
              "      <th>1</th>\n",
              "      <td>2</td>\n",
              "      <td>46</td>\n",
              "      <td>7</td>\n",
              "      <td>2</td>\n",
              "      <td>3</td>\n",
              "    </tr>\n",
              "    <tr>\n",
              "      <th>2</th>\n",
              "      <td>3</td>\n",
              "      <td>32</td>\n",
              "      <td>10</td>\n",
              "      <td>0</td>\n",
              "      <td>0</td>\n",
              "    </tr>\n",
              "    <tr>\n",
              "      <th>3</th>\n",
              "      <td>4</td>\n",
              "      <td>60</td>\n",
              "      <td>2</td>\n",
              "      <td>1</td>\n",
              "      <td>4</td>\n",
              "    </tr>\n",
              "    <tr>\n",
              "      <th>4</th>\n",
              "      <td>5</td>\n",
              "      <td>25</td>\n",
              "      <td>0</td>\n",
              "      <td>1</td>\n",
              "      <td>3</td>\n",
              "    </tr>\n",
              "    <tr>\n",
              "      <th>...</th>\n",
              "      <td>...</td>\n",
              "      <td>...</td>\n",
              "      <td>...</td>\n",
              "      <td>...</td>\n",
              "      <td>...</td>\n",
              "    </tr>\n",
              "    <tr>\n",
              "      <th>95</th>\n",
              "      <td>96</td>\n",
              "      <td>42</td>\n",
              "      <td>1</td>\n",
              "      <td>5</td>\n",
              "      <td>9</td>\n",
              "    </tr>\n",
              "    <tr>\n",
              "      <th>96</th>\n",
              "      <td>97</td>\n",
              "      <td>24</td>\n",
              "      <td>2</td>\n",
              "      <td>2</td>\n",
              "      <td>9</td>\n",
              "    </tr>\n",
              "    <tr>\n",
              "      <th>97</th>\n",
              "      <td>98</td>\n",
              "      <td>26</td>\n",
              "      <td>0</td>\n",
              "      <td>4</td>\n",
              "      <td>5</td>\n",
              "    </tr>\n",
              "    <tr>\n",
              "      <th>98</th>\n",
              "      <td>99</td>\n",
              "      <td>41</td>\n",
              "      <td>4</td>\n",
              "      <td>0</td>\n",
              "      <td>0</td>\n",
              "    </tr>\n",
              "    <tr>\n",
              "      <th>99</th>\n",
              "      <td>100</td>\n",
              "      <td>18</td>\n",
              "      <td>0</td>\n",
              "      <td>3</td>\n",
              "      <td>3</td>\n",
              "    </tr>\n",
              "  </tbody>\n",
              "</table>\n",
              "<p>100 rows × 5 columns</p>\n",
              "</div>\n",
              "    <div class=\"colab-df-buttons\">\n",
              "\n",
              "  <div class=\"colab-df-container\">\n",
              "    <button class=\"colab-df-convert\" onclick=\"convertToInteractive('df-513170d3-2be4-420f-ac76-4b6f710c7bbf')\"\n",
              "            title=\"Convert this dataframe to an interactive table.\"\n",
              "            style=\"display:none;\">\n",
              "\n",
              "  <svg xmlns=\"http://www.w3.org/2000/svg\" height=\"24px\" viewBox=\"0 -960 960 960\">\n",
              "    <path d=\"M120-120v-720h720v720H120Zm60-500h600v-160H180v160Zm220 220h160v-160H400v160Zm0 220h160v-160H400v160ZM180-400h160v-160H180v160Zm440 0h160v-160H620v160ZM180-180h160v-160H180v160Zm440 0h160v-160H620v160Z\"/>\n",
              "  </svg>\n",
              "    </button>\n",
              "\n",
              "  <style>\n",
              "    .colab-df-container {\n",
              "      display:flex;\n",
              "      gap: 12px;\n",
              "    }\n",
              "\n",
              "    .colab-df-convert {\n",
              "      background-color: #E8F0FE;\n",
              "      border: none;\n",
              "      border-radius: 50%;\n",
              "      cursor: pointer;\n",
              "      display: none;\n",
              "      fill: #1967D2;\n",
              "      height: 32px;\n",
              "      padding: 0 0 0 0;\n",
              "      width: 32px;\n",
              "    }\n",
              "\n",
              "    .colab-df-convert:hover {\n",
              "      background-color: #E2EBFA;\n",
              "      box-shadow: 0px 1px 2px rgba(60, 64, 67, 0.3), 0px 1px 3px 1px rgba(60, 64, 67, 0.15);\n",
              "      fill: #174EA6;\n",
              "    }\n",
              "\n",
              "    .colab-df-buttons div {\n",
              "      margin-bottom: 4px;\n",
              "    }\n",
              "\n",
              "    [theme=dark] .colab-df-convert {\n",
              "      background-color: #3B4455;\n",
              "      fill: #D2E3FC;\n",
              "    }\n",
              "\n",
              "    [theme=dark] .colab-df-convert:hover {\n",
              "      background-color: #434B5C;\n",
              "      box-shadow: 0px 1px 3px 1px rgba(0, 0, 0, 0.15);\n",
              "      filter: drop-shadow(0px 1px 2px rgba(0, 0, 0, 0.3));\n",
              "      fill: #FFFFFF;\n",
              "    }\n",
              "  </style>\n",
              "\n",
              "    <script>\n",
              "      const buttonEl =\n",
              "        document.querySelector('#df-513170d3-2be4-420f-ac76-4b6f710c7bbf button.colab-df-convert');\n",
              "      buttonEl.style.display =\n",
              "        google.colab.kernel.accessAllowed ? 'block' : 'none';\n",
              "\n",
              "      async function convertToInteractive(key) {\n",
              "        const element = document.querySelector('#df-513170d3-2be4-420f-ac76-4b6f710c7bbf');\n",
              "        const dataTable =\n",
              "          await google.colab.kernel.invokeFunction('convertToInteractive',\n",
              "                                                    [key], {});\n",
              "        if (!dataTable) return;\n",
              "\n",
              "        const docLinkHtml = 'Like what you see? Visit the ' +\n",
              "          '<a target=\"_blank\" href=https://colab.research.google.com/notebooks/data_table.ipynb>data table notebook</a>'\n",
              "          + ' to learn more about interactive tables.';\n",
              "        element.innerHTML = '';\n",
              "        dataTable['output_type'] = 'display_data';\n",
              "        await google.colab.output.renderOutput(dataTable, element);\n",
              "        const docLink = document.createElement('div');\n",
              "        docLink.innerHTML = docLinkHtml;\n",
              "        element.appendChild(docLink);\n",
              "      }\n",
              "    </script>\n",
              "  </div>\n",
              "\n",
              "\n",
              "<div id=\"df-d77c3c43-3c5f-4f02-bab2-fac7f19be0f8\">\n",
              "  <button class=\"colab-df-quickchart\" onclick=\"quickchart('df-d77c3c43-3c5f-4f02-bab2-fac7f19be0f8')\"\n",
              "            title=\"Suggest charts\"\n",
              "            style=\"display:none;\">\n",
              "\n",
              "<svg xmlns=\"http://www.w3.org/2000/svg\" height=\"24px\"viewBox=\"0 0 24 24\"\n",
              "     width=\"24px\">\n",
              "    <g>\n",
              "        <path d=\"M19 3H5c-1.1 0-2 .9-2 2v14c0 1.1.9 2 2 2h14c1.1 0 2-.9 2-2V5c0-1.1-.9-2-2-2zM9 17H7v-7h2v7zm4 0h-2V7h2v10zm4 0h-2v-4h2v4z\"/>\n",
              "    </g>\n",
              "</svg>\n",
              "  </button>\n",
              "\n",
              "<style>\n",
              "  .colab-df-quickchart {\n",
              "      --bg-color: #E8F0FE;\n",
              "      --fill-color: #1967D2;\n",
              "      --hover-bg-color: #E2EBFA;\n",
              "      --hover-fill-color: #174EA6;\n",
              "      --disabled-fill-color: #AAA;\n",
              "      --disabled-bg-color: #DDD;\n",
              "  }\n",
              "\n",
              "  [theme=dark] .colab-df-quickchart {\n",
              "      --bg-color: #3B4455;\n",
              "      --fill-color: #D2E3FC;\n",
              "      --hover-bg-color: #434B5C;\n",
              "      --hover-fill-color: #FFFFFF;\n",
              "      --disabled-bg-color: #3B4455;\n",
              "      --disabled-fill-color: #666;\n",
              "  }\n",
              "\n",
              "  .colab-df-quickchart {\n",
              "    background-color: var(--bg-color);\n",
              "    border: none;\n",
              "    border-radius: 50%;\n",
              "    cursor: pointer;\n",
              "    display: none;\n",
              "    fill: var(--fill-color);\n",
              "    height: 32px;\n",
              "    padding: 0;\n",
              "    width: 32px;\n",
              "  }\n",
              "\n",
              "  .colab-df-quickchart:hover {\n",
              "    background-color: var(--hover-bg-color);\n",
              "    box-shadow: 0 1px 2px rgba(60, 64, 67, 0.3), 0 1px 3px 1px rgba(60, 64, 67, 0.15);\n",
              "    fill: var(--button-hover-fill-color);\n",
              "  }\n",
              "\n",
              "  .colab-df-quickchart-complete:disabled,\n",
              "  .colab-df-quickchart-complete:disabled:hover {\n",
              "    background-color: var(--disabled-bg-color);\n",
              "    fill: var(--disabled-fill-color);\n",
              "    box-shadow: none;\n",
              "  }\n",
              "\n",
              "  .colab-df-spinner {\n",
              "    border: 2px solid var(--fill-color);\n",
              "    border-color: transparent;\n",
              "    border-bottom-color: var(--fill-color);\n",
              "    animation:\n",
              "      spin 1s steps(1) infinite;\n",
              "  }\n",
              "\n",
              "  @keyframes spin {\n",
              "    0% {\n",
              "      border-color: transparent;\n",
              "      border-bottom-color: var(--fill-color);\n",
              "      border-left-color: var(--fill-color);\n",
              "    }\n",
              "    20% {\n",
              "      border-color: transparent;\n",
              "      border-left-color: var(--fill-color);\n",
              "      border-top-color: var(--fill-color);\n",
              "    }\n",
              "    30% {\n",
              "      border-color: transparent;\n",
              "      border-left-color: var(--fill-color);\n",
              "      border-top-color: var(--fill-color);\n",
              "      border-right-color: var(--fill-color);\n",
              "    }\n",
              "    40% {\n",
              "      border-color: transparent;\n",
              "      border-right-color: var(--fill-color);\n",
              "      border-top-color: var(--fill-color);\n",
              "    }\n",
              "    60% {\n",
              "      border-color: transparent;\n",
              "      border-right-color: var(--fill-color);\n",
              "    }\n",
              "    80% {\n",
              "      border-color: transparent;\n",
              "      border-right-color: var(--fill-color);\n",
              "      border-bottom-color: var(--fill-color);\n",
              "    }\n",
              "    90% {\n",
              "      border-color: transparent;\n",
              "      border-bottom-color: var(--fill-color);\n",
              "    }\n",
              "  }\n",
              "</style>\n",
              "\n",
              "  <script>\n",
              "    async function quickchart(key) {\n",
              "      const quickchartButtonEl =\n",
              "        document.querySelector('#' + key + ' button');\n",
              "      quickchartButtonEl.disabled = true;  // To prevent multiple clicks.\n",
              "      quickchartButtonEl.classList.add('colab-df-spinner');\n",
              "      try {\n",
              "        const charts = await google.colab.kernel.invokeFunction(\n",
              "            'suggestCharts', [key], {});\n",
              "      } catch (error) {\n",
              "        console.error('Error during call to suggestCharts:', error);\n",
              "      }\n",
              "      quickchartButtonEl.classList.remove('colab-df-spinner');\n",
              "      quickchartButtonEl.classList.add('colab-df-quickchart-complete');\n",
              "    }\n",
              "    (() => {\n",
              "      let quickchartButtonEl =\n",
              "        document.querySelector('#df-d77c3c43-3c5f-4f02-bab2-fac7f19be0f8 button');\n",
              "      quickchartButtonEl.style.display =\n",
              "        google.colab.kernel.accessAllowed ? 'block' : 'none';\n",
              "    })();\n",
              "  </script>\n",
              "</div>\n",
              "\n",
              "  <div id=\"id_0ad94670-63f4-40b2-a969-f857c046fd85\">\n",
              "    <style>\n",
              "      .colab-df-generate {\n",
              "        background-color: #E8F0FE;\n",
              "        border: none;\n",
              "        border-radius: 50%;\n",
              "        cursor: pointer;\n",
              "        display: none;\n",
              "        fill: #1967D2;\n",
              "        height: 32px;\n",
              "        padding: 0 0 0 0;\n",
              "        width: 32px;\n",
              "      }\n",
              "\n",
              "      .colab-df-generate:hover {\n",
              "        background-color: #E2EBFA;\n",
              "        box-shadow: 0px 1px 2px rgba(60, 64, 67, 0.3), 0px 1px 3px 1px rgba(60, 64, 67, 0.15);\n",
              "        fill: #174EA6;\n",
              "      }\n",
              "\n",
              "      [theme=dark] .colab-df-generate {\n",
              "        background-color: #3B4455;\n",
              "        fill: #D2E3FC;\n",
              "      }\n",
              "\n",
              "      [theme=dark] .colab-df-generate:hover {\n",
              "        background-color: #434B5C;\n",
              "        box-shadow: 0px 1px 3px 1px rgba(0, 0, 0, 0.15);\n",
              "        filter: drop-shadow(0px 1px 2px rgba(0, 0, 0, 0.3));\n",
              "        fill: #FFFFFF;\n",
              "      }\n",
              "    </style>\n",
              "    <button class=\"colab-df-generate\" onclick=\"generateWithVariable('df')\"\n",
              "            title=\"Generate code using this dataframe.\"\n",
              "            style=\"display:none;\">\n",
              "\n",
              "  <svg xmlns=\"http://www.w3.org/2000/svg\" height=\"24px\"viewBox=\"0 0 24 24\"\n",
              "       width=\"24px\">\n",
              "    <path d=\"M7,19H8.4L18.45,9,17,7.55,7,17.6ZM5,21V16.75L18.45,3.32a2,2,0,0,1,2.83,0l1.4,1.43a1.91,1.91,0,0,1,.58,1.4,1.91,1.91,0,0,1-.58,1.4L9.25,21ZM18.45,9,17,7.55Zm-12,3A5.31,5.31,0,0,0,4.9,8.1,5.31,5.31,0,0,0,1,6.5,5.31,5.31,0,0,0,4.9,4.9,5.31,5.31,0,0,0,6.5,1,5.31,5.31,0,0,0,8.1,4.9,5.31,5.31,0,0,0,12,6.5,5.46,5.46,0,0,0,6.5,12Z\"/>\n",
              "  </svg>\n",
              "    </button>\n",
              "    <script>\n",
              "      (() => {\n",
              "      const buttonEl =\n",
              "        document.querySelector('#id_0ad94670-63f4-40b2-a969-f857c046fd85 button.colab-df-generate');\n",
              "      buttonEl.style.display =\n",
              "        google.colab.kernel.accessAllowed ? 'block' : 'none';\n",
              "\n",
              "      buttonEl.onclick = () => {\n",
              "        google.colab.notebook.generateWithVariable('df');\n",
              "      }\n",
              "      })();\n",
              "    </script>\n",
              "  </div>\n",
              "\n",
              "    </div>\n",
              "  </div>\n"
            ],
            "application/vnd.google.colaboratory.intrinsic+json": {
              "type": "dataframe",
              "variable_name": "df",
              "summary": "{\n  \"name\": \"df\",\n  \"rows\": 100,\n  \"fields\": [\n    {\n      \"column\": \"ID\",\n      \"properties\": {\n        \"dtype\": \"number\",\n        \"std\": 29,\n        \"min\": 1,\n        \"max\": 100,\n        \"num_unique_values\": 100,\n        \"samples\": [\n          84,\n          54,\n          71\n        ],\n        \"semantic_type\": \"\",\n        \"description\": \"\"\n      }\n    },\n    {\n      \"column\": \"Idade\",\n      \"properties\": {\n        \"dtype\": \"number\",\n        \"std\": 14,\n        \"min\": 18,\n        \"max\": 65,\n        \"num_unique_values\": 44,\n        \"samples\": [\n          51,\n          33,\n          64\n        ],\n        \"semantic_type\": \"\",\n        \"description\": \"\"\n      }\n    },\n    {\n      \"column\": \"Horas de Exerc\\u00edcio\",\n      \"properties\": {\n        \"dtype\": \"number\",\n        \"std\": 3,\n        \"min\": 0,\n        \"max\": 10,\n        \"num_unique_values\": 11,\n        \"samples\": [\n          9,\n          7,\n          5\n        ],\n        \"semantic_type\": \"\",\n        \"description\": \"\"\n      }\n    },\n    {\n      \"column\": \"Consumo de Frutas e Vegetais\",\n      \"properties\": {\n        \"dtype\": \"number\",\n        \"std\": 1,\n        \"min\": 0,\n        \"max\": 5,\n        \"num_unique_values\": 6,\n        \"samples\": [\n          0,\n          2,\n          4\n        ],\n        \"semantic_type\": \"\",\n        \"description\": \"\"\n      }\n    },\n    {\n      \"column\": \"N\\u00edvel de Estresse\",\n      \"properties\": {\n        \"dtype\": \"number\",\n        \"std\": 3,\n        \"min\": 0,\n        \"max\": 10,\n        \"num_unique_values\": 11,\n        \"samples\": [\n          2,\n          0,\n          8\n        ],\n        \"semantic_type\": \"\",\n        \"description\": \"\"\n      }\n    }\n  ]\n}"
            }
          },
          "metadata": {},
          "execution_count": 86
        }
      ]
    },
    {
      "cell_type": "code",
      "source": [
        "idade=df['Idade']"
      ],
      "metadata": {
        "id": "8TyEe71mS5pU"
      },
      "execution_count": null,
      "outputs": []
    },
    {
      "cell_type": "code",
      "source": [
        "horas_exercicio=df['Horas de Exercício']\n",
        "consumo_frutas=df['Consumo de Frutas e Vegetais']\n",
        "nivel_estresse=df['Nível de Estresse']\n",
        "imc=df['IMC']"
      ],
      "metadata": {
        "id": "nr3fQIKhS814"
      },
      "execution_count": null,
      "outputs": []
    },
    {
      "cell_type": "code",
      "source": [
        "display(idade)"
      ],
      "metadata": {
        "colab": {
          "base_uri": "https://localhost:8080/",
          "height": 458
        },
        "collapsed": true,
        "id": "64j8ztggTnMp",
        "outputId": "bde0373d-e05c-4973-b695-ad979417a74b"
      },
      "execution_count": null,
      "outputs": [
        {
          "output_type": "display_data",
          "data": {
            "text/plain": [
              "0     56\n",
              "1     46\n",
              "2     32\n",
              "3     60\n",
              "4     25\n",
              "      ..\n",
              "95    42\n",
              "96    24\n",
              "97    26\n",
              "98    41\n",
              "99    18\n",
              "Name: Idade, Length: 100, dtype: int64"
            ],
            "text/html": [
              "<div>\n",
              "<style scoped>\n",
              "    .dataframe tbody tr th:only-of-type {\n",
              "        vertical-align: middle;\n",
              "    }\n",
              "\n",
              "    .dataframe tbody tr th {\n",
              "        vertical-align: top;\n",
              "    }\n",
              "\n",
              "    .dataframe thead th {\n",
              "        text-align: right;\n",
              "    }\n",
              "</style>\n",
              "<table border=\"1\" class=\"dataframe\">\n",
              "  <thead>\n",
              "    <tr style=\"text-align: right;\">\n",
              "      <th></th>\n",
              "      <th>Idade</th>\n",
              "    </tr>\n",
              "  </thead>\n",
              "  <tbody>\n",
              "    <tr>\n",
              "      <th>0</th>\n",
              "      <td>56</td>\n",
              "    </tr>\n",
              "    <tr>\n",
              "      <th>1</th>\n",
              "      <td>46</td>\n",
              "    </tr>\n",
              "    <tr>\n",
              "      <th>2</th>\n",
              "      <td>32</td>\n",
              "    </tr>\n",
              "    <tr>\n",
              "      <th>3</th>\n",
              "      <td>60</td>\n",
              "    </tr>\n",
              "    <tr>\n",
              "      <th>4</th>\n",
              "      <td>25</td>\n",
              "    </tr>\n",
              "    <tr>\n",
              "      <th>...</th>\n",
              "      <td>...</td>\n",
              "    </tr>\n",
              "    <tr>\n",
              "      <th>95</th>\n",
              "      <td>42</td>\n",
              "    </tr>\n",
              "    <tr>\n",
              "      <th>96</th>\n",
              "      <td>24</td>\n",
              "    </tr>\n",
              "    <tr>\n",
              "      <th>97</th>\n",
              "      <td>26</td>\n",
              "    </tr>\n",
              "    <tr>\n",
              "      <th>98</th>\n",
              "      <td>41</td>\n",
              "    </tr>\n",
              "    <tr>\n",
              "      <th>99</th>\n",
              "      <td>18</td>\n",
              "    </tr>\n",
              "  </tbody>\n",
              "</table>\n",
              "<p>100 rows × 1 columns</p>\n",
              "</div><br><label><b>dtype:</b> int64</label>"
            ]
          },
          "metadata": {}
        }
      ]
    },
    {
      "cell_type": "code",
      "source": [
        "display(consumo_frutas)"
      ],
      "metadata": {
        "id": "78E8i5_RUFl5"
      },
      "execution_count": null,
      "outputs": []
    },
    {
      "cell_type": "code",
      "source": [
        "display(nivel_estresse)\n"
      ],
      "metadata": {
        "id": "gIGraSSqUMMM"
      },
      "execution_count": null,
      "outputs": []
    },
    {
      "cell_type": "code",
      "source": [
        "media_idade=np.mean(idade)\n",
        "print(media_idade)"
      ],
      "metadata": {
        "colab": {
          "base_uri": "https://localhost:8080/"
        },
        "id": "zGC-3dadVFC7",
        "outputId": "d4b919e6-dd66-43b1-d7ef-6c52c0a4a781"
      },
      "execution_count": null,
      "outputs": [
        {
          "output_type": "stream",
          "name": "stdout",
          "text": [
            "40.92\n"
          ]
        }
      ]
    },
    {
      "cell_type": "markdown",
      "source": [
        "Desvio padrao e variâncida das idades"
      ],
      "metadata": {
        "id": "ROT8zpFeWlMC"
      }
    },
    {
      "cell_type": "code",
      "source": [
        "desvio_padrao_idade= np.std(idade)\n",
        "variancia_idade=np.var(idade)\n",
        "\n",
        "display(round(desvio_padrao_idade,2))\n",
        "display(round(variancia_idade,2))"
      ],
      "metadata": {
        "colab": {
          "base_uri": "https://localhost:8080/",
          "height": 52
        },
        "id": "hV4kFDaaWoVF",
        "outputId": "18720794-4c82-4a82-a560-e1967e934932"
      },
      "execution_count": null,
      "outputs": [
        {
          "output_type": "display_data",
          "data": {
            "text/plain": [
              "13.98"
            ]
          },
          "metadata": {}
        },
        {
          "output_type": "display_data",
          "data": {
            "text/plain": [
              "195.55"
            ]
          },
          "metadata": {}
        }
      ]
    },
    {
      "cell_type": "code",
      "source": [
        "max_idade=np.max(idade)\n",
        "min_idade=np.min(idade)\n",
        "mediana_idade=np.median(idade)\n",
        "percentil_25_idade=np.percentile(idade,25)\n",
        "percentil_75_idade=np.percentile(idade,25)\n",
        "\n",
        "display(max_idade)\n",
        "display(min_idade)\n",
        "display(mediana_idade)"
      ],
      "metadata": {
        "colab": {
          "base_uri": "https://localhost:8080/",
          "height": 69
        },
        "id": "SppzU1fhXVX_",
        "outputId": "08e8f99f-65ba-4f52-8c9d-7db2faea9c2b"
      },
      "execution_count": null,
      "outputs": [
        {
          "output_type": "display_data",
          "data": {
            "text/plain": [
              "65"
            ]
          },
          "metadata": {}
        },
        {
          "output_type": "display_data",
          "data": {
            "text/plain": [
              "18"
            ]
          },
          "metadata": {}
        },
        {
          "output_type": "display_data",
          "data": {
            "text/plain": [
              "41.0"
            ]
          },
          "metadata": {}
        }
      ]
    },
    {
      "cell_type": "markdown",
      "source": [
        "##Correlação"
      ],
      "metadata": {
        "id": "7MvwUN9xaQ0R"
      }
    },
    {
      "cell_type": "markdown",
      "source": [
        "Correlação entre o nível de estresse com consumo de frutas e vegetais"
      ],
      "metadata": {
        "id": "QJ_GLA-OaikY"
      }
    },
    {
      "cell_type": "code",
      "source": [
        "corr_nvestresse_consumo= np.corrcoef(nivel_estresse,consumo_frutas)\n",
        "display(corr_nvestresse_consumo)"
      ],
      "metadata": {
        "colab": {
          "base_uri": "https://localhost:8080/",
          "height": 52
        },
        "id": "sm4AXIMQaSLs",
        "outputId": "cbd591bf-44fd-4f31-a47e-ae119937fbc4"
      },
      "execution_count": null,
      "outputs": [
        {
          "output_type": "display_data",
          "data": {
            "text/plain": [
              "array([[1.        , 0.27477724],\n",
              "       [0.27477724, 1.        ]])"
            ]
          },
          "metadata": {}
        }
      ]
    },
    {
      "cell_type": "code",
      "source": [
        "# Gráfico de Dispersão\n",
        "plt.scatter(nivel_estresse, consumo_frutas, color='orange', label='Dados')\n",
        "\n",
        "# Calculando a linha de tendência (reta de regressão)\n",
        "coef = np.polyfit(nivel_estresse, consumo_frutas, 1)\n",
        "poly1d_fn = np.poly1d(coef)\n",
        "\n",
        "# Adicionando a linha de tendência\n",
        "plt.plot(nivel_estresse, poly1d_fn(nivel_estresse), color='red', label='Linha de Tendência')\n",
        "\n",
        "# Ajustando o gráfico\n",
        "plt.title('Nível de Estresse vs Consumo de Frutas e Vegetais')\n",
        "plt.xlabel('Nível de Estresse')\n",
        "plt.ylabel('Porções de Frutas e Vegetais')\n",
        "plt.legend()\n",
        "plt.grid(True)\n",
        "plt.show()\n"
      ],
      "metadata": {
        "colab": {
          "base_uri": "https://localhost:8080/",
          "height": 472
        },
        "id": "5iQ2pSnEbD07",
        "outputId": "a4e2bec9-ef94-4135-ffc7-366888a1edea"
      },
      "execution_count": null,
      "outputs": [
        {
          "output_type": "display_data",
          "data": {
            "text/plain": [
              "<Figure size 640x480 with 1 Axes>"
            ],
            "image/png": "[encoded data removed]"
          },
          "metadata": {}
        }
      ]
    },
    {
      "cell_type": "markdown",
      "source": [
        "idade e nivel de estresse"
      ],
      "metadata": {
        "id": "byECc6R_cuD1"
      }
    },
    {
      "cell_type": "code",
      "source": [
        "corr_nvestresse_idade=np.corrcoef(nivel_estresse,idade)\n",
        "display(corr_nvestresse_idade)"
      ],
      "metadata": {
        "colab": {
          "base_uri": "https://localhost:8080/",
          "height": 52
        },
        "id": "yWu3JAnqcyrz",
        "outputId": "eaaa556c-24b2-4f7a-855c-abbe1c33c8a5"
      },
      "execution_count": null,
      "outputs": [
        {
          "output_type": "display_data",
          "data": {
            "text/plain": [
              "array([[ 1.        , -0.14089508],\n",
              "       [-0.14089508,  1.        ]])"
            ]
          },
          "metadata": {}
        }
      ]
    },
    {
      "cell_type": "code",
      "source": [
        "# Gráfico de Dispersão\n",
        "plt.figure(figsize=(8, 6))\n",
        "plt.scatter(idade, nivel_estresse, color='blue', label='Dados')\n",
        "# Calculando a linha de tendência (reta de regressão)\n",
        "coef = np.polyfit(idade, nivel_estresse, 1)\n",
        "poly1d_fn = np.poly1d(coef)\n",
        "\n",
        "# Adicionando a linha de tendência\n",
        "plt.plot(idade, poly1d_fn(idade), color='red', label='Linha de Tendência')\n",
        "\n",
        "# Ajustando o gráfico\n",
        "plt.title('Nível de Estresse vs Idade')\n",
        "plt.xlabel('Idade')\n",
        "plt.ylabel('Nível de Estresse')\n",
        "plt.legend()\n",
        "plt.grid(True)\n",
        "plt.show()"
      ],
      "metadata": {
        "colab": {
          "base_uri": "https://localhost:8080/",
          "height": 564
        },
        "id": "5LoDRv7EdNlO",
        "outputId": "e6bf05ed-f35c-4074-cf47-c430fd994bd7"
      },
      "execution_count": null,
      "outputs": [
        {
          "output_type": "display_data",
          "data": {
            "text/plain": [
              "<Figure size 800x600 with 1 Axes>"
            ],
            "image/png": "[encoded data removed]"
          },
          "metadata": {}
        }
      ]
    },
    {
      "cell_type": "markdown",
      "source": [
        "correlação Atividade fisica x nível de estresse"
      ],
      "metadata": {
        "id": "gVP8ieqAd-gH"
      }
    },
    {
      "cell_type": "code",
      "source": [
        "corr_nvstress_atvFisica=np.corrcoef(nivel_estresse,horas_exercicio)\n",
        "display(corr_nvstress_atvFisica)\n",
        "# Calculando a correlação\n",
        "corr_nvstress_atvFisica = np.corrcoef(nivel_estresse, horas_exercicio)\n",
        "print(f\"Correlação entre Nível de Estresse e Horas de Exercício: {corr_nvstress_atvFisica[0, 1]:.2f}\")\n",
        "\n",
        "# Gráfico de Dispersão\n",
        "plt.figure(figsize=(8, 6))\n",
        "plt.scatter(horas_exercicio, nivel_estresse, color='purple', label='Dados')\n",
        "\n",
        "# Calculando a linha de tendência (reta de regressão)\n",
        "coef = np.polyfit(horas_exercicio, nivel_estresse, 1)\n",
        "poly1d_fn = np.poly1d(coef)\n",
        "\n",
        "# Adicionando a linha de tendência\n",
        "plt.plot(horas_exercicio, poly1d_fn(horas_exercicio), color='red', label='Linha de Tendência')\n",
        "\n",
        "# Ajustando o gráfico\n",
        "plt.title('Nível de Estresse vs Horas de Exercício')\n",
        "plt.xlabel('Horas de Exercício por Semana')\n",
        "plt.ylabel('Nível de Estresse')\n",
        "plt.legend()\n",
        "plt.grid(True)\n",
        "plt.show()"
      ],
      "metadata": {
        "colab": {
          "base_uri": "https://localhost:8080/",
          "height": 617
        },
        "id": "YjbHil-AeHQF",
        "outputId": "e8a8c7b0-efed-421e-aa53-010849f1aa35"
      },
      "execution_count": null,
      "outputs": [
        {
          "output_type": "display_data",
          "data": {
            "text/plain": [
              "array([[1.        , 0.05564075],\n",
              "       [0.05564075, 1.        ]])"
            ]
          },
          "metadata": {}
        },
        {
          "output_type": "stream",
          "name": "stdout",
          "text": [
            "Correlação entre Nível de Estresse e Horas de Exercício: 0.06\n"
          ]
        },
        {
          "output_type": "display_data",
          "data": {
            "text/plain": [
              "<Figure size 800x600 with 1 Axes>"
            ],
            "image/png": "[encoded data removed]"
          },
          "metadata": {}
        }
      ]
    },
    {
      "cell_type": "code",
      "source": [
        "df_dadosverdadeiros=pd.read_csv('https://docs.google.com/spreadsheets/d/e/2PACX-1vQZDP-ePiLB-N0je3DhbtGHpdMA_2673yo7Wg_noI5NqNGpL-O58y9q8cG8MCyE2XMaB8iXatSsLD7Q/pub?gid=1209288085&single=true&output=csv')\n",
        "display(df_dadosverdadeiros)"
      ],
      "metadata": {
        "colab": {
          "base_uri": "https://localhost:8080/",
          "height": 1000
        },
        "id": "wvtekWCiiV-h",
        "outputId": "4fc62915-4663-46b1-9d6d-2bfece6d7dc2"
      },
      "execution_count": null,
      "outputs": [
        {
          "output_type": "display_data",
          "data": {
            "text/plain": [
              "   Carimbo de data/hora                                 Nome  Idade  \\\n",
              "0   26/02/2025 15:21:22                             Jeferson     30   \n",
              "1   26/02/2025 15:22:18                               Miguel     20   \n",
              "2   26/02/2025 15:22:42  Layla Rafaelle Honorato Gomes da Fé     43   \n",
              "3   26/02/2025 15:22:52          João Victor Pinho de Castro     30   \n",
              "4   26/02/2025 15:23:04                     Mariana Monteiro     26   \n",
              "5   26/02/2025 15:23:17                                 Rita     26   \n",
              "6   26/02/2025 15:23:19                             Tathiany     25   \n",
              "7   26/02/2025 15:23:22                         Lucas Junior     18   \n",
              "8   26/02/2025 15:23:41                             Gabriel      22   \n",
              "9   26/02/2025 15:23:43                             Michelle     37   \n",
              "10  26/02/2025 15:23:54                               Karina     30   \n",
              "11  26/02/2025 15:23:57                        Renato Costa      32   \n",
              "12  26/02/2025 15:24:02                               Stella     25   \n",
              "13  26/02/2025 15:24:05                       Mariana Angeli     38   \n",
              "14  26/02/2025 15:24:16                                Raxel     19   \n",
              "15  26/02/2025 15:24:25                       Maria de Jesus     50   \n",
              "16  26/02/2025 15:24:26                      Luana Tamaturgo     38   \n",
              "17  26/02/2025 15:24:27                                Luisa     23   \n",
              "18  26/02/2025 15:24:33                                  Ana     18   \n",
              "19  26/02/2025 15:24:35                             Maricota     24   \n",
              "20  26/02/2025 15:24:35                               Flávia     42   \n",
              "21  26/02/2025 15:24:35                              Raissah     30   \n",
              "22  26/02/2025 15:24:37                              gustavo     27   \n",
              "23  26/02/2025 15:24:53                                Marta     51   \n",
              "24  26/02/2025 15:25:03                 Viviane Gomes Santos     35   \n",
              "25  26/02/2025 15:25:05                               Leonor     75   \n",
              "26  26/02/2025 15:25:10                                 Raul     27   \n",
              "27  26/02/2025 15:25:14             Cristiane Meira da Silva     43   \n",
              "28  26/02/2025 15:25:26                       Anile Oliveira     65   \n",
              "29  26/02/2025 15:25:35                               Samuel     33   \n",
              "30  26/02/2025 15:25:44                              Junior      90   \n",
              "31  26/02/2025 15:26:22                         João Gabriel     26   \n",
              "32  26/02/2025 15:26:35                               ChuChu     13   \n",
              "\n",
              "    Nivel de stress de 1 a 10  Consumo alimentos e 1 a 10  Horas de exercicio  \n",
              "0                          10                           4                   4  \n",
              "1                          10                           7                   3  \n",
              "2                           8                           9                   8  \n",
              "3                           7                           5                   2  \n",
              "4                           9                           8                   4  \n",
              "5                           8                           5                   7  \n",
              "6                           7                           6                   9  \n",
              "7                           4                           4                   1  \n",
              "8                           7                           2                   8  \n",
              "9                           1                          10                   4  \n",
              "10                          7                           8                   1  \n",
              "11                          8                           1                   1  \n",
              "12                          6                           4                   3  \n",
              "13                          3                          10                  10  \n",
              "14                          7                          10                   1  \n",
              "15                          6                           9                   1  \n",
              "16                          3                           7                   3  \n",
              "17                          4                           6                   1  \n",
              "18                         10                           6                   2  \n",
              "19                          2                           5                   7  \n",
              "20                          5                           5                   1  \n",
              "21                          9                           8                   3  \n",
              "22                         10                           3                   1  \n",
              "23                          5                           8                   3  \n",
              "24                          5                           8                   3  \n",
              "25                          6                           3                   1  \n",
              "26                          7                           1                   1  \n",
              "27                          5                          10                   1  \n",
              "28                          3                           9                  10  \n",
              "29                         10                           2                   1  \n",
              "30                          2                           8                   5  \n",
              "31                          8                           8                   6  \n",
              "32                          1                           1                   1  "
            ],
            "text/html": [
              "\n",
              "  <div id=\"df-0be7268e-09c4-4830-80f1-b406c6e1d144\" class=\"colab-df-container\">\n",
              "    <div>\n",
              "<style scoped>\n",
              "    .dataframe tbody tr th:only-of-type {\n",
              "        vertical-align: middle;\n",
              "    }\n",
              "\n",
              "    .dataframe tbody tr th {\n",
              "        vertical-align: top;\n",
              "    }\n",
              "\n",
              "    .dataframe thead th {\n",
              "        text-align: right;\n",
              "    }\n",
              "</style>\n",
              "<table border=\"1\" class=\"dataframe\">\n",
              "  <thead>\n",
              "    <tr style=\"text-align: right;\">\n",
              "      <th></th>\n",
              "      <th>Carimbo de data/hora</th>\n",
              "      <th>Nome</th>\n",
              "      <th>Idade</th>\n",
              "      <th>Nivel de stress de 1 a 10</th>\n",
              "      <th>Consumo alimentos e 1 a 10</th>\n",
              "      <th>Horas de exercicio</th>\n",
              "    </tr>\n",
              "  </thead>\n",
              "  <tbody>\n",
              "    <tr>\n",
              "      <th>0</th>\n",
              "      <td>26/02/2025 15:21:22</td>\n",
              "      <td>Jeferson</td>\n",
              "      <td>30</td>\n",
              "      <td>10</td>\n",
              "      <td>4</td>\n",
              "      <td>4</td>\n",
              "    </tr>\n",
              "    <tr>\n",
              "      <th>1</th>\n",
              "      <td>26/02/2025 15:22:18</td>\n",
              "      <td>Miguel</td>\n",
              "      <td>20</td>\n",
              "      <td>10</td>\n",
              "      <td>7</td>\n",
              "      <td>3</td>\n",
              "    </tr>\n",
              "    <tr>\n",
              "      <th>2</th>\n",
              "      <td>26/02/2025 15:22:42</td>\n",
              "      <td>Layla Rafaelle Honorato Gomes da Fé</td>\n",
              "      <td>43</td>\n",
              "      <td>8</td>\n",
              "      <td>9</td>\n",
              "      <td>8</td>\n",
              "    </tr>\n",
              "    <tr>\n",
              "      <th>3</th>\n",
              "      <td>26/02/2025 15:22:52</td>\n",
              "      <td>João Victor Pinho de Castro</td>\n",
              "      <td>30</td>\n",
              "      <td>7</td>\n",
              "      <td>5</td>\n",
              "      <td>2</td>\n",
              "    </tr>\n",
              "    <tr>\n",
              "      <th>4</th>\n",
              "      <td>26/02/2025 15:23:04</td>\n",
              "      <td>Mariana Monteiro</td>\n",
              "      <td>26</td>\n",
              "      <td>9</td>\n",
              "      <td>8</td>\n",
              "      <td>4</td>\n",
              "    </tr>\n",
              "    <tr>\n",
              "      <th>5</th>\n",
              "      <td>26/02/2025 15:23:17</td>\n",
              "      <td>Rita</td>\n",
              "      <td>26</td>\n",
              "      <td>8</td>\n",
              "      <td>5</td>\n",
              "      <td>7</td>\n",
              "    </tr>\n",
              "    <tr>\n",
              "      <th>6</th>\n",
              "      <td>26/02/2025 15:23:19</td>\n",
              "      <td>Tathiany</td>\n",
              "      <td>25</td>\n",
              "      <td>7</td>\n",
              "      <td>6</td>\n",
              "      <td>9</td>\n",
              "    </tr>\n",
              "    <tr>\n",
              "      <th>7</th>\n",
              "      <td>26/02/2025 15:23:22</td>\n",
              "      <td>Lucas Junior</td>\n",
              "      <td>18</td>\n",
              "      <td>4</td>\n",
              "      <td>4</td>\n",
              "      <td>1</td>\n",
              "    </tr>\n",
              "    <tr>\n",
              "      <th>8</th>\n",
              "      <td>26/02/2025 15:23:41</td>\n",
              "      <td>Gabriel</td>\n",
              "      <td>22</td>\n",
              "      <td>7</td>\n",
              "      <td>2</td>\n",
              "      <td>8</td>\n",
              "    </tr>\n",
              "    <tr>\n",
              "      <th>9</th>\n",
              "      <td>26/02/2025 15:23:43</td>\n",
              "      <td>Michelle</td>\n",
              "      <td>37</td>\n",
              "      <td>1</td>\n",
              "      <td>10</td>\n",
              "      <td>4</td>\n",
              "    </tr>\n",
              "    <tr>\n",
              "      <th>10</th>\n",
              "      <td>26/02/2025 15:23:54</td>\n",
              "      <td>Karina</td>\n",
              "      <td>30</td>\n",
              "      <td>7</td>\n",
              "      <td>8</td>\n",
              "      <td>1</td>\n",
              "    </tr>\n",
              "    <tr>\n",
              "      <th>11</th>\n",
              "      <td>26/02/2025 15:23:57</td>\n",
              "      <td>Renato Costa</td>\n",
              "      <td>32</td>\n",
              "      <td>8</td>\n",
              "      <td>1</td>\n",
              "      <td>1</td>\n",
              "    </tr>\n",
              "    <tr>\n",
              "      <th>12</th>\n",
              "      <td>26/02/2025 15:24:02</td>\n",
              "      <td>Stella</td>\n",
              "      <td>25</td>\n",
              "      <td>6</td>\n",
              "      <td>4</td>\n",
              "      <td>3</td>\n",
              "    </tr>\n",
              "    <tr>\n",
              "      <th>13</th>\n",
              "      <td>26/02/2025 15:24:05</td>\n",
              "      <td>Mariana Angeli</td>\n",
              "      <td>38</td>\n",
              "      <td>3</td>\n",
              "      <td>10</td>\n",
              "      <td>10</td>\n",
              "    </tr>\n",
              "    <tr>\n",
              "      <th>14</th>\n",
              "      <td>26/02/2025 15:24:16</td>\n",
              "      <td>Raxel</td>\n",
              "      <td>19</td>\n",
              "      <td>7</td>\n",
              "      <td>10</td>\n",
              "      <td>1</td>\n",
              "    </tr>\n",
              "    <tr>\n",
              "      <th>15</th>\n",
              "      <td>26/02/2025 15:24:25</td>\n",
              "      <td>Maria de Jesus</td>\n",
              "      <td>50</td>\n",
              "      <td>6</td>\n",
              "      <td>9</td>\n",
              "      <td>1</td>\n",
              "    </tr>\n",
              "    <tr>\n",
              "      <th>16</th>\n",
              "      <td>26/02/2025 15:24:26</td>\n",
              "      <td>Luana Tamaturgo</td>\n",
              "      <td>38</td>\n",
              "      <td>3</td>\n",
              "      <td>7</td>\n",
              "      <td>3</td>\n",
              "    </tr>\n",
              "    <tr>\n",
              "      <th>17</th>\n",
              "      <td>26/02/2025 15:24:27</td>\n",
              "      <td>Luisa</td>\n",
              "      <td>23</td>\n",
              "      <td>4</td>\n",
              "      <td>6</td>\n",
              "      <td>1</td>\n",
              "    </tr>\n",
              "    <tr>\n",
              "      <th>18</th>\n",
              "      <td>26/02/2025 15:24:33</td>\n",
              "      <td>Ana</td>\n",
              "      <td>18</td>\n",
              "      <td>10</td>\n",
              "      <td>6</td>\n",
              "      <td>2</td>\n",
              "    </tr>\n",
              "    <tr>\n",
              "      <th>19</th>\n",
              "      <td>26/02/2025 15:24:35</td>\n",
              "      <td>Maricota</td>\n",
              "      <td>24</td>\n",
              "      <td>2</td>\n",
              "      <td>5</td>\n",
              "      <td>7</td>\n",
              "    </tr>\n",
              "    <tr>\n",
              "      <th>20</th>\n",
              "      <td>26/02/2025 15:24:35</td>\n",
              "      <td>Flávia</td>\n",
              "      <td>42</td>\n",
              "      <td>5</td>\n",
              "      <td>5</td>\n",
              "      <td>1</td>\n",
              "    </tr>\n",
              "    <tr>\n",
              "      <th>21</th>\n",
              "      <td>26/02/2025 15:24:35</td>\n",
              "      <td>Raissah</td>\n",
              "      <td>30</td>\n",
              "      <td>9</td>\n",
              "      <td>8</td>\n",
              "      <td>3</td>\n",
              "    </tr>\n",
              "    <tr>\n",
              "      <th>22</th>\n",
              "      <td>26/02/2025 15:24:37</td>\n",
              "      <td>gustavo</td>\n",
              "      <td>27</td>\n",
              "      <td>10</td>\n",
              "      <td>3</td>\n",
              "      <td>1</td>\n",
              "    </tr>\n",
              "    <tr>\n",
              "      <th>23</th>\n",
              "      <td>26/02/2025 15:24:53</td>\n",
              "      <td>Marta</td>\n",
              "      <td>51</td>\n",
              "      <td>5</td>\n",
              "      <td>8</td>\n",
              "      <td>3</td>\n",
              "    </tr>\n",
              "    <tr>\n",
              "      <th>24</th>\n",
              "      <td>26/02/2025 15:25:03</td>\n",
              "      <td>Viviane Gomes Santos</td>\n",
              "      <td>35</td>\n",
              "      <td>5</td>\n",
              "      <td>8</td>\n",
              "      <td>3</td>\n",
              "    </tr>\n",
              "    <tr>\n",
              "      <th>25</th>\n",
              "      <td>26/02/2025 15:25:05</td>\n",
              "      <td>Leonor</td>\n",
              "      <td>75</td>\n",
              "      <td>6</td>\n",
              "      <td>3</td>\n",
              "      <td>1</td>\n",
              "    </tr>\n",
              "    <tr>\n",
              "      <th>26</th>\n",
              "      <td>26/02/2025 15:25:10</td>\n",
              "      <td>Raul</td>\n",
              "      <td>27</td>\n",
              "      <td>7</td>\n",
              "      <td>1</td>\n",
              "      <td>1</td>\n",
              "    </tr>\n",
              "    <tr>\n",
              "      <th>27</th>\n",
              "      <td>26/02/2025 15:25:14</td>\n",
              "      <td>Cristiane Meira da Silva</td>\n",
              "      <td>43</td>\n",
              "      <td>5</td>\n",
              "      <td>10</td>\n",
              "      <td>1</td>\n",
              "    </tr>\n",
              "    <tr>\n",
              "      <th>28</th>\n",
              "      <td>26/02/2025 15:25:26</td>\n",
              "      <td>Anile Oliveira</td>\n",
              "      <td>65</td>\n",
              "      <td>3</td>\n",
              "      <td>9</td>\n",
              "      <td>10</td>\n",
              "    </tr>\n",
              "    <tr>\n",
              "      <th>29</th>\n",
              "      <td>26/02/2025 15:25:35</td>\n",
              "      <td>Samuel</td>\n",
              "      <td>33</td>\n",
              "      <td>10</td>\n",
              "      <td>2</td>\n",
              "      <td>1</td>\n",
              "    </tr>\n",
              "    <tr>\n",
              "      <th>30</th>\n",
              "      <td>26/02/2025 15:25:44</td>\n",
              "      <td>Junior</td>\n",
              "      <td>90</td>\n",
              "      <td>2</td>\n",
              "      <td>8</td>\n",
              "      <td>5</td>\n",
              "    </tr>\n",
              "    <tr>\n",
              "      <th>31</th>\n",
              "      <td>26/02/2025 15:26:22</td>\n",
              "      <td>João Gabriel</td>\n",
              "      <td>26</td>\n",
              "      <td>8</td>\n",
              "      <td>8</td>\n",
              "      <td>6</td>\n",
              "    </tr>\n",
              "    <tr>\n",
              "      <th>32</th>\n",
              "      <td>26/02/2025 15:26:35</td>\n",
              "      <td>ChuChu</td>\n",
              "      <td>13</td>\n",
              "      <td>1</td>\n",
              "      <td>1</td>\n",
              "      <td>1</td>\n",
              "    </tr>\n",
              "  </tbody>\n",
              "</table>\n",
              "</div>\n",
              "    <div class=\"colab-df-buttons\">\n",
              "\n",
              "  <div class=\"colab-df-container\">\n",
              "    <button class=\"colab-df-convert\" onclick=\"convertToInteractive('df-0be7268e-09c4-4830-80f1-b406c6e1d144')\"\n",
              "            title=\"Convert this dataframe to an interactive table.\"\n",
              "            style=\"display:none;\">\n",
              "\n",
              "  <svg xmlns=\"http://www.w3.org/2000/svg\" height=\"24px\" viewBox=\"0 -960 960 960\">\n",
              "    <path d=\"M120-120v-720h720v720H120Zm60-500h600v-160H180v160Zm220 220h160v-160H400v160Zm0 220h160v-160H400v160ZM180-400h160v-160H180v160Zm440 0h160v-160H620v160ZM180-180h160v-160H180v160Zm440 0h160v-160H620v160Z\"/>\n",
              "  </svg>\n",
              "    </button>\n",
              "\n",
              "  <style>\n",
              "    .colab-df-container {\n",
              "      display:flex;\n",
              "      gap: 12px;\n",
              "    }\n",
              "\n",
              "    .colab-df-convert {\n",
              "      background-color: #E8F0FE;\n",
              "      border: none;\n",
              "      border-radius: 50%;\n",
              "      cursor: pointer;\n",
              "      display: none;\n",
              "      fill: #1967D2;\n",
              "      height: 32px;\n",
              "      padding: 0 0 0 0;\n",
              "      width: 32px;\n",
              "    }\n",
              "\n",
              "    .colab-df-convert:hover {\n",
              "      background-color: #E2EBFA;\n",
              "      box-shadow: 0px 1px 2px rgba(60, 64, 67, 0.3), 0px 1px 3px 1px rgba(60, 64, 67, 0.15);\n",
              "      fill: #174EA6;\n",
              "    }\n",
              "\n",
              "    .colab-df-buttons div {\n",
              "      margin-bottom: 4px;\n",
              "    }\n",
              "\n",
              "    [theme=dark] .colab-df-convert {\n",
              "      background-color: #3B4455;\n",
              "      fill: #D2E3FC;\n",
              "    }\n",
              "\n",
              "    [theme=dark] .colab-df-convert:hover {\n",
              "      background-color: #434B5C;\n",
              "      box-shadow: 0px 1px 3px 1px rgba(0, 0, 0, 0.15);\n",
              "      filter: drop-shadow(0px 1px 2px rgba(0, 0, 0, 0.3));\n",
              "      fill: #FFFFFF;\n",
              "    }\n",
              "  </style>\n",
              "\n",
              "    <script>\n",
              "      const buttonEl =\n",
              "        document.querySelector('#df-0be7268e-09c4-4830-80f1-b406c6e1d144 button.colab-df-convert');\n",
              "      buttonEl.style.display =\n",
              "        google.colab.kernel.accessAllowed ? 'block' : 'none';\n",
              "\n",
              "      async function convertToInteractive(key) {\n",
              "        const element = document.querySelector('#df-0be7268e-09c4-4830-80f1-b406c6e1d144');\n",
              "        const dataTable =\n",
              "          await google.colab.kernel.invokeFunction('convertToInteractive',\n",
              "                                                    [key], {});\n",
              "        if (!dataTable) return;\n",
              "\n",
              "        const docLinkHtml = 'Like what you see? Visit the ' +\n",
              "          '<a target=\"_blank\" href=https://colab.research.google.com/notebooks/data_table.ipynb>data table notebook</a>'\n",
              "          + ' to learn more about interactive tables.';\n",
              "        element.innerHTML = '';\n",
              "        dataTable['output_type'] = 'display_data';\n",
              "        await google.colab.output.renderOutput(dataTable, element);\n",
              "        const docLink = document.createElement('div');\n",
              "        docLink.innerHTML = docLinkHtml;\n",
              "        element.appendChild(docLink);\n",
              "      }\n",
              "    </script>\n",
              "  </div>\n",
              "\n",
              "\n",
              "<div id=\"df-54425816-1e13-4625-ae5c-d868e75ae499\">\n",
              "  <button class=\"colab-df-quickchart\" onclick=\"quickchart('df-54425816-1e13-4625-ae5c-d868e75ae499')\"\n",
              "            title=\"Suggest charts\"\n",
              "            style=\"display:none;\">\n",
              "\n",
              "<svg xmlns=\"http://www.w3.org/2000/svg\" height=\"24px\"viewBox=\"0 0 24 24\"\n",
              "     width=\"24px\">\n",
              "    <g>\n",
              "        <path d=\"M19 3H5c-1.1 0-2 .9-2 2v14c0 1.1.9 2 2 2h14c1.1 0 2-.9 2-2V5c0-1.1-.9-2-2-2zM9 17H7v-7h2v7zm4 0h-2V7h2v10zm4 0h-2v-4h2v4z\"/>\n",
              "    </g>\n",
              "</svg>\n",
              "  </button>\n",
              "\n",
              "<style>\n",
              "  .colab-df-quickchart {\n",
              "      --bg-color: #E8F0FE;\n",
              "      --fill-color: #1967D2;\n",
              "      --hover-bg-color: #E2EBFA;\n",
              "      --hover-fill-color: #174EA6;\n",
              "      --disabled-fill-color: #AAA;\n",
              "      --disabled-bg-color: #DDD;\n",
              "  }\n",
              "\n",
              "  [theme=dark] .colab-df-quickchart {\n",
              "      --bg-color: #3B4455;\n",
              "      --fill-color: #D2E3FC;\n",
              "      --hover-bg-color: #434B5C;\n",
              "      --hover-fill-color: #FFFFFF;\n",
              "      --disabled-bg-color: #3B4455;\n",
              "      --disabled-fill-color: #666;\n",
              "  }\n",
              "\n",
              "  .colab-df-quickchart {\n",
              "    background-color: var(--bg-color);\n",
              "    border: none;\n",
              "    border-radius: 50%;\n",
              "    cursor: pointer;\n",
              "    display: none;\n",
              "    fill: var(--fill-color);\n",
              "    height: 32px;\n",
              "    padding: 0;\n",
              "    width: 32px;\n",
              "  }\n",
              "\n",
              "  .colab-df-quickchart:hover {\n",
              "    background-color: var(--hover-bg-color);\n",
              "    box-shadow: 0 1px 2px rgba(60, 64, 67, 0.3), 0 1px 3px 1px rgba(60, 64, 67, 0.15);\n",
              "    fill: var(--button-hover-fill-color);\n",
              "  }\n",
              "\n",
              "  .colab-df-quickchart-complete:disabled,\n",
              "  .colab-df-quickchart-complete:disabled:hover {\n",
              "    background-color: var(--disabled-bg-color);\n",
              "    fill: var(--disabled-fill-color);\n",
              "    box-shadow: none;\n",
              "  }\n",
              "\n",
              "  .colab-df-spinner {\n",
              "    border: 2px solid var(--fill-color);\n",
              "    border-color: transparent;\n",
              "    border-bottom-color: var(--fill-color);\n",
              "    animation:\n",
              "      spin 1s steps(1) infinite;\n",
              "  }\n",
              "\n",
              "  @keyframes spin {\n",
              "    0% {\n",
              "      border-color: transparent;\n",
              "      border-bottom-color: var(--fill-color);\n",
              "      border-left-color: var(--fill-color);\n",
              "    }\n",
              "    20% {\n",
              "      border-color: transparent;\n",
              "      border-left-color: var(--fill-color);\n",
              "      border-top-color: var(--fill-color);\n",
              "    }\n",
              "    30% {\n",
              "      border-color: transparent;\n",
              "      border-left-color: var(--fill-color);\n",
              "      border-top-color: var(--fill-color);\n",
              "      border-right-color: var(--fill-color);\n",
              "    }\n",
              "    40% {\n",
              "      border-color: transparent;\n",
              "      border-right-color: var(--fill-color);\n",
              "      border-top-color: var(--fill-color);\n",
              "    }\n",
              "    60% {\n",
              "      border-color: transparent;\n",
              "      border-right-color: var(--fill-color);\n",
              "    }\n",
              "    80% {\n",
              "      border-color: transparent;\n",
              "      border-right-color: var(--fill-color);\n",
              "      border-bottom-color: var(--fill-color);\n",
              "    }\n",
              "    90% {\n",
              "      border-color: transparent;\n",
              "      border-bottom-color: var(--fill-color);\n",
              "    }\n",
              "  }\n",
              "</style>\n",
              "\n",
              "  <script>\n",
              "    async function quickchart(key) {\n",
              "      const quickchartButtonEl =\n",
              "        document.querySelector('#' + key + ' button');\n",
              "      quickchartButtonEl.disabled = true;  // To prevent multiple clicks.\n",
              "      quickchartButtonEl.classList.add('colab-df-spinner');\n",
              "      try {\n",
              "        const charts = await google.colab.kernel.invokeFunction(\n",
              "            'suggestCharts', [key], {});\n",
              "      } catch (error) {\n",
              "        console.error('Error during call to suggestCharts:', error);\n",
              "      }\n",
              "      quickchartButtonEl.classList.remove('colab-df-spinner');\n",
              "      quickchartButtonEl.classList.add('colab-df-quickchart-complete');\n",
              "    }\n",
              "    (() => {\n",
              "      let quickchartButtonEl =\n",
              "        document.querySelector('#df-54425816-1e13-4625-ae5c-d868e75ae499 button');\n",
              "      quickchartButtonEl.style.display =\n",
              "        google.colab.kernel.accessAllowed ? 'block' : 'none';\n",
              "    })();\n",
              "  </script>\n",
              "</div>\n",
              "\n",
              "  <div id=\"id_f34cb67c-caea-4189-99ee-ffce1e4306e0\">\n",
              "    <style>\n",
              "      .colab-df-generate {\n",
              "        background-color: #E8F0FE;\n",
              "        border: none;\n",
              "        border-radius: 50%;\n",
              "        cursor: pointer;\n",
              "        display: none;\n",
              "        fill: #1967D2;\n",
              "        height: 32px;\n",
              "        padding: 0 0 0 0;\n",
              "        width: 32px;\n",
              "      }\n",
              "\n",
              "      .colab-df-generate:hover {\n",
              "        background-color: #E2EBFA;\n",
              "        box-shadow: 0px 1px 2px rgba(60, 64, 67, 0.3), 0px 1px 3px 1px rgba(60, 64, 67, 0.15);\n",
              "        fill: #174EA6;\n",
              "      }\n",
              "\n",
              "      [theme=dark] .colab-df-generate {\n",
              "        background-color: #3B4455;\n",
              "        fill: #D2E3FC;\n",
              "      }\n",
              "\n",
              "      [theme=dark] .colab-df-generate:hover {\n",
              "        background-color: #434B5C;\n",
              "        box-shadow: 0px 1px 3px 1px rgba(0, 0, 0, 0.15);\n",
              "        filter: drop-shadow(0px 1px 2px rgba(0, 0, 0, 0.3));\n",
              "        fill: #FFFFFF;\n",
              "      }\n",
              "    </style>\n",
              "    <button class=\"colab-df-generate\" onclick=\"generateWithVariable('df_dadosverdadeiros')\"\n",
              "            title=\"Generate code using this dataframe.\"\n",
              "            style=\"display:none;\">\n",
              "\n",
              "  <svg xmlns=\"http://www.w3.org/2000/svg\" height=\"24px\"viewBox=\"0 0 24 24\"\n",
              "       width=\"24px\">\n",
              "    <path d=\"M7,19H8.4L18.45,9,17,7.55,7,17.6ZM5,21V16.75L18.45,3.32a2,2,0,0,1,2.83,0l1.4,1.43a1.91,1.91,0,0,1,.58,1.4,1.91,1.91,0,0,1-.58,1.4L9.25,21ZM18.45,9,17,7.55Zm-12,3A5.31,5.31,0,0,0,4.9,8.1,5.31,5.31,0,0,0,1,6.5,5.31,5.31,0,0,0,4.9,4.9,5.31,5.31,0,0,0,6.5,1,5.31,5.31,0,0,0,8.1,4.9,5.31,5.31,0,0,0,12,6.5,5.46,5.46,0,0,0,6.5,12Z\"/>\n",
              "  </svg>\n",
              "    </button>\n",
              "    <script>\n",
              "      (() => {\n",
              "      const buttonEl =\n",
              "        document.querySelector('#id_f34cb67c-caea-4189-99ee-ffce1e4306e0 button.colab-df-generate');\n",
              "      buttonEl.style.display =\n",
              "        google.colab.kernel.accessAllowed ? 'block' : 'none';\n",
              "\n",
              "      buttonEl.onclick = () => {\n",
              "        google.colab.notebook.generateWithVariable('df_dadosverdadeiros');\n",
              "      }\n",
              "      })();\n",
              "    </script>\n",
              "  </div>\n",
              "\n",
              "    </div>\n",
              "  </div>\n"
            ],
            "application/vnd.google.colaboratory.intrinsic+json": {
              "type": "dataframe",
              "variable_name": "df_dadosverdadeiros",
              "summary": "{\n  \"name\": \"df_dadosverdadeiros\",\n  \"rows\": 33,\n  \"fields\": [\n    {\n      \"column\": \"Carimbo de data/hora\",\n      \"properties\": {\n        \"dtype\": \"object\",\n        \"num_unique_values\": 31,\n        \"samples\": [\n          \"26/02/2025 15:25:35\",\n          \"26/02/2025 15:24:25\",\n          \"26/02/2025 15:25:05\"\n        ],\n        \"semantic_type\": \"\",\n        \"description\": \"\"\n      }\n    },\n    {\n      \"column\": \"Nome\",\n      \"properties\": {\n        \"dtype\": \"string\",\n        \"num_unique_values\": 33,\n        \"samples\": [\n          \"Jo\\u00e3o Gabriel\",\n          \"Maria de Jesus\",\n          \"Raul\"\n        ],\n        \"semantic_type\": \"\",\n        \"description\": \"\"\n      }\n    },\n    {\n      \"column\": \"Idade\",\n      \"properties\": {\n        \"dtype\": \"number\",\n        \"std\": 16,\n        \"min\": 13,\n        \"max\": 90,\n        \"num_unique_values\": 23,\n        \"samples\": [\n          27,\n          38,\n          30\n        ],\n        \"semantic_type\": \"\",\n        \"description\": \"\"\n      }\n    },\n    {\n      \"column\": \"Nivel de stress de 1 a 10\",\n      \"properties\": {\n        \"dtype\": \"number\",\n        \"std\": 2,\n        \"min\": 1,\n        \"max\": 10,\n        \"num_unique_values\": 10,\n        \"samples\": [\n          2,\n          8,\n          1\n        ],\n        \"semantic_type\": \"\",\n        \"description\": \"\"\n      }\n    },\n    {\n      \"column\": \"Consumo alimentos e 1 a 10\",\n      \"properties\": {\n        \"dtype\": \"number\",\n        \"std\": 2,\n        \"min\": 1,\n        \"max\": 10,\n        \"num_unique_values\": 10,\n        \"samples\": [\n          1,\n          7,\n          6\n        ],\n        \"semantic_type\": \"\",\n        \"description\": \"\"\n      }\n    },\n    {\n      \"column\": \"Horas de exercicio\",\n      \"properties\": {\n        \"dtype\": \"number\",\n        \"std\": 2,\n        \"min\": 1,\n        \"max\": 10,\n        \"num_unique_values\": 10,\n        \"samples\": [\n          5,\n          3,\n          9\n        ],\n        \"semantic_type\": \"\",\n        \"description\": \"\"\n      }\n    }\n  ]\n}"
            }
          },
          "metadata": {}
        }
      ]
    },
    {
      "cell_type": "code",
      "source": [
        "idade=df_dadosverdadeiros['Idade']\n",
        "nivel_estresse=df_dadosverdadeiros['Nivel de stress de 1 a 10']\n",
        "consumo_frutas=df_dadosverdadeiros['Consumo alimentos e 1 a 10']\n",
        "horas_exercicio=df_dadosverdadeiros['Horas de exercicio']"
      ],
      "metadata": {
        "id": "D6705wsQjNRR"
      },
      "execution_count": null,
      "outputs": []
    },
    {
      "cell_type": "markdown",
      "source": [
        "Correlação nivel estresse x exercicios físicos"
      ],
      "metadata": {
        "id": "bkn9Z-QDjkyz"
      }
    },
    {
      "cell_type": "code",
      "source": [
        "corr_nvstress_atvFisica=np.corrcoef(nivel_estresse,horas_exercicio)\n",
        "display(corr_nvstress_atvFisica)"
      ],
      "metadata": {
        "colab": {
          "base_uri": "https://localhost:8080/",
          "height": 52
        },
        "id": "GafsNEyYj_YV",
        "outputId": "17723f71-83a5-449a-fc88-7e92866f3b30"
      },
      "execution_count": null,
      "outputs": [
        {
          "output_type": "display_data",
          "data": {
            "text/plain": [
              "array([[ 1.        , -0.15811131],\n",
              "       [-0.15811131,  1.        ]])"
            ]
          },
          "metadata": {}
        }
      ]
    },
    {
      "cell_type": "code",
      "source": [
        "# Calculando a correlação\n",
        "corr_nvstress_atvFisica = np.corrcoef(nivel_estresse, horas_exercicio)\n",
        "print(f\"Correlação entre Nível de Estresse e Horas de Exercício: {corr_nvstress_atvFisica[0, 1]:.2f}\")\n",
        "\n",
        "# Gráfico de Dispersão\n",
        "plt.figure(figsize=(8, 6))\n",
        "plt.scatter(horas_exercicio, nivel_estresse, color='purple', label='Dados')\n",
        "\n",
        "# Calculando a linha de tendência (reta de regressão)\n",
        "coef = np.polyfit(horas_exercicio, nivel_estresse, 1)\n",
        "poly1d_fn = np.poly1d(coef)\n",
        "\n",
        "# Adicionando a linha de tendência\n",
        "plt.plot(horas_exercicio, poly1d_fn(horas_exercicio), color='red', label='Linha de Tendência')\n",
        "\n",
        "# Ajustando o gráfico\n",
        "plt.title('Nível de Estresse vs Horas de Exercício')\n",
        "plt.xlabel('Horas de Exercício por Semana')\n",
        "plt.ylabel('Nível de Estresse')\n",
        "plt.legend()\n",
        "plt.grid(True)\n",
        "plt.show()"
      ],
      "metadata": {
        "colab": {
          "base_uri": "https://localhost:8080/",
          "height": 582
        },
        "id": "i6ZqjoQekgmM",
        "outputId": "b4ccc740-b573-4f6a-9bf8-4d179dfd53ba"
      },
      "execution_count": null,
      "outputs": [
        {
          "output_type": "stream",
          "name": "stdout",
          "text": [
            "Correlação entre Nível de Estresse e Horas de Exercício: -0.16\n"
          ]
        },
        {
          "output_type": "display_data",
          "data": {
            "text/plain": [
              "<Figure size 800x600 with 1 Axes>"
            ],
            "image/png": "[encoded data removed]"
          },
          "metadata": {}
        }
      ]
    },
    {
      "cell_type": "code",
      "source": [
        "import seaborn as sns\n",
        "correlation_matrix = df_dadosverdadeiros.drop(columns= ['Carimbo de data/hora','Nome']).corr()\n",
        "sns.heatmap(correlation_matrix, annot=True, cmap='coolwarm', fmt=\".2f\", linewidths=.5)"
      ],
      "metadata": {
        "colab": {
          "base_uri": "https://localhost:8080/",
          "height": 637
        },
        "id": "zFbks0A4lyAe",
        "outputId": "601514a3-adbe-4658-f7cb-db2d3d2e825b"
      },
      "execution_count": null,
      "outputs": [
        {
          "output_type": "execute_result",
          "data": {
            "text/plain": [
              "<Axes: >"
            ]
          },
          "metadata": {},
          "execution_count": 104
        },
        {
          "output_type": "display_data",
          "data": {
            "text/plain": [
              "<Figure size 640x480 with 2 Axes>"
            ],
            "image/png": "[encoded data removed]"
          },
          "metadata": {}
        }
      ]
    },
    {
      "cell_type": "code",
      "source": [
        "corr_idade_nvstress=np.corrcoef(idade,nivel_estresse)\n",
        "display(corr_idade_nvstress)"
      ],
      "metadata": {
        "colab": {
          "base_uri": "https://localhost:8080/",
          "height": 52
        },
        "id": "3_DdJTHumby3",
        "outputId": "94a550d6-331d-4224-b30b-eef1d4c212ef"
      },
      "execution_count": null,
      "outputs": [
        {
          "output_type": "display_data",
          "data": {
            "text/plain": [
              "array([[ 1.        , -0.31986291],\n",
              "       [-0.31986291,  1.        ]])"
            ]
          },
          "metadata": {}
        }
      ]
    },
    {
      "cell_type": "code",
      "source": [
        "# Gráfico de Dispersão\n",
        "plt.figure(figsize=(8, 6))\n",
        "plt.scatter(idade, nivel_estresse, color='green', label='Dados')\n",
        "\n",
        "# Calculando a linha de tendência (reta de regressão)\n",
        "coef = np.polyfit(idade, nivel_estresse, 1)\n",
        "poly1d_fn = np.poly1d(coef)\n",
        "\n",
        "# Adicionando a linha de tendência\n",
        "plt.plot(idade, poly1d_fn(idade), color='red', label='Linha de Tendência')\n",
        "\n",
        "# Ajustando o gráfico\n",
        "plt.title('Nível de Estresse vs Idade')\n",
        "plt.xlabel('Idade')\n",
        "plt.ylabel('Nível de Estresse')\n",
        "plt.legend()\n",
        "plt.grid(True)\n",
        "plt.show()"
      ],
      "metadata": {
        "colab": {
          "base_uri": "https://localhost:8080/",
          "height": 564
        },
        "id": "jGOiuETvmxYO",
        "outputId": "7804372e-a8c6-4671-8789-3b083c5f2990"
      },
      "execution_count": null,
      "outputs": [
        {
          "output_type": "display_data",
          "data": {
            "text/plain": [
              "<Figure size 800x600 with 1 Axes>"
            ],
            "image/png": "[encoded data removed]"
          },
          "metadata": {}
        }
      ]
    },
    {
      "cell_type": "code",
      "source": [
        "dadoA=[30,50,40,55,30,25]\n",
        "dadoB=[28,25,23,30,32,21]\n",
        "corr_AcomB=np.corrcoef(dadoA,dadoB)\n",
        "display(corr_AcomB)"
      ],
      "metadata": {
        "colab": {
          "base_uri": "https://localhost:8080/",
          "height": 52
        },
        "id": "twSkB_8f8GLy",
        "outputId": "a174ec8f-1673-435a-b625-9aab44163511"
      },
      "execution_count": null,
      "outputs": [
        {
          "output_type": "display_data",
          "data": {
            "text/plain": [
              "array([[1.        , 0.19516762],\n",
              "       [0.19516762, 1.        ]])"
            ]
          },
          "metadata": {}
        }
      ]
    },
    {
      "cell_type": "markdown",
      "source": [
        "##Histograma"
      ],
      "metadata": {
        "id": "ewkjwijW_vep"
      }
    },
    {
      "cell_type": "markdown",
      "source": [
        "O que é um histograma?\n",
        "\n",
        "um histograma é um gráfico de barras que representa a distribuição de frequência de uma variável numérica.\n",
        "\n",
        "Eixo x (horizontal) representa os intervalos de valores\n",
        "\n",
        "Eixo y (vertical) representa a frequencia em cada intervalo"
      ],
      "metadata": {
        "id": "j11zfZ1-Wu0c"
      }
    },
    {
      "cell_type": "code",
      "source": [
        "dados = [50, 58, 66, 72, 87, 50, 59, 66, 73, 88, 50, 59, 66, 75, 90,\n",
        "         51, 59, 67, 79, 91, 51, 61, 67, 82, 92, 52, 63, 67, 83, 94,\n",
        "         52, 64, 68, 84, 94, 55, 64, 71, 84, 95, 56, 65, 72, 85, 97,\n",
        "         58, 65, 72, 85, 97]"
      ],
      "metadata": {
        "id": "WKFArWo8_z4L"
      },
      "execution_count": null,
      "outputs": []
    },
    {
      "cell_type": "code",
      "source": [
        "dados.sort()"
      ],
      "metadata": {
        "id": "ezlhdmoaYI3i"
      },
      "execution_count": null,
      "outputs": []
    },
    {
      "cell_type": "code",
      "source": [
        "df_dados = pd.DataFrame(dados, columns=['dados'])\n",
        "df_dados"
      ],
      "metadata": {
        "id": "xo1Vtj1RXbjk",
        "colab": {
          "base_uri": "https://localhost:8080/",
          "height": 1000
        },
        "outputId": "dd9474e8-66ca-4bec-b114-5538c6de0e1c"
      },
      "execution_count": null,
      "outputs": [
        {
          "output_type": "execute_result",
          "data": {
            "text/plain": [
              "    dados\n",
              "0      50\n",
              "1      50\n",
              "2      50\n",
              "3      51\n",
              "4      51\n",
              "5      52\n",
              "6      52\n",
              "7      55\n",
              "8      56\n",
              "9      58\n",
              "10     58\n",
              "11     59\n",
              "12     59\n",
              "13     59\n",
              "14     61\n",
              "15     63\n",
              "16     64\n",
              "17     64\n",
              "18     65\n",
              "19     65\n",
              "20     66\n",
              "21     66\n",
              "22     66\n",
              "23     67\n",
              "24     67\n",
              "25     67\n",
              "26     68\n",
              "27     71\n",
              "28     72\n",
              "29     72\n",
              "30     72\n",
              "31     73\n",
              "32     75\n",
              "33     79\n",
              "34     82\n",
              "35     83\n",
              "36     84\n",
              "37     84\n",
              "38     85\n",
              "39     85\n",
              "40     87\n",
              "41     88\n",
              "42     90\n",
              "43     91\n",
              "44     92\n",
              "45     94\n",
              "46     94\n",
              "47     95\n",
              "48     97\n",
              "49     97"
            ],
            "text/html": [
              "\n",
              "  <div id=\"df-d9b485d5-3800-4480-9ad7-5f390ad8de4c\" class=\"colab-df-container\">\n",
              "    <div>\n",
              "<style scoped>\n",
              "    .dataframe tbody tr th:only-of-type {\n",
              "        vertical-align: middle;\n",
              "    }\n",
              "\n",
              "    .dataframe tbody tr th {\n",
              "        vertical-align: top;\n",
              "    }\n",
              "\n",
              "    .dataframe thead th {\n",
              "        text-align: right;\n",
              "    }\n",
              "</style>\n",
              "<table border=\"1\" class=\"dataframe\">\n",
              "  <thead>\n",
              "    <tr style=\"text-align: right;\">\n",
              "      <th></th>\n",
              "      <th>dados</th>\n",
              "    </tr>\n",
              "  </thead>\n",
              "  <tbody>\n",
              "    <tr>\n",
              "      <th>0</th>\n",
              "      <td>50</td>\n",
              "    </tr>\n",
              "    <tr>\n",
              "      <th>1</th>\n",
              "      <td>50</td>\n",
              "    </tr>\n",
              "    <tr>\n",
              "      <th>2</th>\n",
              "      <td>50</td>\n",
              "    </tr>\n",
              "    <tr>\n",
              "      <th>3</th>\n",
              "      <td>51</td>\n",
              "    </tr>\n",
              "    <tr>\n",
              "      <th>4</th>\n",
              "      <td>51</td>\n",
              "    </tr>\n",
              "    <tr>\n",
              "      <th>5</th>\n",
              "      <td>52</td>\n",
              "    </tr>\n",
              "    <tr>\n",
              "      <th>6</th>\n",
              "      <td>52</td>\n",
              "    </tr>\n",
              "    <tr>\n",
              "      <th>7</th>\n",
              "      <td>55</td>\n",
              "    </tr>\n",
              "    <tr>\n",
              "      <th>8</th>\n",
              "      <td>56</td>\n",
              "    </tr>\n",
              "    <tr>\n",
              "      <th>9</th>\n",
              "      <td>58</td>\n",
              "    </tr>\n",
              "    <tr>\n",
              "      <th>10</th>\n",
              "      <td>58</td>\n",
              "    </tr>\n",
              "    <tr>\n",
              "      <th>11</th>\n",
              "      <td>59</td>\n",
              "    </tr>\n",
              "    <tr>\n",
              "      <th>12</th>\n",
              "      <td>59</td>\n",
              "    </tr>\n",
              "    <tr>\n",
              "      <th>13</th>\n",
              "      <td>59</td>\n",
              "    </tr>\n",
              "    <tr>\n",
              "      <th>14</th>\n",
              "      <td>61</td>\n",
              "    </tr>\n",
              "    <tr>\n",
              "      <th>15</th>\n",
              "      <td>63</td>\n",
              "    </tr>\n",
              "    <tr>\n",
              "      <th>16</th>\n",
              "      <td>64</td>\n",
              "    </tr>\n",
              "    <tr>\n",
              "      <th>17</th>\n",
              "      <td>64</td>\n",
              "    </tr>\n",
              "    <tr>\n",
              "      <th>18</th>\n",
              "      <td>65</td>\n",
              "    </tr>\n",
              "    <tr>\n",
              "      <th>19</th>\n",
              "      <td>65</td>\n",
              "    </tr>\n",
              "    <tr>\n",
              "      <th>20</th>\n",
              "      <td>66</td>\n",
              "    </tr>\n",
              "    <tr>\n",
              "      <th>21</th>\n",
              "      <td>66</td>\n",
              "    </tr>\n",
              "    <tr>\n",
              "      <th>22</th>\n",
              "      <td>66</td>\n",
              "    </tr>\n",
              "    <tr>\n",
              "      <th>23</th>\n",
              "      <td>67</td>\n",
              "    </tr>\n",
              "    <tr>\n",
              "      <th>24</th>\n",
              "      <td>67</td>\n",
              "    </tr>\n",
              "    <tr>\n",
              "      <th>25</th>\n",
              "      <td>67</td>\n",
              "    </tr>\n",
              "    <tr>\n",
              "      <th>26</th>\n",
              "      <td>68</td>\n",
              "    </tr>\n",
              "    <tr>\n",
              "      <th>27</th>\n",
              "      <td>71</td>\n",
              "    </tr>\n",
              "    <tr>\n",
              "      <th>28</th>\n",
              "      <td>72</td>\n",
              "    </tr>\n",
              "    <tr>\n",
              "      <th>29</th>\n",
              "      <td>72</td>\n",
              "    </tr>\n",
              "    <tr>\n",
              "      <th>30</th>\n",
              "      <td>72</td>\n",
              "    </tr>\n",
              "    <tr>\n",
              "      <th>31</th>\n",
              "      <td>73</td>\n",
              "    </tr>\n",
              "    <tr>\n",
              "      <th>32</th>\n",
              "      <td>75</td>\n",
              "    </tr>\n",
              "    <tr>\n",
              "      <th>33</th>\n",
              "      <td>79</td>\n",
              "    </tr>\n",
              "    <tr>\n",
              "      <th>34</th>\n",
              "      <td>82</td>\n",
              "    </tr>\n",
              "    <tr>\n",
              "      <th>35</th>\n",
              "      <td>83</td>\n",
              "    </tr>\n",
              "    <tr>\n",
              "      <th>36</th>\n",
              "      <td>84</td>\n",
              "    </tr>\n",
              "    <tr>\n",
              "      <th>37</th>\n",
              "      <td>84</td>\n",
              "    </tr>\n",
              "    <tr>\n",
              "      <th>38</th>\n",
              "      <td>85</td>\n",
              "    </tr>\n",
              "    <tr>\n",
              "      <th>39</th>\n",
              "      <td>85</td>\n",
              "    </tr>\n",
              "    <tr>\n",
              "      <th>40</th>\n",
              "      <td>87</td>\n",
              "    </tr>\n",
              "    <tr>\n",
              "      <th>41</th>\n",
              "      <td>88</td>\n",
              "    </tr>\n",
              "    <tr>\n",
              "      <th>42</th>\n",
              "      <td>90</td>\n",
              "    </tr>\n",
              "    <tr>\n",
              "      <th>43</th>\n",
              "      <td>91</td>\n",
              "    </tr>\n",
              "    <tr>\n",
              "      <th>44</th>\n",
              "      <td>92</td>\n",
              "    </tr>\n",
              "    <tr>\n",
              "      <th>45</th>\n",
              "      <td>94</td>\n",
              "    </tr>\n",
              "    <tr>\n",
              "      <th>46</th>\n",
              "      <td>94</td>\n",
              "    </tr>\n",
              "    <tr>\n",
              "      <th>47</th>\n",
              "      <td>95</td>\n",
              "    </tr>\n",
              "    <tr>\n",
              "      <th>48</th>\n",
              "      <td>97</td>\n",
              "    </tr>\n",
              "    <tr>\n",
              "      <th>49</th>\n",
              "      <td>97</td>\n",
              "    </tr>\n",
              "  </tbody>\n",
              "</table>\n",
              "</div>\n",
              "    <div class=\"colab-df-buttons\">\n",
              "\n",
              "  <div class=\"colab-df-container\">\n",
              "    <button class=\"colab-df-convert\" onclick=\"convertToInteractive('df-d9b485d5-3800-4480-9ad7-5f390ad8de4c')\"\n",
              "            title=\"Convert this dataframe to an interactive table.\"\n",
              "            style=\"display:none;\">\n",
              "\n",
              "  <svg xmlns=\"http://www.w3.org/2000/svg\" height=\"24px\" viewBox=\"0 -960 960 960\">\n",
              "    <path d=\"M120-120v-720h720v720H120Zm60-500h600v-160H180v160Zm220 220h160v-160H400v160Zm0 220h160v-160H400v160ZM180-400h160v-160H180v160Zm440 0h160v-160H620v160ZM180-180h160v-160H180v160Zm440 0h160v-160H620v160Z\"/>\n",
              "  </svg>\n",
              "    </button>\n",
              "\n",
              "  <style>\n",
              "    .colab-df-container {\n",
              "      display:flex;\n",
              "      gap: 12px;\n",
              "    }\n",
              "\n",
              "    .colab-df-convert {\n",
              "      background-color: #E8F0FE;\n",
              "      border: none;\n",
              "      border-radius: 50%;\n",
              "      cursor: pointer;\n",
              "      display: none;\n",
              "      fill: #1967D2;\n",
              "      height: 32px;\n",
              "      padding: 0 0 0 0;\n",
              "      width: 32px;\n",
              "    }\n",
              "\n",
              "    .colab-df-convert:hover {\n",
              "      background-color: #E2EBFA;\n",
              "      box-shadow: 0px 1px 2px rgba(60, 64, 67, 0.3), 0px 1px 3px 1px rgba(60, 64, 67, 0.15);\n",
              "      fill: #174EA6;\n",
              "    }\n",
              "\n",
              "    .colab-df-buttons div {\n",
              "      margin-bottom: 4px;\n",
              "    }\n",
              "\n",
              "    [theme=dark] .colab-df-convert {\n",
              "      background-color: #3B4455;\n",
              "      fill: #D2E3FC;\n",
              "    }\n",
              "\n",
              "    [theme=dark] .colab-df-convert:hover {\n",
              "      background-color: #434B5C;\n",
              "      box-shadow: 0px 1px 3px 1px rgba(0, 0, 0, 0.15);\n",
              "      filter: drop-shadow(0px 1px 2px rgba(0, 0, 0, 0.3));\n",
              "      fill: #FFFFFF;\n",
              "    }\n",
              "  </style>\n",
              "\n",
              "    <script>\n",
              "      const buttonEl =\n",
              "        document.querySelector('#df-d9b485d5-3800-4480-9ad7-5f390ad8de4c button.colab-df-convert');\n",
              "      buttonEl.style.display =\n",
              "        google.colab.kernel.accessAllowed ? 'block' : 'none';\n",
              "\n",
              "      async function convertToInteractive(key) {\n",
              "        const element = document.querySelector('#df-d9b485d5-3800-4480-9ad7-5f390ad8de4c');\n",
              "        const dataTable =\n",
              "          await google.colab.kernel.invokeFunction('convertToInteractive',\n",
              "                                                    [key], {});\n",
              "        if (!dataTable) return;\n",
              "\n",
              "        const docLinkHtml = 'Like what you see? Visit the ' +\n",
              "          '<a target=\"_blank\" href=https://colab.research.google.com/notebooks/data_table.ipynb>data table notebook</a>'\n",
              "          + ' to learn more about interactive tables.';\n",
              "        element.innerHTML = '';\n",
              "        dataTable['output_type'] = 'display_data';\n",
              "        await google.colab.output.renderOutput(dataTable, element);\n",
              "        const docLink = document.createElement('div');\n",
              "        docLink.innerHTML = docLinkHtml;\n",
              "        element.appendChild(docLink);\n",
              "      }\n",
              "    </script>\n",
              "  </div>\n",
              "\n",
              "\n",
              "<div id=\"df-50c70d92-8951-42dd-b210-53ee213ce488\">\n",
              "  <button class=\"colab-df-quickchart\" onclick=\"quickchart('df-50c70d92-8951-42dd-b210-53ee213ce488')\"\n",
              "            title=\"Suggest charts\"\n",
              "            style=\"display:none;\">\n",
              "\n",
              "<svg xmlns=\"http://www.w3.org/2000/svg\" height=\"24px\"viewBox=\"0 0 24 24\"\n",
              "     width=\"24px\">\n",
              "    <g>\n",
              "        <path d=\"M19 3H5c-1.1 0-2 .9-2 2v14c0 1.1.9 2 2 2h14c1.1 0 2-.9 2-2V5c0-1.1-.9-2-2-2zM9 17H7v-7h2v7zm4 0h-2V7h2v10zm4 0h-2v-4h2v4z\"/>\n",
              "    </g>\n",
              "</svg>\n",
              "  </button>\n",
              "\n",
              "<style>\n",
              "  .colab-df-quickchart {\n",
              "      --bg-color: #E8F0FE;\n",
              "      --fill-color: #1967D2;\n",
              "      --hover-bg-color: #E2EBFA;\n",
              "      --hover-fill-color: #174EA6;\n",
              "      --disabled-fill-color: #AAA;\n",
              "      --disabled-bg-color: #DDD;\n",
              "  }\n",
              "\n",
              "  [theme=dark] .colab-df-quickchart {\n",
              "      --bg-color: #3B4455;\n",
              "      --fill-color: #D2E3FC;\n",
              "      --hover-bg-color: #434B5C;\n",
              "      --hover-fill-color: #FFFFFF;\n",
              "      --disabled-bg-color: #3B4455;\n",
              "      --disabled-fill-color: #666;\n",
              "  }\n",
              "\n",
              "  .colab-df-quickchart {\n",
              "    background-color: var(--bg-color);\n",
              "    border: none;\n",
              "    border-radius: 50%;\n",
              "    cursor: pointer;\n",
              "    display: none;\n",
              "    fill: var(--fill-color);\n",
              "    height: 32px;\n",
              "    padding: 0;\n",
              "    width: 32px;\n",
              "  }\n",
              "\n",
              "  .colab-df-quickchart:hover {\n",
              "    background-color: var(--hover-bg-color);\n",
              "    box-shadow: 0 1px 2px rgba(60, 64, 67, 0.3), 0 1px 3px 1px rgba(60, 64, 67, 0.15);\n",
              "    fill: var(--button-hover-fill-color);\n",
              "  }\n",
              "\n",
              "  .colab-df-quickchart-complete:disabled,\n",
              "  .colab-df-quickchart-complete:disabled:hover {\n",
              "    background-color: var(--disabled-bg-color);\n",
              "    fill: var(--disabled-fill-color);\n",
              "    box-shadow: none;\n",
              "  }\n",
              "\n",
              "  .colab-df-spinner {\n",
              "    border: 2px solid var(--fill-color);\n",
              "    border-color: transparent;\n",
              "    border-bottom-color: var(--fill-color);\n",
              "    animation:\n",
              "      spin 1s steps(1) infinite;\n",
              "  }\n",
              "\n",
              "  @keyframes spin {\n",
              "    0% {\n",
              "      border-color: transparent;\n",
              "      border-bottom-color: var(--fill-color);\n",
              "      border-left-color: var(--fill-color);\n",
              "    }\n",
              "    20% {\n",
              "      border-color: transparent;\n",
              "      border-left-color: var(--fill-color);\n",
              "      border-top-color: var(--fill-color);\n",
              "    }\n",
              "    30% {\n",
              "      border-color: transparent;\n",
              "      border-left-color: var(--fill-color);\n",
              "      border-top-color: var(--fill-color);\n",
              "      border-right-color: var(--fill-color);\n",
              "    }\n",
              "    40% {\n",
              "      border-color: transparent;\n",
              "      border-right-color: var(--fill-color);\n",
              "      border-top-color: var(--fill-color);\n",
              "    }\n",
              "    60% {\n",
              "      border-color: transparent;\n",
              "      border-right-color: var(--fill-color);\n",
              "    }\n",
              "    80% {\n",
              "      border-color: transparent;\n",
              "      border-right-color: var(--fill-color);\n",
              "      border-bottom-color: var(--fill-color);\n",
              "    }\n",
              "    90% {\n",
              "      border-color: transparent;\n",
              "      border-bottom-color: var(--fill-color);\n",
              "    }\n",
              "  }\n",
              "</style>\n",
              "\n",
              "  <script>\n",
              "    async function quickchart(key) {\n",
              "      const quickchartButtonEl =\n",
              "        document.querySelector('#' + key + ' button');\n",
              "      quickchartButtonEl.disabled = true;  // To prevent multiple clicks.\n",
              "      quickchartButtonEl.classList.add('colab-df-spinner');\n",
              "      try {\n",
              "        const charts = await google.colab.kernel.invokeFunction(\n",
              "            'suggestCharts', [key], {});\n",
              "      } catch (error) {\n",
              "        console.error('Error during call to suggestCharts:', error);\n",
              "      }\n",
              "      quickchartButtonEl.classList.remove('colab-df-spinner');\n",
              "      quickchartButtonEl.classList.add('colab-df-quickchart-complete');\n",
              "    }\n",
              "    (() => {\n",
              "      let quickchartButtonEl =\n",
              "        document.querySelector('#df-50c70d92-8951-42dd-b210-53ee213ce488 button');\n",
              "      quickchartButtonEl.style.display =\n",
              "        google.colab.kernel.accessAllowed ? 'block' : 'none';\n",
              "    })();\n",
              "  </script>\n",
              "</div>\n",
              "\n",
              "  <div id=\"id_c411bbce-4943-495f-8188-eb2ba53df3d8\">\n",
              "    <style>\n",
              "      .colab-df-generate {\n",
              "        background-color: #E8F0FE;\n",
              "        border: none;\n",
              "        border-radius: 50%;\n",
              "        cursor: pointer;\n",
              "        display: none;\n",
              "        fill: #1967D2;\n",
              "        height: 32px;\n",
              "        padding: 0 0 0 0;\n",
              "        width: 32px;\n",
              "      }\n",
              "\n",
              "      .colab-df-generate:hover {\n",
              "        background-color: #E2EBFA;\n",
              "        box-shadow: 0px 1px 2px rgba(60, 64, 67, 0.3), 0px 1px 3px 1px rgba(60, 64, 67, 0.15);\n",
              "        fill: #174EA6;\n",
              "      }\n",
              "\n",
              "      [theme=dark] .colab-df-generate {\n",
              "        background-color: #3B4455;\n",
              "        fill: #D2E3FC;\n",
              "      }\n",
              "\n",
              "      [theme=dark] .colab-df-generate:hover {\n",
              "        background-color: #434B5C;\n",
              "        box-shadow: 0px 1px 3px 1px rgba(0, 0, 0, 0.15);\n",
              "        filter: drop-shadow(0px 1px 2px rgba(0, 0, 0, 0.3));\n",
              "        fill: #FFFFFF;\n",
              "      }\n",
              "    </style>\n",
              "    <button class=\"colab-df-generate\" onclick=\"generateWithVariable('df_dados')\"\n",
              "            title=\"Generate code using this dataframe.\"\n",
              "            style=\"display:none;\">\n",
              "\n",
              "  <svg xmlns=\"http://www.w3.org/2000/svg\" height=\"24px\"viewBox=\"0 0 24 24\"\n",
              "       width=\"24px\">\n",
              "    <path d=\"M7,19H8.4L18.45,9,17,7.55,7,17.6ZM5,21V16.75L18.45,3.32a2,2,0,0,1,2.83,0l1.4,1.43a1.91,1.91,0,0,1,.58,1.4,1.91,1.91,0,0,1-.58,1.4L9.25,21ZM18.45,9,17,7.55Zm-12,3A5.31,5.31,0,0,0,4.9,8.1,5.31,5.31,0,0,0,1,6.5,5.31,5.31,0,0,0,4.9,4.9,5.31,5.31,0,0,0,6.5,1,5.31,5.31,0,0,0,8.1,4.9,5.31,5.31,0,0,0,12,6.5,5.46,5.46,0,0,0,6.5,12Z\"/>\n",
              "  </svg>\n",
              "    </button>\n",
              "    <script>\n",
              "      (() => {\n",
              "      const buttonEl =\n",
              "        document.querySelector('#id_c411bbce-4943-495f-8188-eb2ba53df3d8 button.colab-df-generate');\n",
              "      buttonEl.style.display =\n",
              "        google.colab.kernel.accessAllowed ? 'block' : 'none';\n",
              "\n",
              "      buttonEl.onclick = () => {\n",
              "        google.colab.notebook.generateWithVariable('df_dados');\n",
              "      }\n",
              "      })();\n",
              "    </script>\n",
              "  </div>\n",
              "\n",
              "    </div>\n",
              "  </div>\n"
            ],
            "application/vnd.google.colaboratory.intrinsic+json": {
              "type": "dataframe",
              "variable_name": "df_dados",
              "summary": "{\n  \"name\": \"df_dados\",\n  \"rows\": 50,\n  \"fields\": [\n    {\n      \"column\": \"dados\",\n      \"properties\": {\n        \"dtype\": \"number\",\n        \"std\": 14,\n        \"min\": 50,\n        \"max\": 97,\n        \"num_unique_values\": 31,\n        \"samples\": [\n          92,\n          72,\n          87\n        ],\n        \"semantic_type\": \"\",\n        \"description\": \"\"\n      }\n    }\n  ]\n}"
            }
          },
          "metadata": {},
          "execution_count": 11
        }
      ]
    },
    {
      "cell_type": "code",
      "source": [
        "display(df_dados.max())\n",
        "display(df_dados.min())"
      ],
      "metadata": {
        "colab": {
          "base_uri": "https://localhost:8080/",
          "height": 213
        },
        "id": "sYLzG6ytYhWh",
        "outputId": "04a7a30f-9b18-4fb8-a3f2-7876e0ed5914"
      },
      "execution_count": null,
      "outputs": [
        {
          "output_type": "display_data",
          "data": {
            "text/plain": [
              "dados    97\n",
              "dtype: int64"
            ],
            "text/html": [
              "<div>\n",
              "<style scoped>\n",
              "    .dataframe tbody tr th:only-of-type {\n",
              "        vertical-align: middle;\n",
              "    }\n",
              "\n",
              "    .dataframe tbody tr th {\n",
              "        vertical-align: top;\n",
              "    }\n",
              "\n",
              "    .dataframe thead th {\n",
              "        text-align: right;\n",
              "    }\n",
              "</style>\n",
              "<table border=\"1\" class=\"dataframe\">\n",
              "  <thead>\n",
              "    <tr style=\"text-align: right;\">\n",
              "      <th></th>\n",
              "      <th>0</th>\n",
              "    </tr>\n",
              "  </thead>\n",
              "  <tbody>\n",
              "    <tr>\n",
              "      <th>dados</th>\n",
              "      <td>97</td>\n",
              "    </tr>\n",
              "  </tbody>\n",
              "</table>\n",
              "</div><br><label><b>dtype:</b> int64</label>"
            ]
          },
          "metadata": {}
        },
        {
          "output_type": "display_data",
          "data": {
            "text/plain": [
              "dados    50\n",
              "dtype: int64"
            ],
            "text/html": [
              "<div>\n",
              "<style scoped>\n",
              "    .dataframe tbody tr th:only-of-type {\n",
              "        vertical-align: middle;\n",
              "    }\n",
              "\n",
              "    .dataframe tbody tr th {\n",
              "        vertical-align: top;\n",
              "    }\n",
              "\n",
              "    .dataframe thead th {\n",
              "        text-align: right;\n",
              "    }\n",
              "</style>\n",
              "<table border=\"1\" class=\"dataframe\">\n",
              "  <thead>\n",
              "    <tr style=\"text-align: right;\">\n",
              "      <th></th>\n",
              "      <th>0</th>\n",
              "    </tr>\n",
              "  </thead>\n",
              "  <tbody>\n",
              "    <tr>\n",
              "      <th>dados</th>\n",
              "      <td>50</td>\n",
              "    </tr>\n",
              "  </tbody>\n",
              "</table>\n",
              "</div><br><label><b>dtype:</b> int64</label>"
            ]
          },
          "metadata": {}
        }
      ]
    },
    {
      "cell_type": "code",
      "source": [
        "amplitude = df_dados.max() - df_dados.min()\n",
        "display(amplitude)"
      ],
      "metadata": {
        "colab": {
          "base_uri": "https://localhost:8080/",
          "height": 115
        },
        "id": "puvVYR4zY2sj",
        "outputId": "0681c661-3579-4f08-cabc-83c08187eff7"
      },
      "execution_count": null,
      "outputs": [
        {
          "output_type": "display_data",
          "data": {
            "text/plain": [
              "dados    47\n",
              "dtype: int64"
            ],
            "text/html": [
              "<div>\n",
              "<style scoped>\n",
              "    .dataframe tbody tr th:only-of-type {\n",
              "        vertical-align: middle;\n",
              "    }\n",
              "\n",
              "    .dataframe tbody tr th {\n",
              "        vertical-align: top;\n",
              "    }\n",
              "\n",
              "    .dataframe thead th {\n",
              "        text-align: right;\n",
              "    }\n",
              "</style>\n",
              "<table border=\"1\" class=\"dataframe\">\n",
              "  <thead>\n",
              "    <tr style=\"text-align: right;\">\n",
              "      <th></th>\n",
              "      <th>0</th>\n",
              "    </tr>\n",
              "  </thead>\n",
              "  <tbody>\n",
              "    <tr>\n",
              "      <th>dados</th>\n",
              "      <td>47</td>\n",
              "    </tr>\n",
              "  </tbody>\n",
              "</table>\n",
              "</div><br><label><b>dtype:</b> int64</label>"
            ]
          },
          "metadata": {}
        }
      ]
    },
    {
      "cell_type": "code",
      "source": [
        "k = 5\n",
        "tamanho_classe = amplitude / 5\n",
        "display(tamanho_classe)\n",
        "\n",
        "# arredondar pra cima:\n",
        "tamanho_classe = np.ceil(tamanho_classe)\n",
        "tamanho_classe = 10"
      ],
      "metadata": {
        "colab": {
          "base_uri": "https://localhost:8080/",
          "height": 115
        },
        "id": "61iH_CREZIXr",
        "outputId": "056db5e4-7170-441b-e974-1fb4d636f71c"
      },
      "execution_count": null,
      "outputs": [
        {
          "output_type": "display_data",
          "data": {
            "text/plain": [
              "dados    9.4\n",
              "dtype: float64"
            ],
            "text/html": [
              "<div>\n",
              "<style scoped>\n",
              "    .dataframe tbody tr th:only-of-type {\n",
              "        vertical-align: middle;\n",
              "    }\n",
              "\n",
              "    .dataframe tbody tr th {\n",
              "        vertical-align: top;\n",
              "    }\n",
              "\n",
              "    .dataframe thead th {\n",
              "        text-align: right;\n",
              "    }\n",
              "</style>\n",
              "<table border=\"1\" class=\"dataframe\">\n",
              "  <thead>\n",
              "    <tr style=\"text-align: right;\">\n",
              "      <th></th>\n",
              "      <th>0</th>\n",
              "    </tr>\n",
              "  </thead>\n",
              "  <tbody>\n",
              "    <tr>\n",
              "      <th>dados</th>\n",
              "      <td>9.4</td>\n",
              "    </tr>\n",
              "  </tbody>\n",
              "</table>\n",
              "</div><br><label><b>dtype:</b> float64</label>"
            ]
          },
          "metadata": {}
        }
      ]
    },
    {
      "cell_type": "code",
      "source": [
        "intervalos = np.arange(50, df_dados['dados'].max() + 10 + 1, 10)\n",
        "display(intervalos)"
      ],
      "metadata": {
        "colab": {
          "base_uri": "https://localhost:8080/",
          "height": 34
        },
        "id": "7-YWC4J-aPU8",
        "outputId": "6cd56b1f-8fd2-49d1-c4a5-1da9db26487d"
      },
      "execution_count": null,
      "outputs": [
        {
          "output_type": "display_data",
          "data": {
            "text/plain": [
              "array([ 50,  60,  70,  80,  90, 100])"
            ]
          },
          "metadata": {}
        }
      ]
    },
    {
      "cell_type": "code",
      "source": [
        "distribuicao_frequencia = pd.cut(df_dados['dados'], bins = intervalos, right = False).value_counts().sort_index()\n",
        "display(distribuicao_frequencia)"
      ],
      "metadata": {
        "colab": {
          "base_uri": "https://localhost:8080/",
          "height": 272
        },
        "id": "IjsxUUA5dn2L",
        "outputId": "7d4b917f-e05b-4b61-a852-66fdaee9a6ac"
      },
      "execution_count": null,
      "outputs": [
        {
          "output_type": "display_data",
          "data": {
            "text/plain": [
              "dados\n",
              "[50, 60)     14\n",
              "[60, 70)     13\n",
              "[70, 80)      7\n",
              "[80, 90)      8\n",
              "[90, 100)     8\n",
              "Name: count, dtype: int64"
            ],
            "text/html": [
              "<div>\n",
              "<style scoped>\n",
              "    .dataframe tbody tr th:only-of-type {\n",
              "        vertical-align: middle;\n",
              "    }\n",
              "\n",
              "    .dataframe tbody tr th {\n",
              "        vertical-align: top;\n",
              "    }\n",
              "\n",
              "    .dataframe thead th {\n",
              "        text-align: right;\n",
              "    }\n",
              "</style>\n",
              "<table border=\"1\" class=\"dataframe\">\n",
              "  <thead>\n",
              "    <tr style=\"text-align: right;\">\n",
              "      <th></th>\n",
              "      <th>count</th>\n",
              "    </tr>\n",
              "    <tr>\n",
              "      <th>dados</th>\n",
              "      <th></th>\n",
              "    </tr>\n",
              "  </thead>\n",
              "  <tbody>\n",
              "    <tr>\n",
              "      <th>[50, 60)</th>\n",
              "      <td>14</td>\n",
              "    </tr>\n",
              "    <tr>\n",
              "      <th>[60, 70)</th>\n",
              "      <td>13</td>\n",
              "    </tr>\n",
              "    <tr>\n",
              "      <th>[70, 80)</th>\n",
              "      <td>7</td>\n",
              "    </tr>\n",
              "    <tr>\n",
              "      <th>[80, 90)</th>\n",
              "      <td>8</td>\n",
              "    </tr>\n",
              "    <tr>\n",
              "      <th>[90, 100)</th>\n",
              "      <td>8</td>\n",
              "    </tr>\n",
              "  </tbody>\n",
              "</table>\n",
              "</div><br><label><b>dtype:</b> int64</label>"
            ]
          },
          "metadata": {}
        }
      ]
    },
    {
      "cell_type": "code",
      "source": [
        "# Gráfico\n",
        "plt.figure(figsize=(10, 6))\n",
        "plt.bar(distribuicao_frequencia.index.astype(str), distribuicao_frequencia.values, color='green')"
      ],
      "metadata": {
        "colab": {
          "base_uri": "https://localhost:8080/",
          "height": 539
        },
        "id": "5DuB6-u5eiBD",
        "outputId": "0617d41d-e000-4a80-ede9-5897c91a5d63"
      },
      "execution_count": null,
      "outputs": [
        {
          "output_type": "execute_result",
          "data": {
            "text/plain": [
              "<BarContainer object of 5 artists>"
            ]
          },
          "metadata": {},
          "execution_count": 37
        },
        {
          "output_type": "display_data",
          "data": {
            "text/plain": [
              "<Figure size 1000x600 with 1 Axes>"
            ],
            "image/png": "[encoded data removed]"
          },
          "metadata": {}
        }
      ]
    },
    {
      "cell_type": "code",
      "source": [
        "plt.hist(dados, bins = 5, edgecolor = 'white')\n",
        "plt.title('Histograma dos Dados')\n",
        "plt.xlabel('Valores')\n",
        "plt.ylabel('Frequência')\n",
        "plt.show()"
      ],
      "metadata": {
        "colab": {
          "base_uri": "https://localhost:8080/",
          "height": 472
        },
        "id": "ZfrmPKZ4fHxi",
        "outputId": "b9cdb897-b23b-40db-e0fa-84dd5d1c1aeb"
      },
      "execution_count": null,
      "outputs": [
        {
          "output_type": "display_data",
          "data": {
            "text/plain": [
              "<Figure size 640x480 with 1 Axes>"
            ],
            "image/png": "[encoded data removed]"
          },
          "metadata": {}
        }
      ]
    },
    {
      "cell_type": "markdown",
      "source": [
        "### Exercício: Faça um histograma e analise as colunas, usando os dados da turma"
      ],
      "metadata": {
        "id": "f6gK27-1mq8E"
      }
    },
    {
      "cell_type": "code",
      "source": [
        "df_dados_turma = pd.read_csv('https://docs.google.com/spreadsheets/d/e/2PACX-1vQZDP-ePiLB-N0je3DhbtGHpdMA_2673yo7Wg_noI5NqNGpL-O58y9q8cG8MCyE2XMaB8iXatSsLD7Q/pub?gid=1209288085&single=true&output=csv')\n",
        "\n",
        "df_dados_turma = df_dados_turma.drop(columns= ['Carimbo de data/hora','Nome'])\n",
        "display(df_dados_turma)"
      ],
      "metadata": {
        "colab": {
          "base_uri": "https://localhost:8080/",
          "height": 1000
        },
        "id": "dyJPaPwmkpcj",
        "outputId": "35855de5-f7f7-477c-ab6c-7e18c000f180"
      },
      "execution_count": null,
      "outputs": [
        {
          "output_type": "display_data",
          "data": {
            "text/plain": [
              "    Idade  Nivel de stress de 1 a 10  Consumo alimentos e 1 a 10  \\\n",
              "0      30                         10                           4   \n",
              "1      20                         10                           7   \n",
              "2      43                          8                           9   \n",
              "3      30                          7                           5   \n",
              "4      26                          9                           8   \n",
              "5      26                          8                           5   \n",
              "6      25                          7                           6   \n",
              "7      18                          4                           4   \n",
              "8      22                          7                           2   \n",
              "9      37                          1                          10   \n",
              "10     30                          7                           8   \n",
              "11     32                          8                           1   \n",
              "12     25                          6                           4   \n",
              "13     38                          3                          10   \n",
              "14     19                          7                          10   \n",
              "15     50                          6                           9   \n",
              "16     38                          3                           7   \n",
              "17     23                          4                           6   \n",
              "18     18                         10                           6   \n",
              "19     24                          2                           5   \n",
              "20     42                          5                           5   \n",
              "21     30                          9                           8   \n",
              "22     27                         10                           3   \n",
              "23     51                          5                           8   \n",
              "24     35                          5                           8   \n",
              "25     75                          6                           3   \n",
              "26     27                          7                           1   \n",
              "27     43                          5                          10   \n",
              "28     65                          3                           9   \n",
              "29     33                         10                           2   \n",
              "30     90                          2                           8   \n",
              "31     26                          8                           8   \n",
              "32     13                          1                           1   \n",
              "\n",
              "    Horas de exercicio  \n",
              "0                    4  \n",
              "1                    3  \n",
              "2                    8  \n",
              "3                    2  \n",
              "4                    4  \n",
              "5                    7  \n",
              "6                    9  \n",
              "7                    1  \n",
              "8                    8  \n",
              "9                    4  \n",
              "10                   1  \n",
              "11                   1  \n",
              "12                   3  \n",
              "13                  10  \n",
              "14                   1  \n",
              "15                   1  \n",
              "16                   3  \n",
              "17                   1  \n",
              "18                   2  \n",
              "19                   7  \n",
              "20                   1  \n",
              "21                   3  \n",
              "22                   1  \n",
              "23                   3  \n",
              "24                   3  \n",
              "25                   1  \n",
              "26                   1  \n",
              "27                   1  \n",
              "28                  10  \n",
              "29                   1  \n",
              "30                   5  \n",
              "31                   6  \n",
              "32                   1  "
            ],
            "text/html": [
              "\n",
              "  <div id=\"df-608345bf-9043-4155-89dd-46df3ba6f8a3\" class=\"colab-df-container\">\n",
              "    <div>\n",
              "<style scoped>\n",
              "    .dataframe tbody tr th:only-of-type {\n",
              "        vertical-align: middle;\n",
              "    }\n",
              "\n",
              "    .dataframe tbody tr th {\n",
              "        vertical-align: top;\n",
              "    }\n",
              "\n",
              "    .dataframe thead th {\n",
              "        text-align: right;\n",
              "    }\n",
              "</style>\n",
              "<table border=\"1\" class=\"dataframe\">\n",
              "  <thead>\n",
              "    <tr style=\"text-align: right;\">\n",
              "      <th></th>\n",
              "      <th>Idade</th>\n",
              "      <th>Nivel de stress de 1 a 10</th>\n",
              "      <th>Consumo alimentos e 1 a 10</th>\n",
              "      <th>Horas de exercicio</th>\n",
              "    </tr>\n",
              "  </thead>\n",
              "  <tbody>\n",
              "    <tr>\n",
              "      <th>0</th>\n",
              "      <td>30</td>\n",
              "      <td>10</td>\n",
              "      <td>4</td>\n",
              "      <td>4</td>\n",
              "    </tr>\n",
              "    <tr>\n",
              "      <th>1</th>\n",
              "      <td>20</td>\n",
              "      <td>10</td>\n",
              "      <td>7</td>\n",
              "      <td>3</td>\n",
              "    </tr>\n",
              "    <tr>\n",
              "      <th>2</th>\n",
              "      <td>43</td>\n",
              "      <td>8</td>\n",
              "      <td>9</td>\n",
              "      <td>8</td>\n",
              "    </tr>\n",
              "    <tr>\n",
              "      <th>3</th>\n",
              "      <td>30</td>\n",
              "      <td>7</td>\n",
              "      <td>5</td>\n",
              "      <td>2</td>\n",
              "    </tr>\n",
              "    <tr>\n",
              "      <th>4</th>\n",
              "      <td>26</td>\n",
              "      <td>9</td>\n",
              "      <td>8</td>\n",
              "      <td>4</td>\n",
              "    </tr>\n",
              "    <tr>\n",
              "      <th>5</th>\n",
              "      <td>26</td>\n",
              "      <td>8</td>\n",
              "      <td>5</td>\n",
              "      <td>7</td>\n",
              "    </tr>\n",
              "    <tr>\n",
              "      <th>6</th>\n",
              "      <td>25</td>\n",
              "      <td>7</td>\n",
              "      <td>6</td>\n",
              "      <td>9</td>\n",
              "    </tr>\n",
              "    <tr>\n",
              "      <th>7</th>\n",
              "      <td>18</td>\n",
              "      <td>4</td>\n",
              "      <td>4</td>\n",
              "      <td>1</td>\n",
              "    </tr>\n",
              "    <tr>\n",
              "      <th>8</th>\n",
              "      <td>22</td>\n",
              "      <td>7</td>\n",
              "      <td>2</td>\n",
              "      <td>8</td>\n",
              "    </tr>\n",
              "    <tr>\n",
              "      <th>9</th>\n",
              "      <td>37</td>\n",
              "      <td>1</td>\n",
              "      <td>10</td>\n",
              "      <td>4</td>\n",
              "    </tr>\n",
              "    <tr>\n",
              "      <th>10</th>\n",
              "      <td>30</td>\n",
              "      <td>7</td>\n",
              "      <td>8</td>\n",
              "      <td>1</td>\n",
              "    </tr>\n",
              "    <tr>\n",
              "      <th>11</th>\n",
              "      <td>32</td>\n",
              "      <td>8</td>\n",
              "      <td>1</td>\n",
              "      <td>1</td>\n",
              "    </tr>\n",
              "    <tr>\n",
              "      <th>12</th>\n",
              "      <td>25</td>\n",
              "      <td>6</td>\n",
              "      <td>4</td>\n",
              "      <td>3</td>\n",
              "    </tr>\n",
              "    <tr>\n",
              "      <th>13</th>\n",
              "      <td>38</td>\n",
              "      <td>3</td>\n",
              "      <td>10</td>\n",
              "      <td>10</td>\n",
              "    </tr>\n",
              "    <tr>\n",
              "      <th>14</th>\n",
              "      <td>19</td>\n",
              "      <td>7</td>\n",
              "      <td>10</td>\n",
              "      <td>1</td>\n",
              "    </tr>\n",
              "    <tr>\n",
              "      <th>15</th>\n",
              "      <td>50</td>\n",
              "      <td>6</td>\n",
              "      <td>9</td>\n",
              "      <td>1</td>\n",
              "    </tr>\n",
              "    <tr>\n",
              "      <th>16</th>\n",
              "      <td>38</td>\n",
              "      <td>3</td>\n",
              "      <td>7</td>\n",
              "      <td>3</td>\n",
              "    </tr>\n",
              "    <tr>\n",
              "      <th>17</th>\n",
              "      <td>23</td>\n",
              "      <td>4</td>\n",
              "      <td>6</td>\n",
              "      <td>1</td>\n",
              "    </tr>\n",
              "    <tr>\n",
              "      <th>18</th>\n",
              "      <td>18</td>\n",
              "      <td>10</td>\n",
              "      <td>6</td>\n",
              "      <td>2</td>\n",
              "    </tr>\n",
              "    <tr>\n",
              "      <th>19</th>\n",
              "      <td>24</td>\n",
              "      <td>2</td>\n",
              "      <td>5</td>\n",
              "      <td>7</td>\n",
              "    </tr>\n",
              "    <tr>\n",
              "      <th>20</th>\n",
              "      <td>42</td>\n",
              "      <td>5</td>\n",
              "      <td>5</td>\n",
              "      <td>1</td>\n",
              "    </tr>\n",
              "    <tr>\n",
              "      <th>21</th>\n",
              "      <td>30</td>\n",
              "      <td>9</td>\n",
              "      <td>8</td>\n",
              "      <td>3</td>\n",
              "    </tr>\n",
              "    <tr>\n",
              "      <th>22</th>\n",
              "      <td>27</td>\n",
              "      <td>10</td>\n",
              "      <td>3</td>\n",
              "      <td>1</td>\n",
              "    </tr>\n",
              "    <tr>\n",
              "      <th>23</th>\n",
              "      <td>51</td>\n",
              "      <td>5</td>\n",
              "      <td>8</td>\n",
              "      <td>3</td>\n",
              "    </tr>\n",
              "    <tr>\n",
              "      <th>24</th>\n",
              "      <td>35</td>\n",
              "      <td>5</td>\n",
              "      <td>8</td>\n",
              "      <td>3</td>\n",
              "    </tr>\n",
              "    <tr>\n",
              "      <th>25</th>\n",
              "      <td>75</td>\n",
              "      <td>6</td>\n",
              "      <td>3</td>\n",
              "      <td>1</td>\n",
              "    </tr>\n",
              "    <tr>\n",
              "      <th>26</th>\n",
              "      <td>27</td>\n",
              "      <td>7</td>\n",
              "      <td>1</td>\n",
              "      <td>1</td>\n",
              "    </tr>\n",
              "    <tr>\n",
              "      <th>27</th>\n",
              "      <td>43</td>\n",
              "      <td>5</td>\n",
              "      <td>10</td>\n",
              "      <td>1</td>\n",
              "    </tr>\n",
              "    <tr>\n",
              "      <th>28</th>\n",
              "      <td>65</td>\n",
              "      <td>3</td>\n",
              "      <td>9</td>\n",
              "      <td>10</td>\n",
              "    </tr>\n",
              "    <tr>\n",
              "      <th>29</th>\n",
              "      <td>33</td>\n",
              "      <td>10</td>\n",
              "      <td>2</td>\n",
              "      <td>1</td>\n",
              "    </tr>\n",
              "    <tr>\n",
              "      <th>30</th>\n",
              "      <td>90</td>\n",
              "      <td>2</td>\n",
              "      <td>8</td>\n",
              "      <td>5</td>\n",
              "    </tr>\n",
              "    <tr>\n",
              "      <th>31</th>\n",
              "      <td>26</td>\n",
              "      <td>8</td>\n",
              "      <td>8</td>\n",
              "      <td>6</td>\n",
              "    </tr>\n",
              "    <tr>\n",
              "      <th>32</th>\n",
              "      <td>13</td>\n",
              "      <td>1</td>\n",
              "      <td>1</td>\n",
              "      <td>1</td>\n",
              "    </tr>\n",
              "  </tbody>\n",
              "</table>\n",
              "</div>\n",
              "    <div class=\"colab-df-buttons\">\n",
              "\n",
              "  <div class=\"colab-df-container\">\n",
              "    <button class=\"colab-df-convert\" onclick=\"convertToInteractive('df-608345bf-9043-4155-89dd-46df3ba6f8a3')\"\n",
              "            title=\"Convert this dataframe to an interactive table.\"\n",
              "            style=\"display:none;\">\n",
              "\n",
              "  <svg xmlns=\"http://www.w3.org/2000/svg\" height=\"24px\" viewBox=\"0 -960 960 960\">\n",
              "    <path d=\"M120-120v-720h720v720H120Zm60-500h600v-160H180v160Zm220 220h160v-160H400v160Zm0 220h160v-160H400v160ZM180-400h160v-160H180v160Zm440 0h160v-160H620v160ZM180-180h160v-160H180v160Zm440 0h160v-160H620v160Z\"/>\n",
              "  </svg>\n",
              "    </button>\n",
              "\n",
              "  <style>\n",
              "    .colab-df-container {\n",
              "      display:flex;\n",
              "      gap: 12px;\n",
              "    }\n",
              "\n",
              "    .colab-df-convert {\n",
              "      background-color: #E8F0FE;\n",
              "      border: none;\n",
              "      border-radius: 50%;\n",
              "      cursor: pointer;\n",
              "      display: none;\n",
              "      fill: #1967D2;\n",
              "      height: 32px;\n",
              "      padding: 0 0 0 0;\n",
              "      width: 32px;\n",
              "    }\n",
              "\n",
              "    .colab-df-convert:hover {\n",
              "      background-color: #E2EBFA;\n",
              "      box-shadow: 0px 1px 2px rgba(60, 64, 67, 0.3), 0px 1px 3px 1px rgba(60, 64, 67, 0.15);\n",
              "      fill: #174EA6;\n",
              "    }\n",
              "\n",
              "    .colab-df-buttons div {\n",
              "      margin-bottom: 4px;\n",
              "    }\n",
              "\n",
              "    [theme=dark] .colab-df-convert {\n",
              "      background-color: #3B4455;\n",
              "      fill: #D2E3FC;\n",
              "    }\n",
              "\n",
              "    [theme=dark] .colab-df-convert:hover {\n",
              "      background-color: #434B5C;\n",
              "      box-shadow: 0px 1px 3px 1px rgba(0, 0, 0, 0.15);\n",
              "      filter: drop-shadow(0px 1px 2px rgba(0, 0, 0, 0.3));\n",
              "      fill: #FFFFFF;\n",
              "    }\n",
              "  </style>\n",
              "\n",
              "    <script>\n",
              "      const buttonEl =\n",
              "        document.querySelector('#df-608345bf-9043-4155-89dd-46df3ba6f8a3 button.colab-df-convert');\n",
              "      buttonEl.style.display =\n",
              "        google.colab.kernel.accessAllowed ? 'block' : 'none';\n",
              "\n",
              "      async function convertToInteractive(key) {\n",
              "        const element = document.querySelector('#df-608345bf-9043-4155-89dd-46df3ba6f8a3');\n",
              "        const dataTable =\n",
              "          await google.colab.kernel.invokeFunction('convertToInteractive',\n",
              "                                                    [key], {});\n",
              "        if (!dataTable) return;\n",
              "\n",
              "        const docLinkHtml = 'Like what you see? Visit the ' +\n",
              "          '<a target=\"_blank\" href=https://colab.research.google.com/notebooks/data_table.ipynb>data table notebook</a>'\n",
              "          + ' to learn more about interactive tables.';\n",
              "        element.innerHTML = '';\n",
              "        dataTable['output_type'] = 'display_data';\n",
              "        await google.colab.output.renderOutput(dataTable, element);\n",
              "        const docLink = document.createElement('div');\n",
              "        docLink.innerHTML = docLinkHtml;\n",
              "        element.appendChild(docLink);\n",
              "      }\n",
              "    </script>\n",
              "  </div>\n",
              "\n",
              "\n",
              "<div id=\"df-d8f3fcc2-864a-4cd6-a136-2c6dc578533f\">\n",
              "  <button class=\"colab-df-quickchart\" onclick=\"quickchart('df-d8f3fcc2-864a-4cd6-a136-2c6dc578533f')\"\n",
              "            title=\"Suggest charts\"\n",
              "            style=\"display:none;\">\n",
              "\n",
              "<svg xmlns=\"http://www.w3.org/2000/svg\" height=\"24px\"viewBox=\"0 0 24 24\"\n",
              "     width=\"24px\">\n",
              "    <g>\n",
              "        <path d=\"M19 3H5c-1.1 0-2 .9-2 2v14c0 1.1.9 2 2 2h14c1.1 0 2-.9 2-2V5c0-1.1-.9-2-2-2zM9 17H7v-7h2v7zm4 0h-2V7h2v10zm4 0h-2v-4h2v4z\"/>\n",
              "    </g>\n",
              "</svg>\n",
              "  </button>\n",
              "\n",
              "<style>\n",
              "  .colab-df-quickchart {\n",
              "      --bg-color: #E8F0FE;\n",
              "      --fill-color: #1967D2;\n",
              "      --hover-bg-color: #E2EBFA;\n",
              "      --hover-fill-color: #174EA6;\n",
              "      --disabled-fill-color: #AAA;\n",
              "      --disabled-bg-color: #DDD;\n",
              "  }\n",
              "\n",
              "  [theme=dark] .colab-df-quickchart {\n",
              "      --bg-color: #3B4455;\n",
              "      --fill-color: #D2E3FC;\n",
              "      --hover-bg-color: #434B5C;\n",
              "      --hover-fill-color: #FFFFFF;\n",
              "      --disabled-bg-color: #3B4455;\n",
              "      --disabled-fill-color: #666;\n",
              "  }\n",
              "\n",
              "  .colab-df-quickchart {\n",
              "    background-color: var(--bg-color);\n",
              "    border: none;\n",
              "    border-radius: 50%;\n",
              "    cursor: pointer;\n",
              "    display: none;\n",
              "    fill: var(--fill-color);\n",
              "    height: 32px;\n",
              "    padding: 0;\n",
              "    width: 32px;\n",
              "  }\n",
              "\n",
              "  .colab-df-quickchart:hover {\n",
              "    background-color: var(--hover-bg-color);\n",
              "    box-shadow: 0 1px 2px rgba(60, 64, 67, 0.3), 0 1px 3px 1px rgba(60, 64, 67, 0.15);\n",
              "    fill: var(--button-hover-fill-color);\n",
              "  }\n",
              "\n",
              "  .colab-df-quickchart-complete:disabled,\n",
              "  .colab-df-quickchart-complete:disabled:hover {\n",
              "    background-color: var(--disabled-bg-color);\n",
              "    fill: var(--disabled-fill-color);\n",
              "    box-shadow: none;\n",
              "  }\n",
              "\n",
              "  .colab-df-spinner {\n",
              "    border: 2px solid var(--fill-color);\n",
              "    border-color: transparent;\n",
              "    border-bottom-color: var(--fill-color);\n",
              "    animation:\n",
              "      spin 1s steps(1) infinite;\n",
              "  }\n",
              "\n",
              "  @keyframes spin {\n",
              "    0% {\n",
              "      border-color: transparent;\n",
              "      border-bottom-color: var(--fill-color);\n",
              "      border-left-color: var(--fill-color);\n",
              "    }\n",
              "    20% {\n",
              "      border-color: transparent;\n",
              "      border-left-color: var(--fill-color);\n",
              "      border-top-color: var(--fill-color);\n",
              "    }\n",
              "    30% {\n",
              "      border-color: transparent;\n",
              "      border-left-color: var(--fill-color);\n",
              "      border-top-color: var(--fill-color);\n",
              "      border-right-color: var(--fill-color);\n",
              "    }\n",
              "    40% {\n",
              "      border-color: transparent;\n",
              "      border-right-color: var(--fill-color);\n",
              "      border-top-color: var(--fill-color);\n",
              "    }\n",
              "    60% {\n",
              "      border-color: transparent;\n",
              "      border-right-color: var(--fill-color);\n",
              "    }\n",
              "    80% {\n",
              "      border-color: transparent;\n",
              "      border-right-color: var(--fill-color);\n",
              "      border-bottom-color: var(--fill-color);\n",
              "    }\n",
              "    90% {\n",
              "      border-color: transparent;\n",
              "      border-bottom-color: var(--fill-color);\n",
              "    }\n",
              "  }\n",
              "</style>\n",
              "\n",
              "  <script>\n",
              "    async function quickchart(key) {\n",
              "      const quickchartButtonEl =\n",
              "        document.querySelector('#' + key + ' button');\n",
              "      quickchartButtonEl.disabled = true;  // To prevent multiple clicks.\n",
              "      quickchartButtonEl.classList.add('colab-df-spinner');\n",
              "      try {\n",
              "        const charts = await google.colab.kernel.invokeFunction(\n",
              "            'suggestCharts', [key], {});\n",
              "      } catch (error) {\n",
              "        console.error('Error during call to suggestCharts:', error);\n",
              "      }\n",
              "      quickchartButtonEl.classList.remove('colab-df-spinner');\n",
              "      quickchartButtonEl.classList.add('colab-df-quickchart-complete');\n",
              "    }\n",
              "    (() => {\n",
              "      let quickchartButtonEl =\n",
              "        document.querySelector('#df-d8f3fcc2-864a-4cd6-a136-2c6dc578533f button');\n",
              "      quickchartButtonEl.style.display =\n",
              "        google.colab.kernel.accessAllowed ? 'block' : 'none';\n",
              "    })();\n",
              "  </script>\n",
              "</div>\n",
              "\n",
              "  <div id=\"id_a1f7d938-8b88-4578-b207-c5df75c86622\">\n",
              "    <style>\n",
              "      .colab-df-generate {\n",
              "        background-color: #E8F0FE;\n",
              "        border: none;\n",
              "        border-radius: 50%;\n",
              "        cursor: pointer;\n",
              "        display: none;\n",
              "        fill: #1967D2;\n",
              "        height: 32px;\n",
              "        padding: 0 0 0 0;\n",
              "        width: 32px;\n",
              "      }\n",
              "\n",
              "      .colab-df-generate:hover {\n",
              "        background-color: #E2EBFA;\n",
              "        box-shadow: 0px 1px 2px rgba(60, 64, 67, 0.3), 0px 1px 3px 1px rgba(60, 64, 67, 0.15);\n",
              "        fill: #174EA6;\n",
              "      }\n",
              "\n",
              "      [theme=dark] .colab-df-generate {\n",
              "        background-color: #3B4455;\n",
              "        fill: #D2E3FC;\n",
              "      }\n",
              "\n",
              "      [theme=dark] .colab-df-generate:hover {\n",
              "        background-color: #434B5C;\n",
              "        box-shadow: 0px 1px 3px 1px rgba(0, 0, 0, 0.15);\n",
              "        filter: drop-shadow(0px 1px 2px rgba(0, 0, 0, 0.3));\n",
              "        fill: #FFFFFF;\n",
              "      }\n",
              "    </style>\n",
              "    <button class=\"colab-df-generate\" onclick=\"generateWithVariable('df_dados_turma')\"\n",
              "            title=\"Generate code using this dataframe.\"\n",
              "            style=\"display:none;\">\n",
              "\n",
              "  <svg xmlns=\"http://www.w3.org/2000/svg\" height=\"24px\"viewBox=\"0 0 24 24\"\n",
              "       width=\"24px\">\n",
              "    <path d=\"M7,19H8.4L18.45,9,17,7.55,7,17.6ZM5,21V16.75L18.45,3.32a2,2,0,0,1,2.83,0l1.4,1.43a1.91,1.91,0,0,1,.58,1.4,1.91,1.91,0,0,1-.58,1.4L9.25,21ZM18.45,9,17,7.55Zm-12,3A5.31,5.31,0,0,0,4.9,8.1,5.31,5.31,0,0,0,1,6.5,5.31,5.31,0,0,0,4.9,4.9,5.31,5.31,0,0,0,6.5,1,5.31,5.31,0,0,0,8.1,4.9,5.31,5.31,0,0,0,12,6.5,5.46,5.46,0,0,0,6.5,12Z\"/>\n",
              "  </svg>\n",
              "    </button>\n",
              "    <script>\n",
              "      (() => {\n",
              "      const buttonEl =\n",
              "        document.querySelector('#id_a1f7d938-8b88-4578-b207-c5df75c86622 button.colab-df-generate');\n",
              "      buttonEl.style.display =\n",
              "        google.colab.kernel.accessAllowed ? 'block' : 'none';\n",
              "\n",
              "      buttonEl.onclick = () => {\n",
              "        google.colab.notebook.generateWithVariable('df_dados_turma');\n",
              "      }\n",
              "      })();\n",
              "    </script>\n",
              "  </div>\n",
              "\n",
              "    </div>\n",
              "  </div>\n"
            ],
            "application/vnd.google.colaboratory.intrinsic+json": {
              "type": "dataframe",
              "variable_name": "df_dados_turma",
              "summary": "{\n  \"name\": \"df_dados_turma\",\n  \"rows\": 33,\n  \"fields\": [\n    {\n      \"column\": \"Idade\",\n      \"properties\": {\n        \"dtype\": \"number\",\n        \"std\": 16,\n        \"min\": 13,\n        \"max\": 90,\n        \"num_unique_values\": 23,\n        \"samples\": [\n          27,\n          38,\n          30\n        ],\n        \"semantic_type\": \"\",\n        \"description\": \"\"\n      }\n    },\n    {\n      \"column\": \"Nivel de stress de 1 a 10\",\n      \"properties\": {\n        \"dtype\": \"number\",\n        \"std\": 2,\n        \"min\": 1,\n        \"max\": 10,\n        \"num_unique_values\": 10,\n        \"samples\": [\n          2,\n          8,\n          1\n        ],\n        \"semantic_type\": \"\",\n        \"description\": \"\"\n      }\n    },\n    {\n      \"column\": \"Consumo alimentos e 1 a 10\",\n      \"properties\": {\n        \"dtype\": \"number\",\n        \"std\": 2,\n        \"min\": 1,\n        \"max\": 10,\n        \"num_unique_values\": 10,\n        \"samples\": [\n          1,\n          7,\n          6\n        ],\n        \"semantic_type\": \"\",\n        \"description\": \"\"\n      }\n    },\n    {\n      \"column\": \"Horas de exercicio\",\n      \"properties\": {\n        \"dtype\": \"number\",\n        \"std\": 2,\n        \"min\": 1,\n        \"max\": 10,\n        \"num_unique_values\": 10,\n        \"samples\": [\n          5,\n          3,\n          9\n        ],\n        \"semantic_type\": \"\",\n        \"description\": \"\"\n      }\n    }\n  ]\n}"
            }
          },
          "metadata": {}
        }
      ]
    },
    {
      "cell_type": "code",
      "source": [
        "idades_turma = df_dados_turma['Idade']\n",
        "nivel_stress_turma = df_dados_turma['Nivel de stress de 1 a 10']\n",
        "consumo_alimentos_turma = df_dados_turma['Consumo alimentos e 1 a 10']\n",
        "horas_exercicio_turma = df_dados_turma['Horas de exercicio']"
      ],
      "metadata": {
        "id": "txUWnzYlmXG2"
      },
      "execution_count": null,
      "outputs": []
    },
    {
      "cell_type": "code",
      "source": [
        "# Histograma das Idades\n",
        "plt.hist(idades_turma, bins = 10, edgecolor = 'white')\n",
        "plt.title('Histograma das Idades')\n",
        "plt.xlabel('Idades')\n",
        "plt.ylabel('Frequência')\n",
        "plt.show()"
      ],
      "metadata": {
        "colab": {
          "base_uri": "https://localhost:8080/",
          "height": 472
        },
        "id": "PfBlFy_Tmyr8",
        "outputId": "83ec162e-192b-4f85-e496-6ef6ae90c72d"
      },
      "execution_count": null,
      "outputs": [
        {
          "output_type": "display_data",
          "data": {
            "text/plain": [
              "<Figure size 640x480 with 1 Axes>"
            ],
            "image/png": "[encoded data removed]"
          },
          "metadata": {}
        }
      ]
    },
    {
      "cell_type": "code",
      "source": [
        "# Histograma dos Níveis de Estresse\n",
        "plt.hist(nivel_stress_turma, bins = 7, edgecolor = 'white', color='red')\n",
        "plt.title('Histograma dos Níveis de Estresse')\n",
        "plt.xlabel('Níveis de Estresse')\n",
        "plt.ylabel('Frequência')\n",
        "plt.show()"
      ],
      "metadata": {
        "colab": {
          "base_uri": "https://localhost:8080/",
          "height": 472
        },
        "id": "1044QoUunibO",
        "outputId": "ae514ce2-ca57-40a6-9eb7-eda5aad7995c"
      },
      "execution_count": null,
      "outputs": [
        {
          "output_type": "display_data",
          "data": {
            "text/plain": [
              "<Figure size 640x480 with 1 Axes>"
            ],
            "image/png": "[encoded data removed]"
          },
          "metadata": {}
        }
      ]
    },
    {
      "cell_type": "code",
      "source": [
        "# Histograma das Horas de Exercício\n",
        "plt.hist(horas_exercicio_turma, bins = 5, edgecolor = 'white', color='orange')\n",
        "plt.title('Histograma das Horas de Exercício')\n",
        "plt.xlabel('Horas de Exercício')\n",
        "plt.ylabel('Frequência')\n",
        "plt.show()"
      ],
      "metadata": {
        "colab": {
          "base_uri": "https://localhost:8080/",
          "height": 472
        },
        "id": "3kh62yg5nwvU",
        "outputId": "6afdf5ba-4b2c-482c-b822-8f49b1a17ee2"
      },
      "execution_count": null,
      "outputs": [
        {
          "output_type": "display_data",
          "data": {
            "text/plain": [
              "<Figure size 640x480 with 1 Axes>"
            ],
            "image/png": "[encoded data removed]"
          },
          "metadata": {}
        }
      ]
    },
    {
      "cell_type": "code",
      "source": [
        "# Histograma dos Consumos de Alimentos\n",
        "plt.hist(consumo_alimentos_turma, bins = 5, edgecolor = 'white', color='green')\n",
        "plt.title('Histograma do Consumo de Alimentos')\n",
        "plt.xlabel('Consumo de Alimentos')\n",
        "plt.ylabel('Frequência')\n",
        "plt.show()"
      ],
      "metadata": {
        "colab": {
          "base_uri": "https://localhost:8080/",
          "height": 472
        },
        "id": "pErXPfjmn-hk",
        "outputId": "b8e44676-39d6-469e-f52a-b45e98e84717"
      },
      "execution_count": null,
      "outputs": [
        {
          "output_type": "display_data",
          "data": {
            "text/plain": [
              "<Figure size 640x480 with 1 Axes>"
            ],
            "image/png": "[encoded data removed]"
          },
          "metadata": {}
        }
      ]
    },
    {
      "cell_type": "markdown",
      "source": [
        "## Mais Dados..."
      ],
      "metadata": {
        "id": "UQIv_zfm2HzA"
      }
    },
    {
      "cell_type": "code",
      "source": [
        "futebol_ingles = pd.read_csv('https://docs.google.com/spreadsheets/d/e/2PACX-1vSWaj9bxcQbk5FKyWNzLQLcBMsjKJklcUIs9Yfrw4uUKjUsZsFi-89VQVVnupwnTQG7uNFhxWRBzJFV/pub?output=csv')\n",
        "display(futebol_ingles)"
      ],
      "metadata": {
        "colab": {
          "base_uri": "https://localhost:8080/",
          "height": 934
        },
        "id": "D2OMQYLr2LoH",
        "outputId": "c16b439e-0d62-4407-85de-0bff7b8fe7fb"
      },
      "execution_count": 71,
      "outputs": [
        {
          "output_type": "display_data",
          "data": {
            "text/plain": [
              "                     team_name              common_name     season  country  \\\n",
              "0                   Arsenal FC                  Arsenal  2018/2019  England   \n",
              "1         Tottenham Hotspur FC        Tottenham Hotspur  2018/2019  England   \n",
              "2           Manchester City FC          Manchester City  2018/2019  England   \n",
              "3            Leicester City FC           Leicester City  2018/2019  England   \n",
              "4            Crystal Palace FC           Crystal Palace  2018/2019  England   \n",
              "5                   Everton FC                  Everton  2018/2019  England   \n",
              "6                   Burnley FC                  Burnley  2018/2019  England   \n",
              "7               Southampton FC              Southampton  2018/2019  England   \n",
              "8              AFC Bournemouth          AFC Bournemouth  2018/2019  England   \n",
              "9         Manchester United FC        Manchester United  2018/2019  England   \n",
              "10                Liverpool FC                Liverpool  2018/2019  England   \n",
              "11                  Chelsea FC                  Chelsea  2018/2019  England   \n",
              "12          West Ham United FC          West Ham United  2018/2019  England   \n",
              "13                  Watford FC                  Watford  2018/2019  England   \n",
              "14         Newcastle United FC         Newcastle United  2018/2019  England   \n",
              "15             Cardiff City FC             Cardiff City  2018/2019    Wales   \n",
              "16                   Fulham FC                   Fulham  2018/2019  England   \n",
              "17   Brighton & Hove Albion FC   Brighton & Hove Albion  2018/2019  England   \n",
              "18        Huddersfield Town FC        Huddersfield Town  2018/2019  England   \n",
              "19  Wolverhampton Wanderers FC  Wolverhampton Wanderers  2018/2019  England   \n",
              "\n",
              "    matches_played  matches_played_home  matches_played_away  \\\n",
              "0               38                   19                   19   \n",
              "1               38                   19                   19   \n",
              "2               38                   19                   19   \n",
              "3               38                   19                   19   \n",
              "4               38                   19                   19   \n",
              "5               38                   19                   19   \n",
              "6               38                   19                   19   \n",
              "7               38                   19                   19   \n",
              "8               38                   19                   19   \n",
              "9               38                   19                   19   \n",
              "10              38                   19                   19   \n",
              "11              38                   19                   19   \n",
              "12              38                   19                   19   \n",
              "13              38                   19                   19   \n",
              "14              38                   19                   19   \n",
              "15              38                   19                   19   \n",
              "16              38                   19                   19   \n",
              "17              38                   19                   19   \n",
              "18              38                   19                   19   \n",
              "19              38                   19                   19   \n",
              "\n",
              "    suspended_matches  wins  wins_home  ...  goals_conceded_min_61_to_70  \\\n",
              "0                   0    21         14  ...                           12   \n",
              "1                   0    23         12  ...                            4   \n",
              "2                   0    32         18  ...                            4   \n",
              "3                   0    15          8  ...                            7   \n",
              "4                   0    14          5  ...                            8   \n",
              "5                   0    15         10  ...                           10   \n",
              "6                   0    11          7  ...                           10   \n",
              "7                   0     9          5  ...                            5   \n",
              "8                   0    13          8  ...                            8   \n",
              "9                   0    19         10  ...                            7   \n",
              "10                  0    30         17  ...                            3   \n",
              "11                  0    21         12  ...                            3   \n",
              "12                  0    15          9  ...                            5   \n",
              "13                  0    14          8  ...                            3   \n",
              "14                  0    12          8  ...                            3   \n",
              "15                  0    10          6  ...                           12   \n",
              "16                  0     7          6  ...                            8   \n",
              "17                  0     9          6  ...                            9   \n",
              "18                  0     3          2  ...                            7   \n",
              "19                  0    16         10  ...                            5   \n",
              "\n",
              "    goals_conceded_min_71_to_80  goals_conceded_min_81_to_90  \\\n",
              "0                             1                            8   \n",
              "1                             8                           10   \n",
              "2                             2                            3   \n",
              "3                             1                            9   \n",
              "4                             8                           11   \n",
              "5                             5                            4   \n",
              "6                             4                           15   \n",
              "7                             4                           14   \n",
              "8                             6                           11   \n",
              "9                             7                            7   \n",
              "10                            3                            4   \n",
              "11                            4                            3   \n",
              "12                            6                           11   \n",
              "13                           12                            9   \n",
              "14                            6                           12   \n",
              "15                            3                           16   \n",
              "16                           10                           15   \n",
              "17                            9                            6   \n",
              "18                           13                           11   \n",
              "19                            7                            7   \n",
              "\n",
              "    draw_percentage_overall  draw_percentage_home  draw_percentage_away  \\\n",
              "0                        18                    16                    21   \n",
              "1                         5                    11                     0   \n",
              "2                         5                     0                    11   \n",
              "3                        18                    16                    21   \n",
              "4                        18                    26                    11   \n",
              "5                        24                    21                    26   \n",
              "6                        18                    11                    26   \n",
              "7                        32                    42                    21   \n",
              "8                        16                    26                     5   \n",
              "9                        24                    32                    16   \n",
              "10                       18                    11                    26   \n",
              "11                       24                    32                    16   \n",
              "12                       18                    21                    16   \n",
              "13                       21                    16                    26   \n",
              "14                       24                     5                    42   \n",
              "15                       11                    11                    11   \n",
              "16                       13                    16                    11   \n",
              "17                       24                    26                    21   \n",
              "18                       18                    16                    21   \n",
              "19                       24                    21                    26   \n",
              "\n",
              "    loss_percentage_ovearll  loss_percentage_home  loss_percentage_away  \\\n",
              "0                        26                    11                    42   \n",
              "1                        34                    26                    42   \n",
              "2                        11                     5                    16   \n",
              "3                        42                    42                    42   \n",
              "4                        45                    47                    42   \n",
              "5                        37                    26                    47   \n",
              "6                        53                    53                    53   \n",
              "7                        45                    32                    58   \n",
              "8                        50                    32                    68   \n",
              "9                        26                    16                    37   \n",
              "10                        3                     0                     5   \n",
              "11                       21                     5                    37   \n",
              "12                       42                    32                    53   \n",
              "13                       42                    42                    42   \n",
              "14                       45                    53                    37   \n",
              "15                       63                    58                    68   \n",
              "16                       68                    53                    84   \n",
              "17                       53                    42                    63   \n",
              "18                       74                    74                    74   \n",
              "19                       34                    26                    42   \n",
              "\n",
              "    over145_corners_percentage  \n",
              "0                            5  \n",
              "1                           11  \n",
              "2                            5  \n",
              "3                            5  \n",
              "4                           11  \n",
              "5                           11  \n",
              "6                            0  \n",
              "7                            8  \n",
              "8                           11  \n",
              "9                            8  \n",
              "10                           5  \n",
              "11                           3  \n",
              "12                           5  \n",
              "13                           8  \n",
              "14                          16  \n",
              "15                          16  \n",
              "16                           8  \n",
              "17                           5  \n",
              "18                           0  \n",
              "19                           8  \n",
              "\n",
              "[20 rows x 293 columns]"
            ],
            "text/html": [
              "\n",
              "  <div id=\"df-4cfdb222-ad7c-4b4b-a4b0-8f2b920e8623\" class=\"colab-df-container\">\n",
              "    <div>\n",
              "<style scoped>\n",
              "    .dataframe tbody tr th:only-of-type {\n",
              "        vertical-align: middle;\n",
              "    }\n",
              "\n",
              "    .dataframe tbody tr th {\n",
              "        vertical-align: top;\n",
              "    }\n",
              "\n",
              "    .dataframe thead th {\n",
              "        text-align: right;\n",
              "    }\n",
              "</style>\n",
              "<table border=\"1\" class=\"dataframe\">\n",
              "  <thead>\n",
              "    <tr style=\"text-align: right;\">\n",
              "      <th></th>\n",
              "      <th>team_name</th>\n",
              "      <th>common_name</th>\n",
              "      <th>season</th>\n",
              "      <th>country</th>\n",
              "      <th>matches_played</th>\n",
              "      <th>matches_played_home</th>\n",
              "      <th>matches_played_away</th>\n",
              "      <th>suspended_matches</th>\n",
              "      <th>wins</th>\n",
              "      <th>wins_home</th>\n",
              "      <th>...</th>\n",
              "      <th>goals_conceded_min_61_to_70</th>\n",
              "      <th>goals_conceded_min_71_to_80</th>\n",
              "      <th>goals_conceded_min_81_to_90</th>\n",
              "      <th>draw_percentage_overall</th>\n",
              "      <th>draw_percentage_home</th>\n",
              "      <th>draw_percentage_away</th>\n",
              "      <th>loss_percentage_ovearll</th>\n",
              "      <th>loss_percentage_home</th>\n",
              "      <th>loss_percentage_away</th>\n",
              "      <th>over145_corners_percentage</th>\n",
              "    </tr>\n",
              "  </thead>\n",
              "  <tbody>\n",
              "    <tr>\n",
              "      <th>0</th>\n",
              "      <td>Arsenal FC</td>\n",
              "      <td>Arsenal</td>\n",
              "      <td>2018/2019</td>\n",
              "      <td>England</td>\n",
              "      <td>38</td>\n",
              "      <td>19</td>\n",
              "      <td>19</td>\n",
              "      <td>0</td>\n",
              "      <td>21</td>\n",
              "      <td>14</td>\n",
              "      <td>...</td>\n",
              "      <td>12</td>\n",
              "      <td>1</td>\n",
              "      <td>8</td>\n",
              "      <td>18</td>\n",
              "      <td>16</td>\n",
              "      <td>21</td>\n",
              "      <td>26</td>\n",
              "      <td>11</td>\n",
              "      <td>42</td>\n",
              "      <td>5</td>\n",
              "    </tr>\n",
              "    <tr>\n",
              "      <th>1</th>\n",
              "      <td>Tottenham Hotspur FC</td>\n",
              "      <td>Tottenham Hotspur</td>\n",
              "      <td>2018/2019</td>\n",
              "      <td>England</td>\n",
              "      <td>38</td>\n",
              "      <td>19</td>\n",
              "      <td>19</td>\n",
              "      <td>0</td>\n",
              "      <td>23</td>\n",
              "      <td>12</td>\n",
              "      <td>...</td>\n",
              "      <td>4</td>\n",
              "      <td>8</td>\n",
              "      <td>10</td>\n",
              "      <td>5</td>\n",
              "      <td>11</td>\n",
              "      <td>0</td>\n",
              "      <td>34</td>\n",
              "      <td>26</td>\n",
              "      <td>42</td>\n",
              "      <td>11</td>\n",
              "    </tr>\n",
              "    <tr>\n",
              "      <th>2</th>\n",
              "      <td>Manchester City FC</td>\n",
              "      <td>Manchester City</td>\n",
              "      <td>2018/2019</td>\n",
              "      <td>England</td>\n",
              "      <td>38</td>\n",
              "      <td>19</td>\n",
              "      <td>19</td>\n",
              "      <td>0</td>\n",
              "      <td>32</td>\n",
              "      <td>18</td>\n",
              "      <td>...</td>\n",
              "      <td>4</td>\n",
              "      <td>2</td>\n",
              "      <td>3</td>\n",
              "      <td>5</td>\n",
              "      <td>0</td>\n",
              "      <td>11</td>\n",
              "      <td>11</td>\n",
              "      <td>5</td>\n",
              "      <td>16</td>\n",
              "      <td>5</td>\n",
              "    </tr>\n",
              "    <tr>\n",
              "      <th>3</th>\n",
              "      <td>Leicester City FC</td>\n",
              "      <td>Leicester City</td>\n",
              "      <td>2018/2019</td>\n",
              "      <td>England</td>\n",
              "      <td>38</td>\n",
              "      <td>19</td>\n",
              "      <td>19</td>\n",
              "      <td>0</td>\n",
              "      <td>15</td>\n",
              "      <td>8</td>\n",
              "      <td>...</td>\n",
              "      <td>7</td>\n",
              "      <td>1</td>\n",
              "      <td>9</td>\n",
              "      <td>18</td>\n",
              "      <td>16</td>\n",
              "      <td>21</td>\n",
              "      <td>42</td>\n",
              "      <td>42</td>\n",
              "      <td>42</td>\n",
              "      <td>5</td>\n",
              "    </tr>\n",
              "    <tr>\n",
              "      <th>4</th>\n",
              "      <td>Crystal Palace FC</td>\n",
              "      <td>Crystal Palace</td>\n",
              "      <td>2018/2019</td>\n",
              "      <td>England</td>\n",
              "      <td>38</td>\n",
              "      <td>19</td>\n",
              "      <td>19</td>\n",
              "      <td>0</td>\n",
              "      <td>14</td>\n",
              "      <td>5</td>\n",
              "      <td>...</td>\n",
              "      <td>8</td>\n",
              "      <td>8</td>\n",
              "      <td>11</td>\n",
              "      <td>18</td>\n",
              "      <td>26</td>\n",
              "      <td>11</td>\n",
              "      <td>45</td>\n",
              "      <td>47</td>\n",
              "      <td>42</td>\n",
              "      <td>11</td>\n",
              "    </tr>\n",
              "    <tr>\n",
              "      <th>5</th>\n",
              "      <td>Everton FC</td>\n",
              "      <td>Everton</td>\n",
              "      <td>2018/2019</td>\n",
              "      <td>England</td>\n",
              "      <td>38</td>\n",
              "      <td>19</td>\n",
              "      <td>19</td>\n",
              "      <td>0</td>\n",
              "      <td>15</td>\n",
              "      <td>10</td>\n",
              "      <td>...</td>\n",
              "      <td>10</td>\n",
              "      <td>5</td>\n",
              "      <td>4</td>\n",
              "      <td>24</td>\n",
              "      <td>21</td>\n",
              "      <td>26</td>\n",
              "      <td>37</td>\n",
              "      <td>26</td>\n",
              "      <td>47</td>\n",
              "      <td>11</td>\n",
              "    </tr>\n",
              "    <tr>\n",
              "      <th>6</th>\n",
              "      <td>Burnley FC</td>\n",
              "      <td>Burnley</td>\n",
              "      <td>2018/2019</td>\n",
              "      <td>England</td>\n",
              "      <td>38</td>\n",
              "      <td>19</td>\n",
              "      <td>19</td>\n",
              "      <td>0</td>\n",
              "      <td>11</td>\n",
              "      <td>7</td>\n",
              "      <td>...</td>\n",
              "      <td>10</td>\n",
              "      <td>4</td>\n",
              "      <td>15</td>\n",
              "      <td>18</td>\n",
              "      <td>11</td>\n",
              "      <td>26</td>\n",
              "      <td>53</td>\n",
              "      <td>53</td>\n",
              "      <td>53</td>\n",
              "      <td>0</td>\n",
              "    </tr>\n",
              "    <tr>\n",
              "      <th>7</th>\n",
              "      <td>Southampton FC</td>\n",
              "      <td>Southampton</td>\n",
              "      <td>2018/2019</td>\n",
              "      <td>England</td>\n",
              "      <td>38</td>\n",
              "      <td>19</td>\n",
              "      <td>19</td>\n",
              "      <td>0</td>\n",
              "      <td>9</td>\n",
              "      <td>5</td>\n",
              "      <td>...</td>\n",
              "      <td>5</td>\n",
              "      <td>4</td>\n",
              "      <td>14</td>\n",
              "      <td>32</td>\n",
              "      <td>42</td>\n",
              "      <td>21</td>\n",
              "      <td>45</td>\n",
              "      <td>32</td>\n",
              "      <td>58</td>\n",
              "      <td>8</td>\n",
              "    </tr>\n",
              "    <tr>\n",
              "      <th>8</th>\n",
              "      <td>AFC Bournemouth</td>\n",
              "      <td>AFC Bournemouth</td>\n",
              "      <td>2018/2019</td>\n",
              "      <td>England</td>\n",
              "      <td>38</td>\n",
              "      <td>19</td>\n",
              "      <td>19</td>\n",
              "      <td>0</td>\n",
              "      <td>13</td>\n",
              "      <td>8</td>\n",
              "      <td>...</td>\n",
              "      <td>8</td>\n",
              "      <td>6</td>\n",
              "      <td>11</td>\n",
              "      <td>16</td>\n",
              "      <td>26</td>\n",
              "      <td>5</td>\n",
              "      <td>50</td>\n",
              "      <td>32</td>\n",
              "      <td>68</td>\n",
              "      <td>11</td>\n",
              "    </tr>\n",
              "    <tr>\n",
              "      <th>9</th>\n",
              "      <td>Manchester United FC</td>\n",
              "      <td>Manchester United</td>\n",
              "      <td>2018/2019</td>\n",
              "      <td>England</td>\n",
              "      <td>38</td>\n",
              "      <td>19</td>\n",
              "      <td>19</td>\n",
              "      <td>0</td>\n",
              "      <td>19</td>\n",
              "      <td>10</td>\n",
              "      <td>...</td>\n",
              "      <td>7</td>\n",
              "      <td>7</td>\n",
              "      <td>7</td>\n",
              "      <td>24</td>\n",
              "      <td>32</td>\n",
              "      <td>16</td>\n",
              "      <td>26</td>\n",
              "      <td>16</td>\n",
              "      <td>37</td>\n",
              "      <td>8</td>\n",
              "    </tr>\n",
              "    <tr>\n",
              "      <th>10</th>\n",
              "      <td>Liverpool FC</td>\n",
              "      <td>Liverpool</td>\n",
              "      <td>2018/2019</td>\n",
              "      <td>England</td>\n",
              "      <td>38</td>\n",
              "      <td>19</td>\n",
              "      <td>19</td>\n",
              "      <td>0</td>\n",
              "      <td>30</td>\n",
              "      <td>17</td>\n",
              "      <td>...</td>\n",
              "      <td>3</td>\n",
              "      <td>3</td>\n",
              "      <td>4</td>\n",
              "      <td>18</td>\n",
              "      <td>11</td>\n",
              "      <td>26</td>\n",
              "      <td>3</td>\n",
              "      <td>0</td>\n",
              "      <td>5</td>\n",
              "      <td>5</td>\n",
              "    </tr>\n",
              "    <tr>\n",
              "      <th>11</th>\n",
              "      <td>Chelsea FC</td>\n",
              "      <td>Chelsea</td>\n",
              "      <td>2018/2019</td>\n",
              "      <td>England</td>\n",
              "      <td>38</td>\n",
              "      <td>19</td>\n",
              "      <td>19</td>\n",
              "      <td>0</td>\n",
              "      <td>21</td>\n",
              "      <td>12</td>\n",
              "      <td>...</td>\n",
              "      <td>3</td>\n",
              "      <td>4</td>\n",
              "      <td>3</td>\n",
              "      <td>24</td>\n",
              "      <td>32</td>\n",
              "      <td>16</td>\n",
              "      <td>21</td>\n",
              "      <td>5</td>\n",
              "      <td>37</td>\n",
              "      <td>3</td>\n",
              "    </tr>\n",
              "    <tr>\n",
              "      <th>12</th>\n",
              "      <td>West Ham United FC</td>\n",
              "      <td>West Ham United</td>\n",
              "      <td>2018/2019</td>\n",
              "      <td>England</td>\n",
              "      <td>38</td>\n",
              "      <td>19</td>\n",
              "      <td>19</td>\n",
              "      <td>0</td>\n",
              "      <td>15</td>\n",
              "      <td>9</td>\n",
              "      <td>...</td>\n",
              "      <td>5</td>\n",
              "      <td>6</td>\n",
              "      <td>11</td>\n",
              "      <td>18</td>\n",
              "      <td>21</td>\n",
              "      <td>16</td>\n",
              "      <td>42</td>\n",
              "      <td>32</td>\n",
              "      <td>53</td>\n",
              "      <td>5</td>\n",
              "    </tr>\n",
              "    <tr>\n",
              "      <th>13</th>\n",
              "      <td>Watford FC</td>\n",
              "      <td>Watford</td>\n",
              "      <td>2018/2019</td>\n",
              "      <td>England</td>\n",
              "      <td>38</td>\n",
              "      <td>19</td>\n",
              "      <td>19</td>\n",
              "      <td>0</td>\n",
              "      <td>14</td>\n",
              "      <td>8</td>\n",
              "      <td>...</td>\n",
              "      <td>3</td>\n",
              "      <td>12</td>\n",
              "      <td>9</td>\n",
              "      <td>21</td>\n",
              "      <td>16</td>\n",
              "      <td>26</td>\n",
              "      <td>42</td>\n",
              "      <td>42</td>\n",
              "      <td>42</td>\n",
              "      <td>8</td>\n",
              "    </tr>\n",
              "    <tr>\n",
              "      <th>14</th>\n",
              "      <td>Newcastle United FC</td>\n",
              "      <td>Newcastle United</td>\n",
              "      <td>2018/2019</td>\n",
              "      <td>England</td>\n",
              "      <td>38</td>\n",
              "      <td>19</td>\n",
              "      <td>19</td>\n",
              "      <td>0</td>\n",
              "      <td>12</td>\n",
              "      <td>8</td>\n",
              "      <td>...</td>\n",
              "      <td>3</td>\n",
              "      <td>6</td>\n",
              "      <td>12</td>\n",
              "      <td>24</td>\n",
              "      <td>5</td>\n",
              "      <td>42</td>\n",
              "      <td>45</td>\n",
              "      <td>53</td>\n",
              "      <td>37</td>\n",
              "      <td>16</td>\n",
              "    </tr>\n",
              "    <tr>\n",
              "      <th>15</th>\n",
              "      <td>Cardiff City FC</td>\n",
              "      <td>Cardiff City</td>\n",
              "      <td>2018/2019</td>\n",
              "      <td>Wales</td>\n",
              "      <td>38</td>\n",
              "      <td>19</td>\n",
              "      <td>19</td>\n",
              "      <td>0</td>\n",
              "      <td>10</td>\n",
              "      <td>6</td>\n",
              "      <td>...</td>\n",
              "      <td>12</td>\n",
              "      <td>3</td>\n",
              "      <td>16</td>\n",
              "      <td>11</td>\n",
              "      <td>11</td>\n",
              "      <td>11</td>\n",
              "      <td>63</td>\n",
              "      <td>58</td>\n",
              "      <td>68</td>\n",
              "      <td>16</td>\n",
              "    </tr>\n",
              "    <tr>\n",
              "      <th>16</th>\n",
              "      <td>Fulham FC</td>\n",
              "      <td>Fulham</td>\n",
              "      <td>2018/2019</td>\n",
              "      <td>England</td>\n",
              "      <td>38</td>\n",
              "      <td>19</td>\n",
              "      <td>19</td>\n",
              "      <td>0</td>\n",
              "      <td>7</td>\n",
              "      <td>6</td>\n",
              "      <td>...</td>\n",
              "      <td>8</td>\n",
              "      <td>10</td>\n",
              "      <td>15</td>\n",
              "      <td>13</td>\n",
              "      <td>16</td>\n",
              "      <td>11</td>\n",
              "      <td>68</td>\n",
              "      <td>53</td>\n",
              "      <td>84</td>\n",
              "      <td>8</td>\n",
              "    </tr>\n",
              "    <tr>\n",
              "      <th>17</th>\n",
              "      <td>Brighton &amp; Hove Albion FC</td>\n",
              "      <td>Brighton &amp; Hove Albion</td>\n",
              "      <td>2018/2019</td>\n",
              "      <td>England</td>\n",
              "      <td>38</td>\n",
              "      <td>19</td>\n",
              "      <td>19</td>\n",
              "      <td>0</td>\n",
              "      <td>9</td>\n",
              "      <td>6</td>\n",
              "      <td>...</td>\n",
              "      <td>9</td>\n",
              "      <td>9</td>\n",
              "      <td>6</td>\n",
              "      <td>24</td>\n",
              "      <td>26</td>\n",
              "      <td>21</td>\n",
              "      <td>53</td>\n",
              "      <td>42</td>\n",
              "      <td>63</td>\n",
              "      <td>5</td>\n",
              "    </tr>\n",
              "    <tr>\n",
              "      <th>18</th>\n",
              "      <td>Huddersfield Town FC</td>\n",
              "      <td>Huddersfield Town</td>\n",
              "      <td>2018/2019</td>\n",
              "      <td>England</td>\n",
              "      <td>38</td>\n",
              "      <td>19</td>\n",
              "      <td>19</td>\n",
              "      <td>0</td>\n",
              "      <td>3</td>\n",
              "      <td>2</td>\n",
              "      <td>...</td>\n",
              "      <td>7</td>\n",
              "      <td>13</td>\n",
              "      <td>11</td>\n",
              "      <td>18</td>\n",
              "      <td>16</td>\n",
              "      <td>21</td>\n",
              "      <td>74</td>\n",
              "      <td>74</td>\n",
              "      <td>74</td>\n",
              "      <td>0</td>\n",
              "    </tr>\n",
              "    <tr>\n",
              "      <th>19</th>\n",
              "      <td>Wolverhampton Wanderers FC</td>\n",
              "      <td>Wolverhampton Wanderers</td>\n",
              "      <td>2018/2019</td>\n",
              "      <td>England</td>\n",
              "      <td>38</td>\n",
              "      <td>19</td>\n",
              "      <td>19</td>\n",
              "      <td>0</td>\n",
              "      <td>16</td>\n",
              "      <td>10</td>\n",
              "      <td>...</td>\n",
              "      <td>5</td>\n",
              "      <td>7</td>\n",
              "      <td>7</td>\n",
              "      <td>24</td>\n",
              "      <td>21</td>\n",
              "      <td>26</td>\n",
              "      <td>34</td>\n",
              "      <td>26</td>\n",
              "      <td>42</td>\n",
              "      <td>8</td>\n",
              "    </tr>\n",
              "  </tbody>\n",
              "</table>\n",
              "<p>20 rows × 293 columns</p>\n",
              "</div>\n",
              "    <div class=\"colab-df-buttons\">\n",
              "\n",
              "  <div class=\"colab-df-container\">\n",
              "    <button class=\"colab-df-convert\" onclick=\"convertToInteractive('df-4cfdb222-ad7c-4b4b-a4b0-8f2b920e8623')\"\n",
              "            title=\"Convert this dataframe to an interactive table.\"\n",
              "            style=\"display:none;\">\n",
              "\n",
              "  <svg xmlns=\"http://www.w3.org/2000/svg\" height=\"24px\" viewBox=\"0 -960 960 960\">\n",
              "    <path d=\"M120-120v-720h720v720H120Zm60-500h600v-160H180v160Zm220 220h160v-160H400v160Zm0 220h160v-160H400v160ZM180-400h160v-160H180v160Zm440 0h160v-160H620v160ZM180-180h160v-160H180v160Zm440 0h160v-160H620v160Z\"/>\n",
              "  </svg>\n",
              "    </button>\n",
              "\n",
              "  <style>\n",
              "    .colab-df-container {\n",
              "      display:flex;\n",
              "      gap: 12px;\n",
              "    }\n",
              "\n",
              "    .colab-df-convert {\n",
              "      background-color: #E8F0FE;\n",
              "      border: none;\n",
              "      border-radius: 50%;\n",
              "      cursor: pointer;\n",
              "      display: none;\n",
              "      fill: #1967D2;\n",
              "      height: 32px;\n",
              "      padding: 0 0 0 0;\n",
              "      width: 32px;\n",
              "    }\n",
              "\n",
              "    .colab-df-convert:hover {\n",
              "      background-color: #E2EBFA;\n",
              "      box-shadow: 0px 1px 2px rgba(60, 64, 67, 0.3), 0px 1px 3px 1px rgba(60, 64, 67, 0.15);\n",
              "      fill: #174EA6;\n",
              "    }\n",
              "\n",
              "    .colab-df-buttons div {\n",
              "      margin-bottom: 4px;\n",
              "    }\n",
              "\n",
              "    [theme=dark] .colab-df-convert {\n",
              "      background-color: #3B4455;\n",
              "      fill: #D2E3FC;\n",
              "    }\n",
              "\n",
              "    [theme=dark] .colab-df-convert:hover {\n",
              "      background-color: #434B5C;\n",
              "      box-shadow: 0px 1px 3px 1px rgba(0, 0, 0, 0.15);\n",
              "      filter: drop-shadow(0px 1px 2px rgba(0, 0, 0, 0.3));\n",
              "      fill: #FFFFFF;\n",
              "    }\n",
              "  </style>\n",
              "\n",
              "    <script>\n",
              "      const buttonEl =\n",
              "        document.querySelector('#df-4cfdb222-ad7c-4b4b-a4b0-8f2b920e8623 button.colab-df-convert');\n",
              "      buttonEl.style.display =\n",
              "        google.colab.kernel.accessAllowed ? 'block' : 'none';\n",
              "\n",
              "      async function convertToInteractive(key) {\n",
              "        const element = document.querySelector('#df-4cfdb222-ad7c-4b4b-a4b0-8f2b920e8623');\n",
              "        const dataTable =\n",
              "          await google.colab.kernel.invokeFunction('convertToInteractive',\n",
              "                                                    [key], {});\n",
              "        if (!dataTable) return;\n",
              "\n",
              "        const docLinkHtml = 'Like what you see? Visit the ' +\n",
              "          '<a target=\"_blank\" href=https://colab.research.google.com/notebooks/data_table.ipynb>data table notebook</a>'\n",
              "          + ' to learn more about interactive tables.';\n",
              "        element.innerHTML = '';\n",
              "        dataTable['output_type'] = 'display_data';\n",
              "        await google.colab.output.renderOutput(dataTable, element);\n",
              "        const docLink = document.createElement('div');\n",
              "        docLink.innerHTML = docLinkHtml;\n",
              "        element.appendChild(docLink);\n",
              "      }\n",
              "    </script>\n",
              "  </div>\n",
              "\n",
              "\n",
              "<div id=\"df-7b389cbe-a2cc-4934-85af-de07e1878735\">\n",
              "  <button class=\"colab-df-quickchart\" onclick=\"quickchart('df-7b389cbe-a2cc-4934-85af-de07e1878735')\"\n",
              "            title=\"Suggest charts\"\n",
              "            style=\"display:none;\">\n",
              "\n",
              "<svg xmlns=\"http://www.w3.org/2000/svg\" height=\"24px\"viewBox=\"0 0 24 24\"\n",
              "     width=\"24px\">\n",
              "    <g>\n",
              "        <path d=\"M19 3H5c-1.1 0-2 .9-2 2v14c0 1.1.9 2 2 2h14c1.1 0 2-.9 2-2V5c0-1.1-.9-2-2-2zM9 17H7v-7h2v7zm4 0h-2V7h2v10zm4 0h-2v-4h2v4z\"/>\n",
              "    </g>\n",
              "</svg>\n",
              "  </button>\n",
              "\n",
              "<style>\n",
              "  .colab-df-quickchart {\n",
              "      --bg-color: #E8F0FE;\n",
              "      --fill-color: #1967D2;\n",
              "      --hover-bg-color: #E2EBFA;\n",
              "      --hover-fill-color: #174EA6;\n",
              "      --disabled-fill-color: #AAA;\n",
              "      --disabled-bg-color: #DDD;\n",
              "  }\n",
              "\n",
              "  [theme=dark] .colab-df-quickchart {\n",
              "      --bg-color: #3B4455;\n",
              "      --fill-color: #D2E3FC;\n",
              "      --hover-bg-color: #434B5C;\n",
              "      --hover-fill-color: #FFFFFF;\n",
              "      --disabled-bg-color: #3B4455;\n",
              "      --disabled-fill-color: #666;\n",
              "  }\n",
              "\n",
              "  .colab-df-quickchart {\n",
              "    background-color: var(--bg-color);\n",
              "    border: none;\n",
              "    border-radius: 50%;\n",
              "    cursor: pointer;\n",
              "    display: none;\n",
              "    fill: var(--fill-color);\n",
              "    height: 32px;\n",
              "    padding: 0;\n",
              "    width: 32px;\n",
              "  }\n",
              "\n",
              "  .colab-df-quickchart:hover {\n",
              "    background-color: var(--hover-bg-color);\n",
              "    box-shadow: 0 1px 2px rgba(60, 64, 67, 0.3), 0 1px 3px 1px rgba(60, 64, 67, 0.15);\n",
              "    fill: var(--button-hover-fill-color);\n",
              "  }\n",
              "\n",
              "  .colab-df-quickchart-complete:disabled,\n",
              "  .colab-df-quickchart-complete:disabled:hover {\n",
              "    background-color: var(--disabled-bg-color);\n",
              "    fill: var(--disabled-fill-color);\n",
              "    box-shadow: none;\n",
              "  }\n",
              "\n",
              "  .colab-df-spinner {\n",
              "    border: 2px solid var(--fill-color);\n",
              "    border-color: transparent;\n",
              "    border-bottom-color: var(--fill-color);\n",
              "    animation:\n",
              "      spin 1s steps(1) infinite;\n",
              "  }\n",
              "\n",
              "  @keyframes spin {\n",
              "    0% {\n",
              "      border-color: transparent;\n",
              "      border-bottom-color: var(--fill-color);\n",
              "      border-left-color: var(--fill-color);\n",
              "    }\n",
              "    20% {\n",
              "      border-color: transparent;\n",
              "      border-left-color: var(--fill-color);\n",
              "      border-top-color: var(--fill-color);\n",
              "    }\n",
              "    30% {\n",
              "      border-color: transparent;\n",
              "      border-left-color: var(--fill-color);\n",
              "      border-top-color: var(--fill-color);\n",
              "      border-right-color: var(--fill-color);\n",
              "    }\n",
              "    40% {\n",
              "      border-color: transparent;\n",
              "      border-right-color: var(--fill-color);\n",
              "      border-top-color: var(--fill-color);\n",
              "    }\n",
              "    60% {\n",
              "      border-color: transparent;\n",
              "      border-right-color: var(--fill-color);\n",
              "    }\n",
              "    80% {\n",
              "      border-color: transparent;\n",
              "      border-right-color: var(--fill-color);\n",
              "      border-bottom-color: var(--fill-color);\n",
              "    }\n",
              "    90% {\n",
              "      border-color: transparent;\n",
              "      border-bottom-color: var(--fill-color);\n",
              "    }\n",
              "  }\n",
              "</style>\n",
              "\n",
              "  <script>\n",
              "    async function quickchart(key) {\n",
              "      const quickchartButtonEl =\n",
              "        document.querySelector('#' + key + ' button');\n",
              "      quickchartButtonEl.disabled = true;  // To prevent multiple clicks.\n",
              "      quickchartButtonEl.classList.add('colab-df-spinner');\n",
              "      try {\n",
              "        const charts = await google.colab.kernel.invokeFunction(\n",
              "            'suggestCharts', [key], {});\n",
              "      } catch (error) {\n",
              "        console.error('Error during call to suggestCharts:', error);\n",
              "      }\n",
              "      quickchartButtonEl.classList.remove('colab-df-spinner');\n",
              "      quickchartButtonEl.classList.add('colab-df-quickchart-complete');\n",
              "    }\n",
              "    (() => {\n",
              "      let quickchartButtonEl =\n",
              "        document.querySelector('#df-7b389cbe-a2cc-4934-85af-de07e1878735 button');\n",
              "      quickchartButtonEl.style.display =\n",
              "        google.colab.kernel.accessAllowed ? 'block' : 'none';\n",
              "    })();\n",
              "  </script>\n",
              "</div>\n",
              "\n",
              "  <div id=\"id_a98887a3-469f-4f0d-ae85-3ccc9012305a\">\n",
              "    <style>\n",
              "      .colab-df-generate {\n",
              "        background-color: #E8F0FE;\n",
              "        border: none;\n",
              "        border-radius: 50%;\n",
              "        cursor: pointer;\n",
              "        display: none;\n",
              "        fill: #1967D2;\n",
              "        height: 32px;\n",
              "        padding: 0 0 0 0;\n",
              "        width: 32px;\n",
              "      }\n",
              "\n",
              "      .colab-df-generate:hover {\n",
              "        background-color: #E2EBFA;\n",
              "        box-shadow: 0px 1px 2px rgba(60, 64, 67, 0.3), 0px 1px 3px 1px rgba(60, 64, 67, 0.15);\n",
              "        fill: #174EA6;\n",
              "      }\n",
              "\n",
              "      [theme=dark] .colab-df-generate {\n",
              "        background-color: #3B4455;\n",
              "        fill: #D2E3FC;\n",
              "      }\n",
              "\n",
              "      [theme=dark] .colab-df-generate:hover {\n",
              "        background-color: #434B5C;\n",
              "        box-shadow: 0px 1px 3px 1px rgba(0, 0, 0, 0.15);\n",
              "        filter: drop-shadow(0px 1px 2px rgba(0, 0, 0, 0.3));\n",
              "        fill: #FFFFFF;\n",
              "      }\n",
              "    </style>\n",
              "    <button class=\"colab-df-generate\" onclick=\"generateWithVariable('futebol_ingles')\"\n",
              "            title=\"Generate code using this dataframe.\"\n",
              "            style=\"display:none;\">\n",
              "\n",
              "  <svg xmlns=\"http://www.w3.org/2000/svg\" height=\"24px\"viewBox=\"0 0 24 24\"\n",
              "       width=\"24px\">\n",
              "    <path d=\"M7,19H8.4L18.45,9,17,7.55,7,17.6ZM5,21V16.75L18.45,3.32a2,2,0,0,1,2.83,0l1.4,1.43a1.91,1.91,0,0,1,.58,1.4,1.91,1.91,0,0,1-.58,1.4L9.25,21ZM18.45,9,17,7.55Zm-12,3A5.31,5.31,0,0,0,4.9,8.1,5.31,5.31,0,0,0,1,6.5,5.31,5.31,0,0,0,4.9,4.9,5.31,5.31,0,0,0,6.5,1,5.31,5.31,0,0,0,8.1,4.9,5.31,5.31,0,0,0,12,6.5,5.46,5.46,0,0,0,6.5,12Z\"/>\n",
              "  </svg>\n",
              "    </button>\n",
              "    <script>\n",
              "      (() => {\n",
              "      const buttonEl =\n",
              "        document.querySelector('#id_a98887a3-469f-4f0d-ae85-3ccc9012305a button.colab-df-generate');\n",
              "      buttonEl.style.display =\n",
              "        google.colab.kernel.accessAllowed ? 'block' : 'none';\n",
              "\n",
              "      buttonEl.onclick = () => {\n",
              "        google.colab.notebook.generateWithVariable('futebol_ingles');\n",
              "      }\n",
              "      })();\n",
              "    </script>\n",
              "  </div>\n",
              "\n",
              "    </div>\n",
              "  </div>\n"
            ],
            "application/vnd.google.colaboratory.intrinsic+json": {
              "type": "dataframe",
              "variable_name": "futebol_ingles"
            }
          },
          "metadata": {}
        }
      ]
    },
    {
      "cell_type": "code",
      "source": [
        "futebol_ingles['common_name'].unique()"
      ],
      "metadata": {
        "colab": {
          "base_uri": "https://localhost:8080/"
        },
        "id": "4GeHXket3JWo",
        "outputId": "1cf6442f-05cf-41c2-e444-29d8b5f861d3"
      },
      "execution_count": 72,
      "outputs": [
        {
          "output_type": "execute_result",
          "data": {
            "text/plain": [
              "array(['Arsenal', 'Tottenham Hotspur', 'Manchester City',\n",
              "       'Leicester City', 'Crystal Palace', 'Everton', 'Burnley',\n",
              "       'Southampton', 'AFC Bournemouth', 'Manchester United', 'Liverpool',\n",
              "       'Chelsea', 'West Ham United', 'Watford', 'Newcastle United',\n",
              "       'Cardiff City', 'Fulham', 'Brighton & Hove Albion',\n",
              "       'Huddersfield Town', 'Wolverhampton Wanderers'], dtype=object)"
            ]
          },
          "metadata": {},
          "execution_count": 72
        }
      ]
    },
    {
      "cell_type": "code",
      "source": [
        "plt.hist(futebol_ingles['wins'], bins = 5, edgecolor = 'white')\n",
        "plt.title('Histograma de Vitórias')\n",
        "plt.xlabel('Vitórias')\n",
        "plt.ylabel('Frequência')\n",
        "plt.show()"
      ],
      "metadata": {
        "colab": {
          "base_uri": "https://localhost:8080/",
          "height": 472
        },
        "id": "qL2Anvyn3vUQ",
        "outputId": "84063494-0ec3-4331-f737-1fab789aa5b0"
      },
      "execution_count": 78,
      "outputs": [
        {
          "output_type": "display_data",
          "data": {
            "text/plain": [
              "<Figure size 640x480 with 1 Axes>"
            ],
            "image/png": "[encoded data removed]"
          },
          "metadata": {}
        }
      ]
    },
    {
      "cell_type": "code",
      "source": [
        "plt.hist(futebol_ingles['wins_home'], bins = 5, edgecolor = 'white', color = 'orange')\n",
        "plt.title('Histograma Vitórias em Casa')\n",
        "plt.xlabel('Vitórias em Casa')\n",
        "plt.ylabel('Frequência')\n",
        "plt.show()"
      ],
      "metadata": {
        "colab": {
          "base_uri": "https://localhost:8080/",
          "height": 472
        },
        "id": "E1dQqgYB4NZ3",
        "outputId": "2461fbde-a45c-4afd-a49a-1224793457ee"
      },
      "execution_count": 81,
      "outputs": [
        {
          "output_type": "display_data",
          "data": {
            "text/plain": [
              "<Figure size 640x480 with 1 Axes>"
            ],
            "image/png": "[encoded data removed]"
          },
          "metadata": {}
        }
      ]
    }
  ]
}